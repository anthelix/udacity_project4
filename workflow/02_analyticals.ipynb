{
 "cells": [
  {
   "cell_type": "code",
   "execution_count": 1,
   "metadata": {},
   "outputs": [
    {
     "name": "stdout",
     "output_type": "stream",
     "text": [
      "Collecting spark-nlp==1.7.3\n",
      "  Downloading spark_nlp-1.7.3-py2.py3-none-any.whl (72.8 MB)\n",
      "\u001b[K     |████████████████████████████████| 72.8 MB 78 kB/s s eta 0:00:01\n",
      "\u001b[?25hInstalling collected packages: spark-nlp\n",
      "Successfully installed spark-nlp-1.7.3\n",
      "openjdk version \"1.8.0_242\"\n",
      "OpenJDK Runtime Environment (build 1.8.0_242-8u242-b08-0ubuntu3~18.04-b08)\n",
      "OpenJDK 64-Bit Server VM (build 25.242-b08, mixed mode)\n",
      "Python 3.7.6\n"
     ]
    }
   ],
   "source": [
    "!pip install spark-nlp==1.7.3\n",
    "!java -version\n",
    "!python --version"
   ]
  },
  {
   "cell_type": "code",
   "execution_count": null,
   "metadata": {},
   "outputs": [],
   "source": []
  },
  {
   "cell_type": "code",
   "execution_count": 2,
   "metadata": {},
   "outputs": [],
   "source": [
    "import psycopg2\n",
    "from pyspark.sql import SparkSession\n",
    "from pyspark.sql.types import StringType\n"
   ]
  },
  {
   "cell_type": "code",
   "execution_count": 3,
   "metadata": {},
   "outputs": [],
   "source": [
    "def create_spark_session():\n",
    "    \"\"\"\n",
    "        Create or load a Spark session\n",
    "    \"\"\"\n",
    "    spark = SparkSession \\\n",
    "        .builder \\\n",
    "        .config(\"spark.jars.packages\", \"org.apache.hadoop:hadoop-aws:2.7.0\") \\\n",
    "        .getOrCreate()\n",
    "    return spark\n",
    "\n",
    "spark = create_spark_session()"
   ]
  },
  {
   "cell_type": "code",
   "execution_count": 4,
   "metadata": {},
   "outputs": [],
   "source": [
    "def check_parquet(parquet_path):\n",
    "    ! ls 2>&1 -lh $parquet_path | head -10\n",
    "    ! echo 'Parquet Files:' $(ls | wc -l)\n",
    "    table_parquet = spark.read.parquet(parquet_path)\n",
    "    print('DataFrame rows: %d' % table_parquet.count())\n",
    "    print('DataFrame schema: %s' % table_parquet)\n",
    "    table_parquet.show(5, False)\n",
    "    return table_parquet"
   ]
  },
  {
   "cell_type": "code",
   "execution_count": 5,
   "metadata": {},
   "outputs": [
    {
     "name": "stdout",
     "output_type": "stream",
     "text": [
      "total 4.0K\n",
      "-rw-r--r-- 1 anthelix users    0 Mar 27 15:35 _SUCCESS\n",
      "drwxr-xr-x 3 anthelix users 4.0K Mar 27 15:35 year=2018\n",
      "Parquet Files: 15\n",
      "DataFrame rows: 21\n",
      "DataFrame schema: DataFrame[songplay_id: bigint, start_time: timestamp, user_id: bigint, level: string, song_id: string, artist_id: string, session_id: string, location: string, user_agent: string, year: int, month: int]\n",
      "+-----------+-----------------------+-------+-----+------------------+------------------+----------+---------------------------------------+-----------------------------------------------------------------------------------------------------------------------------------------+----+-----+\n",
      "|songplay_id|start_time             |user_id|level|song_id           |artist_id         |session_id|location                               |user_agent                                                                                                                               |year|month|\n",
      "+-----------+-----------------------+-------+-----+------------------+------------------+----------+---------------------------------------+-----------------------------------------------------------------------------------------------------------------------------------------+----+-----+\n",
      "|1          |2018-11-21 21:56:47.796|15     |paid |SOZCTXZ12AB0182364|AR5KOSW1187FB35FF4|818       |Chicago-Naperville-Elgin, IL-IN-WI     |\"Mozilla/5.0 (X11; Linux x86_64) AppleWebKit/537.36 (KHTML, like Gecko) Ubuntu Chromium/36.0.1985.125 Chrome/36.0.1985.125 Safari/537.36\"|2018|11   |\n",
      "|8589934592 |2018-11-24 03:48:21.796|88     |paid |SONWXQJ12A8C134D94|ARNF6401187FB57032|888       |Sacramento--Roseville--Arden-Arcade, CA|\"Mozilla/5.0 (Macintosh; Intel Mac OS X 10_9_4) AppleWebKit/537.36 (KHTML, like Gecko) Chrome/36.0.1985.143 Safari/537.36\"               |2018|11   |\n",
      "|17179869187|2018-11-17 15:37:12.796|73     |paid |SOBONFF12A6D4F84D8|ARIK43K1187B9AE54C|518       |Tampa-St. Petersburg-Clearwater, FL    |\"Mozilla/5.0 (Macintosh; Intel Mac OS X 10_9_4) AppleWebKit/537.78.2 (KHTML, like Gecko) Version/7.0.6 Safari/537.78.2\"                  |2018|11   |\n",
      "|8589934598 |2018-11-26 17:57:10.796|29     |paid |SOQVMXR12A81C21483|ARKULSX1187FB45F84|924       |Atlanta-Sandy Springs-Roswell, GA      |\"Mozilla/5.0 (Macintosh; Intel Mac OS X 10_9_4) AppleWebKit/537.78.2 (KHTML, like Gecko) Version/7.0.6 Safari/537.78.2\"                  |2018|11   |\n",
      "|25769803780|2018-11-11 20:19:18.796|80     |paid |SOWTBJW12AC468AC6E|ARQGYP71187FB44566|435       |Portland-South Portland, ME            |\"Mozilla/5.0 (Macintosh; Intel Mac OS X 10_9_4) AppleWebKit/537.36 (KHTML, like Gecko) Chrome/36.0.1985.143 Safari/537.36\"               |2018|11   |\n",
      "+-----------+-----------------------+-------+-----+------------------+------------------+----------+---------------------------------------+-----------------------------------------------------------------------------------------------------------------------------------------+----+-----+\n",
      "only showing top 5 rows\n",
      "\n"
     ]
    }
   ],
   "source": [
    "parquet_path = 'output/songplays_table'\n",
    "songplays_table = check_parquet(parquet_path)"
   ]
  },
  {
   "cell_type": "code",
   "execution_count": 6,
   "metadata": {},
   "outputs": [
    {
     "name": "stdout",
     "output_type": "stream",
     "text": [
      "total 4.0K\n",
      "-rw-r--r-- 1 anthelix users    0 Mar 27 15:35 _SUCCESS\n",
      "drwxr-xr-x 3 anthelix users 4.0K Mar 27 15:35 year=2018\n",
      "Parquet Files: 15\n",
      "DataFrame rows: 6813\n",
      "DataFrame schema: DataFrame[start_time: timestamp, hour: int, day: int, week: int, weekday: string, year: int, month: int]\n",
      "+-----------------------+----+---+----+-------+----+-----+\n",
      "|start_time             |hour|day|week|weekday|year|month|\n",
      "+-----------------------+----+---+----+-------+----+-----+\n",
      "|2018-11-10 17:50:52.796|17  |10 |45  |7      |2018|11   |\n",
      "|2018-11-10 18:15:27.796|18  |10 |45  |7      |2018|11   |\n",
      "|2018-11-10 19:08:52.796|19  |10 |45  |7      |2018|11   |\n",
      "|2018-11-10 19:10:48.796|19  |10 |45  |7      |2018|11   |\n",
      "|2018-11-10 19:14:26.796|19  |10 |45  |7      |2018|11   |\n",
      "+-----------------------+----+---+----+-------+----+-----+\n",
      "only showing top 5 rows\n",
      "\n"
     ]
    }
   ],
   "source": [
    "parquet_path = 'output/time_table'\n",
    "time_table = check_parquet(parquet_path)"
   ]
  },
  {
   "cell_type": "code",
   "execution_count": 7,
   "metadata": {},
   "outputs": [
    {
     "name": "stdout",
     "output_type": "stream",
     "text": [
      "total 84K\n",
      "-rw-r--r--  1 anthelix users    0 Mar 27 15:34 _SUCCESS\n",
      "drwxr-xr-x 43 anthelix users 4.0K Mar 27 15:34 year=0\n",
      "drwxr-xr-x  3 anthelix users 4.0K Mar 27 15:34 year=1961\n",
      "drwxr-xr-x  3 anthelix users 4.0K Mar 27 15:34 year=1964\n",
      "drwxr-xr-x  3 anthelix users 4.0K Mar 27 15:34 year=1969\n",
      "drwxr-xr-x  3 anthelix users 4.0K Mar 27 15:34 year=1972\n",
      "drwxr-xr-x  3 anthelix users 4.0K Mar 27 15:34 year=1982\n",
      "drwxr-xr-x  3 anthelix users 4.0K Mar 27 15:34 year=1984\n",
      "drwxr-xr-x  3 anthelix users 4.0K Mar 27 15:34 year=1985\n",
      "Parquet Files: 15\n",
      "DataFrame rows: 71\n",
      "DataFrame schema: DataFrame[song_id: string, title: string, duration: float, year: int, artist_id: string]\n",
      "+------------------+----------------------------------------------------+---------+----+------------------+\n",
      "|song_id           |title                                               |duration |year|artist_id         |\n",
      "+------------------+----------------------------------------------------+---------+----+------------------+\n",
      "|SOAOIBZ12AB01815BE|I Hold Your Hand In Mine [Live At Royal Albert Hall]|43.36281 |2000|ARPBNLO1187FB3D52F|\n",
      "|SONYPOM12A8C13B2D7|I Think My Wife Is Running Around On Me (Taco Hell) |186.48772|2005|ARDNS031187B9924F0|\n",
      "|SODREIN12A58A7F2E5|A Whiter Shade Of Pale (Live @ Fillmore West)       |326.00772|0   |ARLTWXK1187FB5A3F8|\n",
      "|SOYMRWW12A6D4FAB14|The Moon And I (Ordinary Day Album Version)         |267.7024 |0   |ARKFYS91187B98E58F|\n",
      "|SOWQTQZ12A58A7B63E|Streets On Fire (Explicit Album Version)            |279.97995|0   |ARPFHN61187FB575F6|\n",
      "+------------------+----------------------------------------------------+---------+----+------------------+\n",
      "only showing top 5 rows\n",
      "\n"
     ]
    }
   ],
   "source": [
    "parquet_path = 'output/songs_table'\n",
    "songs_table = check_parquet(parquet_path)"
   ]
  },
  {
   "cell_type": "code",
   "execution_count": 8,
   "metadata": {},
   "outputs": [
    {
     "name": "stdout",
     "output_type": "stream",
     "text": [
      "total 4.0K\n",
      "-rw-r--r-- 1 anthelix users 3.5K Mar 27 15:35 part-00000-2b27c1a1-41ea-4026-9bff-e2c83f8e34a5-c000.snappy.parquet\n",
      "-rw-r--r-- 1 anthelix users    0 Mar 27 15:35 _SUCCESS\n",
      "Parquet Files: 15\n",
      "DataFrame rows: 96\n",
      "DataFrame schema: DataFrame[user_id: bigint, first_name: string, last_name: string, gender: string, level: string]\n",
      "+-------+----------+---------+------+-----+\n",
      "|user_id|first_name|last_name|gender|level|\n",
      "+-------+----------+---------+------+-----+\n",
      "|2      |Jizelle   |Benjamin |F     |free |\n",
      "|3      |Isaac     |Valdez   |M     |free |\n",
      "|4      |Alivia    |Terrell  |F     |free |\n",
      "|5      |Elijah    |Davis    |M     |free |\n",
      "|6      |Cecilia   |Owens    |F     |free |\n",
      "+-------+----------+---------+------+-----+\n",
      "only showing top 5 rows\n",
      "\n"
     ]
    }
   ],
   "source": [
    "parquet_path = 'output/users_table'\n",
    "users_table = check_parquet(parquet_path)"
   ]
  },
  {
   "cell_type": "code",
   "execution_count": 9,
   "metadata": {},
   "outputs": [
    {
     "name": "stdout",
     "output_type": "stream",
     "text": [
      "total 276K\n",
      "-rw-r--r-- 1 anthelix users 1.3K Mar 27 15:34 part-00000-794f61a5-648a-4b82-8c20-0837d0471a1f-c000.snappy.parquet\n",
      "-rw-r--r-- 1 anthelix users 1.5K Mar 27 15:34 part-00001-794f61a5-648a-4b82-8c20-0837d0471a1f-c000.snappy.parquet\n",
      "-rw-r--r-- 1 anthelix users 1.6K Mar 27 15:34 part-00002-794f61a5-648a-4b82-8c20-0837d0471a1f-c000.snappy.parquet\n",
      "-rw-r--r-- 1 anthelix users 1.7K Mar 27 15:34 part-00003-794f61a5-648a-4b82-8c20-0837d0471a1f-c000.snappy.parquet\n",
      "-rw-r--r-- 1 anthelix users 1.5K Mar 27 15:34 part-00004-794f61a5-648a-4b82-8c20-0837d0471a1f-c000.snappy.parquet\n",
      "-rw-r--r-- 1 anthelix users 1.4K Mar 27 15:34 part-00005-794f61a5-648a-4b82-8c20-0837d0471a1f-c000.snappy.parquet\n",
      "-rw-r--r-- 1 anthelix users 1.5K Mar 27 15:34 part-00006-794f61a5-648a-4b82-8c20-0837d0471a1f-c000.snappy.parquet\n",
      "-rw-r--r-- 1 anthelix users 1.6K Mar 27 15:34 part-00007-794f61a5-648a-4b82-8c20-0837d0471a1f-c000.snappy.parquet\n",
      "-rw-r--r-- 1 anthelix users 1.5K Mar 27 15:34 part-00008-794f61a5-648a-4b82-8c20-0837d0471a1f-c000.snappy.parquet\n",
      "Parquet Files: 15\n",
      "DataFrame rows: 69\n",
      "DataFrame schema: DataFrame[artist_id: string, name: string, location: string, latitude: float, longitude: float]\n",
      "+------------------+----------------------------------------------------------------------------------------------+-----------------------------+--------+---------+\n",
      "|artist_id         |name                                                                                          |location                     |latitude|longitude|\n",
      "+------------------+----------------------------------------------------------------------------------------------+-----------------------------+--------+---------+\n",
      "|ARDR4AC1187FB371A1|Montserrat Caballé;Placido Domingo;Vicente Sardinero;Judith Blegen;Sherrill Milnes;Georg Solti|                             |null    |null     |\n",
      "|AREBBGV1187FB523D2|Mike Jones (Featuring CJ_ Mello & Lil' Bran)                                                  |Houston, TX                  |null    |null     |\n",
      "|ARMAC4T1187FB3FA4C|The Dillinger Escape Plan                                                                     |Morris Plains, NJ            |40.82624|-74.47995|\n",
      "|ARNF6401187FB57032|Sophie B. Hawkins                                                                             |New York, NY [Manhattan]     |40.79086|-73.96644|\n",
      "|AROUOZZ1187B9ABE51|Willie Bobo                                                                                   |New York, NY [Spanish Harlem]|40.79195|-73.94512|\n",
      "+------------------+----------------------------------------------------------------------------------------------+-----------------------------+--------+---------+\n",
      "only showing top 5 rows\n",
      "\n"
     ]
    }
   ],
   "source": [
    "parquet_path = 'output/artists_table'\n",
    "artists_table = check_parquet(parquet_path)"
   ]
  },
  {
   "cell_type": "markdown",
   "metadata": {},
   "source": [
    "## Make some queries directly to the parquet files. "
   ]
  },
  {
   "cell_type": "code",
   "execution_count": 10,
   "metadata": {},
   "outputs": [
    {
     "name": "stdout",
     "output_type": "stream",
     "text": [
      "+--------------------+----+---+----+-------+----+-----+\n",
      "|          start_time|hour|day|week|weekday|year|month|\n",
      "+--------------------+----+---+----+-------+----+-----+\n",
      "|2018-11-10 17:50:...|  17| 10|  45|      7|2018|   11|\n",
      "|2018-11-10 18:15:...|  18| 10|  45|      7|2018|   11|\n",
      "|2018-11-10 19:08:...|  19| 10|  45|      7|2018|   11|\n",
      "|2018-11-10 19:10:...|  19| 10|  45|      7|2018|   11|\n",
      "|2018-11-10 19:14:...|  19| 10|  45|      7|2018|   11|\n",
      "+--------------------+----+---+----+-------+----+-----+\n",
      "only showing top 5 rows\n",
      "\n"
     ]
    }
   ],
   "source": [
    "parquet_path = 'output/time_table'\n",
    "parq_songplays = spark.read.parquet(parquet_path)\n",
    "parq_songplays.createOrReplaceTempView(\"tmp_time\")\n",
    "df = spark.sql(\"select * from tmp_time where year='2018' and month >= 10\")\n",
    "df.show(5)"
   ]
  },
  {
   "cell_type": "code",
   "execution_count": 11,
   "metadata": {},
   "outputs": [
    {
     "name": "stdout",
     "output_type": "stream",
     "text": [
      "+--------------------+----+---+----+-------+----+-----+\n",
      "|          start_time|hour|day|week|weekday|year|month|\n",
      "+--------------------+----+---+----+-------+----+-----+\n",
      "|2018-11-10 17:50:...|  17| 10|  45|      7|2018|   11|\n",
      "|2018-11-10 18:15:...|  18| 10|  45|      7|2018|   11|\n",
      "|2018-11-10 19:08:...|  19| 10|  45|      7|2018|   11|\n",
      "|2018-11-10 19:10:...|  19| 10|  45|      7|2018|   11|\n",
      "|2018-11-10 19:14:...|  19| 10|  45|      7|2018|   11|\n",
      "+--------------------+----+---+----+-------+----+-----+\n",
      "only showing top 5 rows\n",
      "\n"
     ]
    }
   ],
   "source": [
    "parquet_path = 'output/time_table'\n",
    "parq_songplays = spark.read.parquet(parquet_path)\n",
    "parq_songplays.createOrReplaceTempView(\"tmp_time\")\n",
    "df = spark.sql(\"select * from tmp_time where year='2018' and month >= 10\")\n",
    "df.show(5)"
   ]
  },
  {
   "cell_type": "code",
   "execution_count": 12,
   "metadata": {},
   "outputs": [
    {
     "name": "stdout",
     "output_type": "stream",
     "text": [
      "+-----------+--------------------+-------+-----+------------------+------------------+----------+--------------------+--------------------+----+-----+\n",
      "|songplay_id|          start_time|user_id|level|           song_id|         artist_id|session_id|            location|          user_agent|year|month|\n",
      "+-----------+--------------------+-------+-----+------------------+------------------+----------+--------------------+--------------------+----+-----+\n",
      "|          1|2018-11-21 21:56:...|     15| paid|SOZCTXZ12AB0182364|AR5KOSW1187FB35FF4|       818|Chicago-Napervill...|\"Mozilla/5.0 (X11...|2018|   11|\n",
      "| 8589934592|2018-11-24 03:48:...|     88| paid|SONWXQJ12A8C134D94|ARNF6401187FB57032|       888|Sacramento--Rosev...|\"Mozilla/5.0 (Mac...|2018|   11|\n",
      "|17179869187|2018-11-17 15:37:...|     73| paid|SOBONFF12A6D4F84D8|ARIK43K1187B9AE54C|       518|Tampa-St. Petersb...|\"Mozilla/5.0 (Mac...|2018|   11|\n",
      "| 8589934598|2018-11-26 17:57:...|     29| paid|SOQVMXR12A81C21483|ARKULSX1187FB45F84|       924|Atlanta-Sandy Spr...|\"Mozilla/5.0 (Mac...|2018|   11|\n",
      "|25769803780|2018-11-11 20:19:...|     80| paid|SOWTBJW12AC468AC6E|ARQGYP71187FB44566|       435|Portland-South Po...|\"Mozilla/5.0 (Mac...|2018|   11|\n",
      "+-----------+--------------------+-------+-----+------------------+------------------+----------+--------------------+--------------------+----+-----+\n",
      "only showing top 5 rows\n",
      "\n"
     ]
    }
   ],
   "source": [
    "parquet_path = 'output/songplays_table'\n",
    "parq_songplays = spark.read.parquet(parquet_path)\n",
    "parq_songplays.createOrReplaceTempView(\"tmp_songplay\")\n",
    "df = spark.sql(\"select * from tmp_songplay where year='2018' and month >= 10\")\n",
    "df.show(5)"
   ]
  },
  {
   "cell_type": "markdown",
   "metadata": {},
   "source": [
    "## Business Questions\n",
    "\n",
    "* What are the busiest days of the week?\n",
    "* What are the busiest times of the day?\n",
    "* What are the top songs?"
   ]
  },
  {
   "cell_type": "code",
   "execution_count": 13,
   "metadata": {},
   "outputs": [
    {
     "data": {
      "text/html": [
       "\n",
       "    <div class=\"bk-root\">\n",
       "        <a href=\"https://bokeh.org\" target=\"_blank\" class=\"bk-logo bk-logo-small bk-logo-notebook\"></a>\n",
       "        <span id=\"1001\">Loading BokehJS ...</span>\n",
       "    </div>"
      ]
     },
     "metadata": {},
     "output_type": "display_data"
    },
    {
     "data": {
      "application/javascript": [
       "\n",
       "(function(root) {\n",
       "  function now() {\n",
       "    return new Date();\n",
       "  }\n",
       "\n",
       "  var force = true;\n",
       "\n",
       "  if (typeof root._bokeh_onload_callbacks === \"undefined\" || force === true) {\n",
       "    root._bokeh_onload_callbacks = [];\n",
       "    root._bokeh_is_loading = undefined;\n",
       "  }\n",
       "\n",
       "  var JS_MIME_TYPE = 'application/javascript';\n",
       "  var HTML_MIME_TYPE = 'text/html';\n",
       "  var EXEC_MIME_TYPE = 'application/vnd.bokehjs_exec.v0+json';\n",
       "  var CLASS_NAME = 'output_bokeh rendered_html';\n",
       "\n",
       "  /**\n",
       "   * Render data to the DOM node\n",
       "   */\n",
       "  function render(props, node) {\n",
       "    var script = document.createElement(\"script\");\n",
       "    node.appendChild(script);\n",
       "  }\n",
       "\n",
       "  /**\n",
       "   * Handle when an output is cleared or removed\n",
       "   */\n",
       "  function handleClearOutput(event, handle) {\n",
       "    var cell = handle.cell;\n",
       "\n",
       "    var id = cell.output_area._bokeh_element_id;\n",
       "    var server_id = cell.output_area._bokeh_server_id;\n",
       "    // Clean up Bokeh references\n",
       "    if (id != null && id in Bokeh.index) {\n",
       "      Bokeh.index[id].model.document.clear();\n",
       "      delete Bokeh.index[id];\n",
       "    }\n",
       "\n",
       "    if (server_id !== undefined) {\n",
       "      // Clean up Bokeh references\n",
       "      var cmd = \"from bokeh.io.state import curstate; print(curstate().uuid_to_server['\" + server_id + \"'].get_sessions()[0].document.roots[0]._id)\";\n",
       "      cell.notebook.kernel.execute(cmd, {\n",
       "        iopub: {\n",
       "          output: function(msg) {\n",
       "            var id = msg.content.text.trim();\n",
       "            if (id in Bokeh.index) {\n",
       "              Bokeh.index[id].model.document.clear();\n",
       "              delete Bokeh.index[id];\n",
       "            }\n",
       "          }\n",
       "        }\n",
       "      });\n",
       "      // Destroy server and session\n",
       "      var cmd = \"import bokeh.io.notebook as ion; ion.destroy_server('\" + server_id + \"')\";\n",
       "      cell.notebook.kernel.execute(cmd);\n",
       "    }\n",
       "  }\n",
       "\n",
       "  /**\n",
       "   * Handle when a new output is added\n",
       "   */\n",
       "  function handleAddOutput(event, handle) {\n",
       "    var output_area = handle.output_area;\n",
       "    var output = handle.output;\n",
       "\n",
       "    // limit handleAddOutput to display_data with EXEC_MIME_TYPE content only\n",
       "    if ((output.output_type != \"display_data\") || (!output.data.hasOwnProperty(EXEC_MIME_TYPE))) {\n",
       "      return\n",
       "    }\n",
       "\n",
       "    var toinsert = output_area.element.find(\".\" + CLASS_NAME.split(' ')[0]);\n",
       "\n",
       "    if (output.metadata[EXEC_MIME_TYPE][\"id\"] !== undefined) {\n",
       "      toinsert[toinsert.length - 1].firstChild.textContent = output.data[JS_MIME_TYPE];\n",
       "      // store reference to embed id on output_area\n",
       "      output_area._bokeh_element_id = output.metadata[EXEC_MIME_TYPE][\"id\"];\n",
       "    }\n",
       "    if (output.metadata[EXEC_MIME_TYPE][\"server_id\"] !== undefined) {\n",
       "      var bk_div = document.createElement(\"div\");\n",
       "      bk_div.innerHTML = output.data[HTML_MIME_TYPE];\n",
       "      var script_attrs = bk_div.children[0].attributes;\n",
       "      for (var i = 0; i < script_attrs.length; i++) {\n",
       "        toinsert[toinsert.length - 1].firstChild.setAttribute(script_attrs[i].name, script_attrs[i].value);\n",
       "        toinsert[toinsert.length - 1].firstChild.textContent = bk_div.children[0].textContent\n",
       "      }\n",
       "      // store reference to server id on output_area\n",
       "      output_area._bokeh_server_id = output.metadata[EXEC_MIME_TYPE][\"server_id\"];\n",
       "    }\n",
       "  }\n",
       "\n",
       "  function register_renderer(events, OutputArea) {\n",
       "\n",
       "    function append_mime(data, metadata, element) {\n",
       "      // create a DOM node to render to\n",
       "      var toinsert = this.create_output_subarea(\n",
       "        metadata,\n",
       "        CLASS_NAME,\n",
       "        EXEC_MIME_TYPE\n",
       "      );\n",
       "      this.keyboard_manager.register_events(toinsert);\n",
       "      // Render to node\n",
       "      var props = {data: data, metadata: metadata[EXEC_MIME_TYPE]};\n",
       "      render(props, toinsert[toinsert.length - 1]);\n",
       "      element.append(toinsert);\n",
       "      return toinsert\n",
       "    }\n",
       "\n",
       "    /* Handle when an output is cleared or removed */\n",
       "    events.on('clear_output.CodeCell', handleClearOutput);\n",
       "    events.on('delete.Cell', handleClearOutput);\n",
       "\n",
       "    /* Handle when a new output is added */\n",
       "    events.on('output_added.OutputArea', handleAddOutput);\n",
       "\n",
       "    /**\n",
       "     * Register the mime type and append_mime function with output_area\n",
       "     */\n",
       "    OutputArea.prototype.register_mime_type(EXEC_MIME_TYPE, append_mime, {\n",
       "      /* Is output safe? */\n",
       "      safe: true,\n",
       "      /* Index of renderer in `output_area.display_order` */\n",
       "      index: 0\n",
       "    });\n",
       "  }\n",
       "\n",
       "  // register the mime type if in Jupyter Notebook environment and previously unregistered\n",
       "  if (root.Jupyter !== undefined) {\n",
       "    var events = require('base/js/events');\n",
       "    var OutputArea = require('notebook/js/outputarea').OutputArea;\n",
       "\n",
       "    if (OutputArea.prototype.mime_types().indexOf(EXEC_MIME_TYPE) == -1) {\n",
       "      register_renderer(events, OutputArea);\n",
       "    }\n",
       "  }\n",
       "\n",
       "  \n",
       "  if (typeof (root._bokeh_timeout) === \"undefined\" || force === true) {\n",
       "    root._bokeh_timeout = Date.now() + 5000;\n",
       "    root._bokeh_failed_load = false;\n",
       "  }\n",
       "\n",
       "  var NB_LOAD_WARNING = {'data': {'text/html':\n",
       "     \"<div style='background-color: #fdd'>\\n\"+\n",
       "     \"<p>\\n\"+\n",
       "     \"BokehJS does not appear to have successfully loaded. If loading BokehJS from CDN, this \\n\"+\n",
       "     \"may be due to a slow or bad network connection. Possible fixes:\\n\"+\n",
       "     \"</p>\\n\"+\n",
       "     \"<ul>\\n\"+\n",
       "     \"<li>re-rerun `output_notebook()` to attempt to load from CDN again, or</li>\\n\"+\n",
       "     \"<li>use INLINE resources instead, as so:</li>\\n\"+\n",
       "     \"</ul>\\n\"+\n",
       "     \"<code>\\n\"+\n",
       "     \"from bokeh.resources import INLINE\\n\"+\n",
       "     \"output_notebook(resources=INLINE)\\n\"+\n",
       "     \"</code>\\n\"+\n",
       "     \"</div>\"}};\n",
       "\n",
       "  function display_loaded() {\n",
       "    var el = document.getElementById(\"1001\");\n",
       "    if (el != null) {\n",
       "      el.textContent = \"BokehJS is loading...\";\n",
       "    }\n",
       "    if (root.Bokeh !== undefined) {\n",
       "      if (el != null) {\n",
       "        el.textContent = \"BokehJS \" + root.Bokeh.version + \" successfully loaded.\";\n",
       "      }\n",
       "    } else if (Date.now() < root._bokeh_timeout) {\n",
       "      setTimeout(display_loaded, 100)\n",
       "    }\n",
       "  }\n",
       "\n",
       "\n",
       "  function run_callbacks() {\n",
       "    try {\n",
       "      root._bokeh_onload_callbacks.forEach(function(callback) {\n",
       "        if (callback != null)\n",
       "          callback();\n",
       "      });\n",
       "    } finally {\n",
       "      delete root._bokeh_onload_callbacks\n",
       "    }\n",
       "    console.debug(\"Bokeh: all callbacks have finished\");\n",
       "  }\n",
       "\n",
       "  function load_libs(css_urls, js_urls, callback) {\n",
       "    if (css_urls == null) css_urls = [];\n",
       "    if (js_urls == null) js_urls = [];\n",
       "\n",
       "    root._bokeh_onload_callbacks.push(callback);\n",
       "    if (root._bokeh_is_loading > 0) {\n",
       "      console.debug(\"Bokeh: BokehJS is being loaded, scheduling callback at\", now());\n",
       "      return null;\n",
       "    }\n",
       "    if (js_urls == null || js_urls.length === 0) {\n",
       "      run_callbacks();\n",
       "      return null;\n",
       "    }\n",
       "    console.debug(\"Bokeh: BokehJS not loaded, scheduling load and callback at\", now());\n",
       "    root._bokeh_is_loading = css_urls.length + js_urls.length;\n",
       "\n",
       "    function on_load() {\n",
       "      root._bokeh_is_loading--;\n",
       "      if (root._bokeh_is_loading === 0) {\n",
       "        console.debug(\"Bokeh: all BokehJS libraries/stylesheets loaded\");\n",
       "        run_callbacks()\n",
       "      }\n",
       "    }\n",
       "\n",
       "    function on_error() {\n",
       "      console.error(\"failed to load \" + url);\n",
       "    }\n",
       "\n",
       "    for (var i = 0; i < css_urls.length; i++) {\n",
       "      var url = css_urls[i];\n",
       "      const element = document.createElement(\"link\");\n",
       "      element.onload = on_load;\n",
       "      element.onerror = on_error;\n",
       "      element.rel = \"stylesheet\";\n",
       "      element.type = \"text/css\";\n",
       "      element.href = url;\n",
       "      console.debug(\"Bokeh: injecting link tag for BokehJS stylesheet: \", url);\n",
       "      document.body.appendChild(element);\n",
       "    }\n",
       "\n",
       "    for (var i = 0; i < js_urls.length; i++) {\n",
       "      var url = js_urls[i];\n",
       "      var element = document.createElement('script');\n",
       "      element.onload = on_load;\n",
       "      element.onerror = on_error;\n",
       "      element.async = false;\n",
       "      element.src = url;\n",
       "      \n",
       "      console.debug(\"Bokeh: injecting script tag for BokehJS library: \", url);\n",
       "      document.head.appendChild(element);\n",
       "    }\n",
       "  };var element = document.getElementById(\"1001\");\n",
       "  if (element == null) {\n",
       "    console.error(\"Bokeh: ERROR: autoload.js configured with elementid '1001' but no matching script tag was found. \")\n",
       "    return false;\n",
       "  }\n",
       "\n",
       "  function inject_raw_css(css) {\n",
       "    const element = document.createElement(\"style\");\n",
       "    element.appendChild(document.createTextNode(css));\n",
       "    document.body.appendChild(element);\n",
       "  }\n",
       "\n",
       "  \n",
       "  var js_urls = [\"https://cdn.bokeh.org/bokeh/release/bokeh-2.0.0.min.js\", \"https://cdn.bokeh.org/bokeh/release/bokeh-widgets-2.0.0.min.js\", \"https://cdn.bokeh.org/bokeh/release/bokeh-tables-2.0.0.min.js\", \"https://cdn.bokeh.org/bokeh/release/bokeh-gl-2.0.0.min.js\"];\n",
       "  var css_urls = [];\n",
       "  \n",
       "\n",
       "  var inline_js = [\n",
       "    function(Bokeh) {\n",
       "      Bokeh.set_log_level(\"info\");\n",
       "    },\n",
       "    function(Bokeh) {\n",
       "    \n",
       "    \n",
       "    }\n",
       "  ];\n",
       "\n",
       "  function run_inline_js() {\n",
       "    \n",
       "    if (root.Bokeh !== undefined || force === true) {\n",
       "      \n",
       "    for (var i = 0; i < inline_js.length; i++) {\n",
       "      inline_js[i].call(root, root.Bokeh);\n",
       "    }\n",
       "    if (force === true) {\n",
       "        display_loaded();\n",
       "      }} else if (Date.now() < root._bokeh_timeout) {\n",
       "      setTimeout(run_inline_js, 100);\n",
       "    } else if (!root._bokeh_failed_load) {\n",
       "      console.log(\"Bokeh: BokehJS failed to load within specified timeout.\");\n",
       "      root._bokeh_failed_load = true;\n",
       "    } else if (force !== true) {\n",
       "      var cell = $(document.getElementById(\"1001\")).parents('.cell').data().cell;\n",
       "      cell.output_area.append_execute_result(NB_LOAD_WARNING)\n",
       "    }\n",
       "\n",
       "  }\n",
       "\n",
       "  if (root._bokeh_is_loading === 0) {\n",
       "    console.debug(\"Bokeh: BokehJS loaded, going straight to plotting\");\n",
       "    run_inline_js();\n",
       "  } else {\n",
       "    load_libs(css_urls, js_urls, function() {\n",
       "      console.debug(\"Bokeh: BokehJS plotting callback run at\", now());\n",
       "      run_inline_js();\n",
       "    });\n",
       "  }\n",
       "}(window));"
      ],
      "application/vnd.bokehjs_load.v0+json": "\n(function(root) {\n  function now() {\n    return new Date();\n  }\n\n  var force = true;\n\n  if (typeof root._bokeh_onload_callbacks === \"undefined\" || force === true) {\n    root._bokeh_onload_callbacks = [];\n    root._bokeh_is_loading = undefined;\n  }\n\n  \n\n  \n  if (typeof (root._bokeh_timeout) === \"undefined\" || force === true) {\n    root._bokeh_timeout = Date.now() + 5000;\n    root._bokeh_failed_load = false;\n  }\n\n  var NB_LOAD_WARNING = {'data': {'text/html':\n     \"<div style='background-color: #fdd'>\\n\"+\n     \"<p>\\n\"+\n     \"BokehJS does not appear to have successfully loaded. If loading BokehJS from CDN, this \\n\"+\n     \"may be due to a slow or bad network connection. Possible fixes:\\n\"+\n     \"</p>\\n\"+\n     \"<ul>\\n\"+\n     \"<li>re-rerun `output_notebook()` to attempt to load from CDN again, or</li>\\n\"+\n     \"<li>use INLINE resources instead, as so:</li>\\n\"+\n     \"</ul>\\n\"+\n     \"<code>\\n\"+\n     \"from bokeh.resources import INLINE\\n\"+\n     \"output_notebook(resources=INLINE)\\n\"+\n     \"</code>\\n\"+\n     \"</div>\"}};\n\n  function display_loaded() {\n    var el = document.getElementById(\"1001\");\n    if (el != null) {\n      el.textContent = \"BokehJS is loading...\";\n    }\n    if (root.Bokeh !== undefined) {\n      if (el != null) {\n        el.textContent = \"BokehJS \" + root.Bokeh.version + \" successfully loaded.\";\n      }\n    } else if (Date.now() < root._bokeh_timeout) {\n      setTimeout(display_loaded, 100)\n    }\n  }\n\n\n  function run_callbacks() {\n    try {\n      root._bokeh_onload_callbacks.forEach(function(callback) {\n        if (callback != null)\n          callback();\n      });\n    } finally {\n      delete root._bokeh_onload_callbacks\n    }\n    console.debug(\"Bokeh: all callbacks have finished\");\n  }\n\n  function load_libs(css_urls, js_urls, callback) {\n    if (css_urls == null) css_urls = [];\n    if (js_urls == null) js_urls = [];\n\n    root._bokeh_onload_callbacks.push(callback);\n    if (root._bokeh_is_loading > 0) {\n      console.debug(\"Bokeh: BokehJS is being loaded, scheduling callback at\", now());\n      return null;\n    }\n    if (js_urls == null || js_urls.length === 0) {\n      run_callbacks();\n      return null;\n    }\n    console.debug(\"Bokeh: BokehJS not loaded, scheduling load and callback at\", now());\n    root._bokeh_is_loading = css_urls.length + js_urls.length;\n\n    function on_load() {\n      root._bokeh_is_loading--;\n      if (root._bokeh_is_loading === 0) {\n        console.debug(\"Bokeh: all BokehJS libraries/stylesheets loaded\");\n        run_callbacks()\n      }\n    }\n\n    function on_error() {\n      console.error(\"failed to load \" + url);\n    }\n\n    for (var i = 0; i < css_urls.length; i++) {\n      var url = css_urls[i];\n      const element = document.createElement(\"link\");\n      element.onload = on_load;\n      element.onerror = on_error;\n      element.rel = \"stylesheet\";\n      element.type = \"text/css\";\n      element.href = url;\n      console.debug(\"Bokeh: injecting link tag for BokehJS stylesheet: \", url);\n      document.body.appendChild(element);\n    }\n\n    for (var i = 0; i < js_urls.length; i++) {\n      var url = js_urls[i];\n      var element = document.createElement('script');\n      element.onload = on_load;\n      element.onerror = on_error;\n      element.async = false;\n      element.src = url;\n      \n      console.debug(\"Bokeh: injecting script tag for BokehJS library: \", url);\n      document.head.appendChild(element);\n    }\n  };var element = document.getElementById(\"1001\");\n  if (element == null) {\n    console.error(\"Bokeh: ERROR: autoload.js configured with elementid '1001' but no matching script tag was found. \")\n    return false;\n  }\n\n  function inject_raw_css(css) {\n    const element = document.createElement(\"style\");\n    element.appendChild(document.createTextNode(css));\n    document.body.appendChild(element);\n  }\n\n  \n  var js_urls = [\"https://cdn.bokeh.org/bokeh/release/bokeh-2.0.0.min.js\", \"https://cdn.bokeh.org/bokeh/release/bokeh-widgets-2.0.0.min.js\", \"https://cdn.bokeh.org/bokeh/release/bokeh-tables-2.0.0.min.js\", \"https://cdn.bokeh.org/bokeh/release/bokeh-gl-2.0.0.min.js\"];\n  var css_urls = [];\n  \n\n  var inline_js = [\n    function(Bokeh) {\n      Bokeh.set_log_level(\"info\");\n    },\n    function(Bokeh) {\n    \n    \n    }\n  ];\n\n  function run_inline_js() {\n    \n    if (root.Bokeh !== undefined || force === true) {\n      \n    for (var i = 0; i < inline_js.length; i++) {\n      inline_js[i].call(root, root.Bokeh);\n    }\n    if (force === true) {\n        display_loaded();\n      }} else if (Date.now() < root._bokeh_timeout) {\n      setTimeout(run_inline_js, 100);\n    } else if (!root._bokeh_failed_load) {\n      console.log(\"Bokeh: BokehJS failed to load within specified timeout.\");\n      root._bokeh_failed_load = true;\n    } else if (force !== true) {\n      var cell = $(document.getElementById(\"1001\")).parents('.cell').data().cell;\n      cell.output_area.append_execute_result(NB_LOAD_WARNING)\n    }\n\n  }\n\n  if (root._bokeh_is_loading === 0) {\n    console.debug(\"Bokeh: BokehJS loaded, going straight to plotting\");\n    run_inline_js();\n  } else {\n    load_libs(css_urls, js_urls, function() {\n      console.debug(\"Bokeh: BokehJS plotting callback run at\", now());\n      run_inline_js();\n    });\n  }\n}(window));"
     },
     "metadata": {},
     "output_type": "display_data"
    }
   ],
   "source": [
    "from math import pi\n",
    "from bokeh.io import output_notebook, show\n",
    "from bokeh.plotting import figure\n",
    "from bokeh.models import ColumnDataSource\n",
    "from bokeh.transform import factor_cmap, cumsum\n",
    "from bokeh.palettes import Paired12\n",
    "\n",
    "output_notebook()"
   ]
  },
  {
   "cell_type": "markdown",
   "metadata": {},
   "source": [
    "### What are the busiest days of the week?"
   ]
  },
  {
   "cell_type": "code",
   "execution_count": 14,
   "metadata": {},
   "outputs": [],
   "source": [
    "parquet_path = 'output/songplays_table'\n",
    "parq_songplays = spark.read.parquet(parquet_path)\n",
    "parq_songplays.createOrReplaceTempView('tmp_songplays')\n",
    "\n",
    "parquet_path = 'output/songs_table'\n",
    "parq_song = spark.read.parquet(parquet_path)\n",
    "parq_song.createOrReplaceTempView('tmp_song')"
   ]
  },
  {
   "cell_type": "code",
   "execution_count": 15,
   "metadata": {},
   "outputs": [
    {
     "name": "stdout",
     "output_type": "stream",
     "text": [
      "+---------+-----+\n",
      "|day      |count|\n",
      "+---------+-----+\n",
      "|Saturday |6    |\n",
      "|Wednesday|4    |\n",
      "|Monday   |4    |\n",
      "|Tuesday  |3    |\n",
      "|Thursday |3    |\n",
      "|Sunday   |1    |\n",
      "+---------+-----+\n",
      "\n"
     ]
    }
   ],
   "source": [
    "\n",
    "sql_query = \"SELECT date_format(start_time, 'EEEE') as day, count(*) as count \" \\\n",
    "            \"FROM tmp_songplays \" \\\n",
    "            \"WHERE session_id NOT LIKE 'NONE' AND session_id NOT LIKE 'Adjustment' \" \\\n",
    "            \"GROUP BY day \" \\\n",
    "            \"ORDER BY count DESC \" \\\n",
    "            \"LIMIT 10\"\n",
    "df1 = spark.sql(sql_query)\n",
    "df1.show(10, False)"
   ]
  },
  {
   "cell_type": "code",
   "execution_count": 16,
   "metadata": {},
   "outputs": [
    {
     "data": {
      "text/html": [
       "\n",
       "\n",
       "\n",
       "\n",
       "\n",
       "\n",
       "  <div class=\"bk-root\" id=\"8c5dec98-efe1-4178-a122-c3dd899f79de\" data-root-id=\"1003\"></div>\n"
      ]
     },
     "metadata": {},
     "output_type": "display_data"
    },
    {
     "data": {
      "application/javascript": [
       "(function(root) {\n",
       "  function embed_document(root) {\n",
       "    \n",
       "  var docs_json = {\"cf5fc2ea-1a33-4794-8136-20ec051c8555\":{\"roots\":{\"references\":[{\"attributes\":{\"below\":[{\"id\":\"1014\"}],\"center\":[{\"id\":\"1017\"},{\"id\":\"1021\"},{\"id\":\"1051\"}],\"left\":[{\"id\":\"1018\"}],\"plot_height\":450,\"plot_width\":700,\"renderers\":[{\"id\":\"1043\"}],\"title\":{\"id\":\"1004\"},\"toolbar\":{\"id\":\"1029\"},\"x_range\":{\"id\":\"1006\"},\"x_scale\":{\"id\":\"1010\"},\"y_range\":{\"id\":\"1008\"},\"y_scale\":{\"id\":\"1012\"}},\"id\":\"1003\",\"subtype\":\"Figure\",\"type\":\"Plot\"},{\"attributes\":{},\"id\":\"1012\",\"type\":\"LinearScale\"},{\"attributes\":{},\"id\":\"1059\",\"type\":\"UnionRenderers\"},{\"attributes\":{\"callback\":null,\"tooltips\":[[\"day\",\"@day\"],[\"count\",\"@{count}{,}\"]]},\"id\":\"1028\",\"type\":\"HoverTool\"},{\"attributes\":{},\"id\":\"1022\",\"type\":\"PanTool\"},{\"attributes\":{},\"id\":\"1060\",\"type\":\"Selection\"},{\"attributes\":{},\"id\":\"1023\",\"type\":\"WheelZoomTool\"},{\"attributes\":{\"end_angle\":{\"expr\":{\"id\":\"1038\"},\"units\":\"rad\"},\"fill_color\":{\"field\":\"day\",\"transform\":{\"id\":\"1002\"}},\"line_color\":{\"value\":\"white\"},\"radius\":{\"units\":\"data\",\"value\":0.4},\"start_angle\":{\"expr\":{\"id\":\"1037\"},\"units\":\"rad\"},\"x\":{\"value\":0},\"y\":{\"value\":1}},\"id\":\"1041\",\"type\":\"Wedge\"},{\"attributes\":{\"axis\":{\"id\":\"1014\"},\"grid_line_color\":null,\"ticker\":null},\"id\":\"1017\",\"type\":\"Grid\"},{\"attributes\":{\"overlay\":{\"id\":\"1050\"}},\"id\":\"1024\",\"type\":\"BoxZoomTool\"},{\"attributes\":{\"start\":-0.5},\"id\":\"1006\",\"type\":\"Range1d\"},{\"attributes\":{\"factors\":[\"Saturday\",\"Monday\",\"Wednesday\",\"Tuesday\",\"Thursday\",\"Sunday\"],\"palette\":[\"#a6cee3\",\"#1f78b4\",\"#b2df8a\",\"#33a02c\",\"#fb9a99\",\"#e31a1c\",\"#fdbf6f\",\"#ff7f00\",\"#cab2d6\",\"#6a3d9a\",\"#ffff99\",\"#b15928\"]},\"id\":\"1002\",\"type\":\"CategoricalColorMapper\"},{\"attributes\":{},\"id\":\"1025\",\"type\":\"SaveTool\"},{\"attributes\":{},\"id\":\"1049\",\"type\":\"BasicTickFormatter\"},{\"attributes\":{\"field\":\"angle\",\"include_zero\":true},\"id\":\"1037\",\"type\":\"CumSum\"},{\"attributes\":{},\"id\":\"1008\",\"type\":\"DataRange1d\"},{\"attributes\":{},\"id\":\"1026\",\"type\":\"ResetTool\"},{\"attributes\":{},\"id\":\"1027\",\"type\":\"HelpTool\"},{\"attributes\":{\"axis_label\":null,\"formatter\":{\"id\":\"1047\"},\"ticker\":{\"id\":\"1015\"},\"visible\":false},\"id\":\"1014\",\"type\":\"LinearAxis\"},{\"attributes\":{},\"id\":\"1015\",\"type\":\"BasicTicker\"},{\"attributes\":{\"active_drag\":\"auto\",\"active_inspect\":\"auto\",\"active_multi\":null,\"active_scroll\":\"auto\",\"active_tap\":\"auto\",\"tools\":[{\"id\":\"1022\"},{\"id\":\"1023\"},{\"id\":\"1024\"},{\"id\":\"1025\"},{\"id\":\"1026\"},{\"id\":\"1027\"},{\"id\":\"1028\"}]},\"id\":\"1029\",\"type\":\"Toolbar\"},{\"attributes\":{\"data_source\":{\"id\":\"1039\"},\"glyph\":{\"id\":\"1041\"},\"hover_glyph\":null,\"muted_glyph\":null,\"nonselection_glyph\":{\"id\":\"1042\"},\"selection_glyph\":null,\"view\":{\"id\":\"1044\"}},\"id\":\"1043\",\"type\":\"GlyphRenderer\"},{\"attributes\":{},\"id\":\"1019\",\"type\":\"BasicTicker\"},{\"attributes\":{\"label\":{\"field\":\"day\"},\"renderers\":[{\"id\":\"1043\"}]},\"id\":\"1052\",\"type\":\"LegendItem\"},{\"attributes\":{\"field\":\"angle\"},\"id\":\"1038\",\"type\":\"CumSum\"},{\"attributes\":{\"source\":{\"id\":\"1039\"}},\"id\":\"1044\",\"type\":\"CDSView\"},{\"attributes\":{},\"id\":\"1010\",\"type\":\"LinearScale\"},{\"attributes\":{\"axis\":{\"id\":\"1018\"},\"dimension\":1,\"grid_line_color\":null,\"ticker\":null},\"id\":\"1021\",\"type\":\"Grid\"},{\"attributes\":{},\"id\":\"1047\",\"type\":\"BasicTickFormatter\"},{\"attributes\":{\"axis_label\":null,\"formatter\":{\"id\":\"1049\"},\"ticker\":{\"id\":\"1019\"},\"visible\":false},\"id\":\"1018\",\"type\":\"LinearAxis\"},{\"attributes\":{\"items\":[{\"id\":\"1052\"}]},\"id\":\"1051\",\"type\":\"Legend\"},{\"attributes\":{\"text\":\"Items Sold/Day\"},\"id\":\"1004\",\"type\":\"Title\"},{\"attributes\":{\"data\":{\"angle\":{\"__ndarray__\":\"QKG7Ox+5/D8qFn3SFCbzPyoWfdIUJvM/QKG7Ox+57D9Aobs7H7nsPyoWfdIUJtM/\",\"dtype\":\"float64\",\"shape\":[6]},\"count\":[6,4,4,3,3,1],\"day\":[\"Saturday\",\"Monday\",\"Wednesday\",\"Tuesday\",\"Thursday\",\"Sunday\"],\"index\":[0,1,2,3,4,5]},\"selected\":{\"id\":\"1060\"},\"selection_policy\":{\"id\":\"1059\"}},\"id\":\"1039\",\"type\":\"ColumnDataSource\"},{\"attributes\":{\"bottom_units\":\"screen\",\"fill_alpha\":0.5,\"fill_color\":\"lightgrey\",\"left_units\":\"screen\",\"level\":\"overlay\",\"line_alpha\":1.0,\"line_color\":\"black\",\"line_dash\":[4,4],\"line_width\":2,\"render_mode\":\"css\",\"right_units\":\"screen\",\"top_units\":\"screen\"},\"id\":\"1050\",\"type\":\"BoxAnnotation\"},{\"attributes\":{\"end_angle\":{\"expr\":{\"id\":\"1038\"},\"units\":\"rad\"},\"fill_alpha\":{\"value\":0.1},\"fill_color\":{\"field\":\"day\",\"transform\":{\"id\":\"1002\"}},\"line_alpha\":{\"value\":0.1},\"line_color\":{\"value\":\"white\"},\"radius\":{\"units\":\"data\",\"value\":0.4},\"start_angle\":{\"expr\":{\"id\":\"1037\"},\"units\":\"rad\"},\"x\":{\"value\":0},\"y\":{\"value\":1}},\"id\":\"1042\",\"type\":\"Wedge\"}],\"root_ids\":[\"1003\"]},\"title\":\"Bokeh Application\",\"version\":\"2.0.0\"}};\n",
       "  var render_items = [{\"docid\":\"cf5fc2ea-1a33-4794-8136-20ec051c8555\",\"root_ids\":[\"1003\"],\"roots\":{\"1003\":\"8c5dec98-efe1-4178-a122-c3dd899f79de\"}}];\n",
       "  root.Bokeh.embed.embed_items_notebook(docs_json, render_items);\n",
       "\n",
       "  }\n",
       "  if (root.Bokeh !== undefined) {\n",
       "    embed_document(root);\n",
       "  } else {\n",
       "    var attempts = 0;\n",
       "    var timer = setInterval(function(root) {\n",
       "      if (root.Bokeh !== undefined) {\n",
       "        clearInterval(timer);\n",
       "        embed_document(root);\n",
       "      } else {\n",
       "        attempts++;\n",
       "        if (attempts > 100) {\n",
       "          clearInterval(timer);\n",
       "          console.log(\"Bokeh: ERROR: Unable to run BokehJS code because BokehJS library is missing\");\n",
       "        }\n",
       "      }\n",
       "    }, 10, root)\n",
       "  }\n",
       "})(window);"
      ],
      "application/vnd.bokehjs_exec.v0+json": ""
     },
     "metadata": {
      "application/vnd.bokehjs_exec.v0+json": {
       "id": "1003"
      }
     },
     "output_type": "display_data"
    }
   ],
   "source": [
    "data = df1.toPandas()\n",
    "tooltips = [('day', '@day'), ('count', '@{count}{,}')]\n",
    "days = data['day'].tolist()\n",
    "color_map = factor_cmap(field_name='day', palette=Paired12, factors=days)\n",
    "\n",
    "data['angle'] = data['count'] / data['count'].sum() * 2 * pi\n",
    "plot = figure(plot_height=450,\n",
    "              plot_width=700,\n",
    "              title='Items Sold/Day',\n",
    "              tooltips=tooltips,\n",
    "              x_range=(-0.5, 1.0))\n",
    "plot.wedge(x=0,\n",
    "           y=1,\n",
    "           radius=0.4,\n",
    "           start_angle=cumsum('angle', include_zero=True),\n",
    "           end_angle=cumsum('angle'),\n",
    "           line_color='white',\n",
    "           fill_color=color_map,\n",
    "           legend_field='day',\n",
    "           source=data)\n",
    "plot.axis.axis_label = None\n",
    "plot.axis.visible = False\n",
    "plot.grid.grid_line_color = None\n",
    "\n",
    "show(plot)"
   ]
  },
  {
   "cell_type": "markdown",
   "metadata": {},
   "source": [
    "### What are the busiest times of the day?"
   ]
  },
  {
   "cell_type": "code",
   "execution_count": 17,
   "metadata": {},
   "outputs": [
    {
     "name": "stdout",
     "output_type": "stream",
     "text": [
      "+------+-----+\n",
      "|period|count|\n",
      "+------+-----+\n",
      "|07:30 |2    |\n",
      "|09:30 |1    |\n",
      "|12:30 |1    |\n",
      "|13:00 |1    |\n",
      "|15:30 |3    |\n",
      "|16:00 |1    |\n",
      "|17:30 |1    |\n",
      "|18:30 |1    |\n",
      "|20:00 |4    |\n",
      "|20:30 |2    |\n",
      "+------+-----+\n",
      "only showing top 10 rows\n",
      "\n"
     ]
    }
   ],
   "source": [
    "def time_increment(h, m):\n",
    "    \"\"\"\n",
    "    Calculates a 30-minute time increment\n",
    "    \"\"\"\n",
    "    increment = (int(m) * (100 / 60)) / 100  # 0.0000 - 0.9833\n",
    "    increment = round(increment, 0)  # 0.0 or 1.0\n",
    "    increment = int(increment) * 30  # 0 or 30\n",
    "    increment = str(h).rjust(2, '0') + ':' + str(increment).rjust(2, '0')\n",
    "    return increment  # i.e. '07:30' or '23:00'\n",
    "\n",
    "\n",
    "spark.udf.register(\"udfTimeIncrement\", time_increment, StringType())\n",
    "sql_query = \"WITH tmp_table AS (\" \\\n",
    "            \"  SELECT udfTimeIncrement(date_format(start_time, 'HH'), date_format(start_time, 'mm')) as period, count(*) as count \" \\\n",
    "            \"  FROM tmp_songplays \" \\\n",
    "            \"  WHERE user_id NOT LIKE 'NONE' AND user_id NOT LIKE 'Adjustment' \" \\\n",
    "            \"  GROUP BY period \" \\\n",
    "            \"  ORDER BY period ASC\" \\\n",
    "            \") \" \\\n",
    "            \"SELECT period, count \" \\\n",
    "            \"FROM tmp_table \" \\\n",
    "            \"WHERE period BETWEEN '05:00' AND '23:59'\"\n",
    "\n",
    "df2 = spark.sql(sql_query)\n",
    "df2.show(10, False)"
   ]
  },
  {
   "cell_type": "code",
   "execution_count": 18,
   "metadata": {},
   "outputs": [
    {
     "data": {
      "text/html": [
       "\n",
       "\n",
       "\n",
       "\n",
       "\n",
       "\n",
       "  <div class=\"bk-root\" id=\"00185b4c-07f2-4de7-a36f-34834dd0017d\" data-root-id=\"1110\"></div>\n"
      ]
     },
     "metadata": {},
     "output_type": "display_data"
    },
    {
     "data": {
      "application/javascript": [
       "(function(root) {\n",
       "  function embed_document(root) {\n",
       "    \n",
       "  var docs_json = {\"7d39e069-5129-44e0-b581-dc263feb52da\":{\"roots\":{\"references\":[{\"attributes\":{\"below\":[{\"id\":\"1119\"}],\"center\":[{\"id\":\"1121\"},{\"id\":\"1125\"}],\"left\":[{\"id\":\"1122\"}],\"min_border\":0,\"plot_height\":450,\"plot_width\":900,\"renderers\":[{\"id\":\"1144\"}],\"title\":{\"id\":\"1146\"},\"toolbar\":{\"id\":\"1133\"},\"x_range\":{\"id\":\"1111\"},\"x_scale\":{\"id\":\"1115\"},\"y_range\":{\"id\":\"1113\"},\"y_scale\":{\"id\":\"1117\"}},\"id\":\"1110\",\"subtype\":\"Figure\",\"type\":\"Plot\"},{\"attributes\":{\"axis\":{\"id\":\"1119\"},\"ticker\":null},\"id\":\"1121\",\"type\":\"Grid\"},{\"attributes\":{},\"id\":\"1120\",\"type\":\"CategoricalTicker\"},{\"attributes\":{},\"id\":\"1131\",\"type\":\"HelpTool\"},{\"attributes\":{\"active_drag\":\"auto\",\"active_inspect\":\"auto\",\"active_multi\":null,\"active_scroll\":\"auto\",\"active_tap\":\"auto\",\"tools\":[{\"id\":\"1126\"},{\"id\":\"1127\"},{\"id\":\"1128\"},{\"id\":\"1129\"},{\"id\":\"1130\"},{\"id\":\"1131\"},{\"id\":\"1132\"}]},\"id\":\"1133\",\"type\":\"Toolbar\"},{\"attributes\":{},\"id\":\"1123\",\"type\":\"BasicTicker\"},{\"attributes\":{\"source\":{\"id\":\"1109\"}},\"id\":\"1145\",\"type\":\"CDSView\"},{\"attributes\":{\"axis\":{\"id\":\"1122\"},\"dimension\":1,\"ticker\":null},\"id\":\"1125\",\"type\":\"Grid\"},{\"attributes\":{\"axis_label\":\"Total Users Connection\",\"formatter\":{\"id\":\"1160\"},\"ticker\":{\"id\":\"1123\"}},\"id\":\"1122\",\"type\":\"LinearAxis\"},{\"attributes\":{},\"id\":\"1158\",\"type\":\"CategoricalTickFormatter\"},{\"attributes\":{\"factors\":[\"07:30\",\"09:30\",\"12:30\",\"13:00\",\"15:30\",\"16:00\",\"17:30\",\"18:30\",\"20:00\",\"20:30\",\"21:30\",\"22:00\",\"23:00\"]},\"id\":\"1111\",\"type\":\"FactorRange\"},{\"attributes\":{\"bottom_units\":\"screen\",\"fill_alpha\":0.5,\"fill_color\":\"lightgrey\",\"left_units\":\"screen\",\"level\":\"overlay\",\"line_alpha\":1.0,\"line_color\":\"black\",\"line_dash\":[4,4],\"line_width\":2,\"render_mode\":\"css\",\"right_units\":\"screen\",\"top_units\":\"screen\"},\"id\":\"1161\",\"type\":\"BoxAnnotation\"},{\"attributes\":{\"axis_label\":\"Hour of the Day\",\"formatter\":{\"id\":\"1158\"},\"ticker\":{\"id\":\"1120\"}},\"id\":\"1119\",\"type\":\"CategoricalAxis\"},{\"attributes\":{\"fill_alpha\":{\"value\":0.1},\"fill_color\":{\"value\":\"#1f77b4\"},\"line_alpha\":{\"value\":0.1},\"line_color\":{\"value\":\"#1f77b4\"},\"top\":{\"field\":\"count\"},\"width\":{\"value\":0.9},\"x\":{\"field\":\"period\"}},\"id\":\"1143\",\"type\":\"VBar\"},{\"attributes\":{},\"id\":\"1162\",\"type\":\"UnionRenderers\"},{\"attributes\":{\"text\":\"Users Connection/Hour\"},\"id\":\"1146\",\"type\":\"Title\"},{\"attributes\":{\"data_source\":{\"id\":\"1109\"},\"glyph\":{\"id\":\"1142\"},\"hover_glyph\":null,\"muted_glyph\":null,\"nonselection_glyph\":{\"id\":\"1143\"},\"selection_glyph\":null,\"view\":{\"id\":\"1145\"}},\"id\":\"1144\",\"type\":\"GlyphRenderer\"},{\"attributes\":{},\"id\":\"1160\",\"type\":\"BasicTickFormatter\"},{\"attributes\":{\"callback\":null,\"tooltips\":[[\"period\",\"@period\"],[\"count\",\"@{count}{,}\"]]},\"id\":\"1132\",\"type\":\"HoverTool\"},{\"attributes\":{},\"id\":\"1115\",\"type\":\"CategoricalScale\"},{\"attributes\":{},\"id\":\"1163\",\"type\":\"Selection\"},{\"attributes\":{},\"id\":\"1126\",\"type\":\"PanTool\"},{\"attributes\":{},\"id\":\"1113\",\"type\":\"DataRange1d\"},{\"attributes\":{},\"id\":\"1127\",\"type\":\"WheelZoomTool\"},{\"attributes\":{},\"id\":\"1117\",\"type\":\"LinearScale\"},{\"attributes\":{\"overlay\":{\"id\":\"1161\"}},\"id\":\"1128\",\"type\":\"BoxZoomTool\"},{\"attributes\":{\"data\":{\"count\":[2,1,1,1,3,1,1,1,4,2,1,1,1],\"index\":[0,1,2,3,4,5,6,7,8,9,10,11,12],\"period\":[\"07:30\",\"09:30\",\"12:30\",\"13:00\",\"15:30\",\"16:00\",\"17:30\",\"18:30\",\"20:00\",\"20:30\",\"21:30\",\"22:00\",\"23:00\"]},\"selected\":{\"id\":\"1163\"},\"selection_policy\":{\"id\":\"1162\"}},\"id\":\"1109\",\"type\":\"ColumnDataSource\"},{\"attributes\":{},\"id\":\"1129\",\"type\":\"SaveTool\"},{\"attributes\":{\"fill_color\":{\"value\":\"#1f77b4\"},\"line_color\":{\"value\":\"#1f77b4\"},\"top\":{\"field\":\"count\"},\"width\":{\"value\":0.9},\"x\":{\"field\":\"period\"}},\"id\":\"1142\",\"type\":\"VBar\"},{\"attributes\":{},\"id\":\"1130\",\"type\":\"ResetTool\"}],\"root_ids\":[\"1110\"]},\"title\":\"Bokeh Application\",\"version\":\"2.0.0\"}};\n",
       "  var render_items = [{\"docid\":\"7d39e069-5129-44e0-b581-dc263feb52da\",\"root_ids\":[\"1110\"],\"roots\":{\"1110\":\"00185b4c-07f2-4de7-a36f-34834dd0017d\"}}];\n",
       "  root.Bokeh.embed.embed_items_notebook(docs_json, render_items);\n",
       "\n",
       "  }\n",
       "  if (root.Bokeh !== undefined) {\n",
       "    embed_document(root);\n",
       "  } else {\n",
       "    var attempts = 0;\n",
       "    var timer = setInterval(function(root) {\n",
       "      if (root.Bokeh !== undefined) {\n",
       "        clearInterval(timer);\n",
       "        embed_document(root);\n",
       "      } else {\n",
       "        attempts++;\n",
       "        if (attempts > 100) {\n",
       "          clearInterval(timer);\n",
       "          console.log(\"Bokeh: ERROR: Unable to run BokehJS code because BokehJS library is missing\");\n",
       "        }\n",
       "      }\n",
       "    }, 10, root)\n",
       "  }\n",
       "})(window);"
      ],
      "application/vnd.bokehjs_exec.v0+json": ""
     },
     "metadata": {
      "application/vnd.bokehjs_exec.v0+json": {
       "id": "1110"
      }
     },
     "output_type": "display_data"
    }
   ],
   "source": [
    "source = ColumnDataSource(data=df2.toPandas())\n",
    "tooltips = [('period', '@period'), ('count', '@{count}{,}')]\n",
    "periods = source.data['period'].tolist()\n",
    "plot = figure(x_range=periods,\n",
    "              plot_width=900,\n",
    "              plot_height=450,\n",
    "              min_border=0,\n",
    "              tooltips=tooltips)\n",
    "plot.vbar(x='period', bottom=0, top='count', source=source, width=0.9)\n",
    "plot.title.text = 'Users Connection/Hour'\n",
    "plot.xaxis.axis_label = 'Hour of the Day'\n",
    "plot.yaxis.axis_label = 'Total Users Connection'\n",
    "\n",
    "show(plot)"
   ]
  },
  {
   "cell_type": "markdown",
   "metadata": {},
   "source": [
    "### What are the top songs?"
   ]
  },
  {
   "cell_type": "code",
   "execution_count": 19,
   "metadata": {},
   "outputs": [
    {
     "name": "stdout",
     "output_type": "stream",
     "text": [
      "+----------------------------------------+-----+\n",
      "|title                                   |count|\n",
      "+----------------------------------------+-----+\n",
      "|Streets On Fire (Explicit Album Version)|5    |\n",
      "|Tonight Will Be Alright                 |4    |\n",
      "|A Higher Place (Album Version)          |4    |\n",
      "|Broken-Down Merry-Go-Round              |1    |\n",
      "|Salt In NYC                             |1    |\n",
      "|Setanta matins                          |1    |\n",
      "|Face the Ashes                          |1    |\n",
      "|The Ballad Of Sleeping Beauty           |1    |\n",
      "|Harajuku Girls                          |1    |\n",
      "|Der Kleine Dompfaff                     |1    |\n",
      "+----------------------------------------+-----+\n",
      "\n"
     ]
    }
   ],
   "source": [
    "sql_query = \"SELECT tsg.title, count(*) as count \" \\\n",
    "            \"FROM tmp_songplays AS tss \" \\\n",
    "            \"JOIN tmp_song AS tsg \"  \\\n",
    "            \"ON tsg.song_id=tss.song_id \" \\\n",
    "            \"WHERE tss.song_id NOT LIKE 'NONE' AND tss.song_id NOT LIKE 'Adjustment' \" \\\n",
    "            \"GROUP BY tsg.title \" \\\n",
    "            \"ORDER BY count DESC \" \\\n",
    "            \"LIMIT 10\"\n",
    "\n",
    "df3 = spark.sql(sql_query)\n",
    "df3.show(10, False)"
   ]
  },
  {
   "cell_type": "code",
   "execution_count": 20,
   "metadata": {},
   "outputs": [
    {
     "data": {
      "text/html": [
       "\n",
       "\n",
       "\n",
       "\n",
       "\n",
       "\n",
       "  <div class=\"bk-root\" id=\"a8fa7a54-e5af-44ff-8b1d-cca34e4fda26\" data-root-id=\"1219\"></div>\n"
      ]
     },
     "metadata": {},
     "output_type": "display_data"
    },
    {
     "data": {
      "application/javascript": [
       "(function(root) {\n",
       "  function embed_document(root) {\n",
       "    \n",
       "  var docs_json = {\"facea467-c0a7-4eb9-b4a2-7c837d263810\":{\"roots\":{\"references\":[{\"attributes\":{\"below\":[{\"id\":\"1228\"}],\"center\":[{\"id\":\"1231\"},{\"id\":\"1234\"}],\"left\":[{\"id\":\"1232\"}],\"min_border\":0,\"plot_height\":375,\"plot_width\":750,\"renderers\":[{\"id\":\"1253\"}],\"title\":{\"id\":\"1255\"},\"toolbar\":{\"id\":\"1242\"},\"x_range\":{\"id\":\"1220\"},\"x_scale\":{\"id\":\"1224\"},\"y_range\":{\"id\":\"1222\"},\"y_scale\":{\"id\":\"1226\"}},\"id\":\"1219\",\"subtype\":\"Figure\",\"type\":\"Plot\"},{\"attributes\":{\"axis_label\":\"title\",\"formatter\":{\"id\":\"1278\"},\"ticker\":{\"id\":\"1233\"}},\"id\":\"1232\",\"type\":\"CategoricalAxis\"},{\"attributes\":{},\"id\":\"1226\",\"type\":\"CategoricalScale\"},{\"attributes\":{\"source\":{\"id\":\"1218\"}},\"id\":\"1254\",\"type\":\"CDSView\"},{\"attributes\":{\"callback\":null,\"tooltips\":[[\"title\",\"@title\"],[\"count\",\"@{count}{,}\"]]},\"id\":\"1241\",\"type\":\"HoverTool\"},{\"attributes\":{\"data_source\":{\"id\":\"1218\"},\"glyph\":{\"id\":\"1251\"},\"hover_glyph\":null,\"muted_glyph\":null,\"nonselection_glyph\":{\"id\":\"1252\"},\"selection_glyph\":null,\"view\":{\"id\":\"1254\"}},\"id\":\"1253\",\"type\":\"GlyphRenderer\"},{\"attributes\":{\"fill_color\":{\"value\":\"#1f77b4\"},\"height\":{\"value\":0.9},\"line_color\":{\"value\":\"#1f77b4\"},\"right\":{\"field\":\"count\"},\"y\":{\"field\":\"title\"}},\"id\":\"1251\",\"type\":\"HBar\"},{\"attributes\":{\"factors\":[\"The Ballad Of Sleeping Beauty\",\"Harajuku Girls\",\"Setanta matins\",\"Der Kleine Dompfaff\",\"Face the Ashes\",\"Salt In NYC\",\"Broken-Down Merry-Go-Round\",\"A Higher Place (Album Version)\",\"Tonight Will Be Alright\",\"Streets On Fire (Explicit Album Version)\"]},\"id\":\"1222\",\"type\":\"FactorRange\"},{\"attributes\":{},\"id\":\"1235\",\"type\":\"PanTool\"},{\"attributes\":{},\"id\":\"1236\",\"type\":\"WheelZoomTool\"},{\"attributes\":{\"data\":{\"count\":[5,4,4,1,1,1,1,1,1,1],\"index\":[0,1,2,3,4,5,6,7,8,9],\"title\":[\"Streets On Fire (Explicit Album Version)\",\"Tonight Will Be Alright\",\"A Higher Place (Album Version)\",\"Broken-Down Merry-Go-Round\",\"Salt In NYC\",\"Face the Ashes\",\"Der Kleine Dompfaff\",\"Setanta matins\",\"Harajuku Girls\",\"The Ballad Of Sleeping Beauty\"]},\"selected\":{\"id\":\"1281\"},\"selection_policy\":{\"id\":\"1280\"}},\"id\":\"1218\",\"type\":\"ColumnDataSource\"},{\"attributes\":{},\"id\":\"1224\",\"type\":\"LinearScale\"},{\"attributes\":{\"overlay\":{\"id\":\"1279\"}},\"id\":\"1237\",\"type\":\"BoxZoomTool\"},{\"attributes\":{},\"id\":\"1220\",\"type\":\"DataRange1d\"},{\"attributes\":{},\"id\":\"1238\",\"type\":\"SaveTool\"},{\"attributes\":{\"text\":\"Top title\"},\"id\":\"1255\",\"type\":\"Title\"},{\"attributes\":{},\"id\":\"1281\",\"type\":\"Selection\"},{\"attributes\":{},\"id\":\"1239\",\"type\":\"ResetTool\"},{\"attributes\":{},\"id\":\"1240\",\"type\":\"HelpTool\"},{\"attributes\":{},\"id\":\"1278\",\"type\":\"CategoricalTickFormatter\"},{\"attributes\":{},\"id\":\"1233\",\"type\":\"CategoricalTicker\"},{\"attributes\":{},\"id\":\"1280\",\"type\":\"UnionRenderers\"},{\"attributes\":{\"axis_label\":\"Total title listen\",\"formatter\":{\"id\":\"1276\"},\"ticker\":{\"id\":\"1229\"}},\"id\":\"1228\",\"type\":\"LinearAxis\"},{\"attributes\":{},\"id\":\"1276\",\"type\":\"BasicTickFormatter\"},{\"attributes\":{\"active_drag\":\"auto\",\"active_inspect\":\"auto\",\"active_multi\":null,\"active_scroll\":\"auto\",\"active_tap\":\"auto\",\"tools\":[{\"id\":\"1235\"},{\"id\":\"1236\"},{\"id\":\"1237\"},{\"id\":\"1238\"},{\"id\":\"1239\"},{\"id\":\"1240\"},{\"id\":\"1241\"}]},\"id\":\"1242\",\"type\":\"Toolbar\"},{\"attributes\":{\"bottom_units\":\"screen\",\"fill_alpha\":0.5,\"fill_color\":\"lightgrey\",\"left_units\":\"screen\",\"level\":\"overlay\",\"line_alpha\":1.0,\"line_color\":\"black\",\"line_dash\":[4,4],\"line_width\":2,\"render_mode\":\"css\",\"right_units\":\"screen\",\"top_units\":\"screen\"},\"id\":\"1279\",\"type\":\"BoxAnnotation\"},{\"attributes\":{\"fill_alpha\":{\"value\":0.1},\"fill_color\":{\"value\":\"#1f77b4\"},\"height\":{\"value\":0.9},\"line_alpha\":{\"value\":0.1},\"line_color\":{\"value\":\"#1f77b4\"},\"right\":{\"field\":\"count\"},\"y\":{\"field\":\"title\"}},\"id\":\"1252\",\"type\":\"HBar\"},{\"attributes\":{},\"id\":\"1229\",\"type\":\"BasicTicker\"},{\"attributes\":{\"axis\":{\"id\":\"1228\"},\"ticker\":null},\"id\":\"1231\",\"type\":\"Grid\"},{\"attributes\":{\"axis\":{\"id\":\"1232\"},\"dimension\":1,\"ticker\":null},\"id\":\"1234\",\"type\":\"Grid\"}],\"root_ids\":[\"1219\"]},\"title\":\"Bokeh Application\",\"version\":\"2.0.0\"}};\n",
       "  var render_items = [{\"docid\":\"facea467-c0a7-4eb9-b4a2-7c837d263810\",\"root_ids\":[\"1219\"],\"roots\":{\"1219\":\"a8fa7a54-e5af-44ff-8b1d-cca34e4fda26\"}}];\n",
       "  root.Bokeh.embed.embed_items_notebook(docs_json, render_items);\n",
       "\n",
       "  }\n",
       "  if (root.Bokeh !== undefined) {\n",
       "    embed_document(root);\n",
       "  } else {\n",
       "    var attempts = 0;\n",
       "    var timer = setInterval(function(root) {\n",
       "      if (root.Bokeh !== undefined) {\n",
       "        clearInterval(timer);\n",
       "        embed_document(root);\n",
       "      } else {\n",
       "        attempts++;\n",
       "        if (attempts > 100) {\n",
       "          clearInterval(timer);\n",
       "          console.log(\"Bokeh: ERROR: Unable to run BokehJS code because BokehJS library is missing\");\n",
       "        }\n",
       "      }\n",
       "    }, 10, root)\n",
       "  }\n",
       "})(window);"
      ],
      "application/vnd.bokehjs_exec.v0+json": ""
     },
     "metadata": {
      "application/vnd.bokehjs_exec.v0+json": {
       "id": "1219"
      }
     },
     "output_type": "display_data"
    }
   ],
   "source": [
    "source = ColumnDataSource(data=df3.toPandas())\n",
    "tooltips = [('title', '@title'), ('count', '@{count}{,}')]\n",
    "items = source.data['title'].tolist()\n",
    "items.reverse()\n",
    "plot = figure(y_range=items,\n",
    "              plot_width=750,\n",
    "              plot_height=375,\n",
    "              min_border=0,\n",
    "              tooltips=tooltips)\n",
    "plot.hbar(y='title', right='count', height=.9, source=source)\n",
    "plot.title.text = 'Top title'\n",
    "plot.yaxis.axis_label = 'title'\n",
    "plot.xaxis.axis_label = 'Total title listen'\n",
    "\n",
    "show(plot)"
   ]
  },
  {
   "cell_type": "raw",
   "metadata": {},
   "source": [
    "# drop and create table in database sparkify\n",
    "%run -i '5_sql.py'\n",
    "# echec to load data in data base\n",
    "\n",
    "a essayer: import pandas as pd\n",
    "import io\n",
    "\n",
    "with open(\"file.parquet\", \"rb\") as f:\n",
    "    data = f.read()\n",
    "buf = io.BytesIO(data)\n",
    "df = pd.read_parquet(buf"
   ]
  },
  {
   "cell_type": "code",
   "execution_count": null,
   "metadata": {},
   "outputs": [],
   "source": []
  },
  {
   "cell_type": "code",
   "execution_count": null,
   "metadata": {},
   "outputs": [],
   "source": []
  }
 ],
 "metadata": {
  "kernelspec": {
   "display_name": "Python 3",
   "language": "python",
   "name": "python3"
  },
  "language_info": {
   "codemirror_mode": {
    "name": "ipython",
    "version": 3
   },
   "file_extension": ".py",
   "mimetype": "text/x-python",
   "name": "python",
   "nbconvert_exporter": "python",
   "pygments_lexer": "ipython3",
   "version": "3.7.6"
  }
 },
 "nbformat": 4,
 "nbformat_minor": 4
}
