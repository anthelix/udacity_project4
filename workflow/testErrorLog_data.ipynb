{
 "cells": [
  {
   "cell_type": "code",
   "execution_count": 1,
   "metadata": {},
   "outputs": [
    {
     "name": "stdout",
     "output_type": "stream",
     "text": [
      "Requirement already satisfied: spark-nlp==1.7.3 in /opt/conda/lib/python3.7/site-packages (1.7.3)\r\n"
     ]
    }
   ],
   "source": [
    "!pip install spark-nlp==1.7.3"
   ]
  },
  {
   "cell_type": "code",
   "execution_count": 2,
   "metadata": {},
   "outputs": [],
   "source": [
    "from pyspark import SparkContext, SparkConf\n",
    "from pyspark.sql.types import StringType, DataType\n",
    "import pandas as pd\n",
    "from pyspark.sql.functions import udf,col\n",
    "from pyspark.sql import functions as F\n",
    "pd.set_option('max_colwidth', 800)\n",
    "import matplotlib\n",
    "from pyspark.sql.types import TimestampType, StructType, StructField, StringType, FloatType, IntegerType, LongType\n",
    "from pyspark.sql import types as T\n",
    "from datetime import datetime"
   ]
  },
  {
   "cell_type": "code",
   "execution_count": 3,
   "metadata": {},
   "outputs": [
    {
     "data": {
      "text/html": [
       "\n",
       "            <div>\n",
       "                <p><b>SparkSession - in-memory</b></p>\n",
       "                \n",
       "        <div>\n",
       "            <p><b>SparkContext</b></p>\n",
       "\n",
       "            <p><a href=\"http://e875bb14d3f7:4041\">Spark UI</a></p>\n",
       "\n",
       "            <dl>\n",
       "              <dt>Version</dt>\n",
       "                <dd><code>v2.4.5</code></dd>\n",
       "              <dt>Master</dt>\n",
       "                <dd><code>local[*]</code></dd>\n",
       "              <dt>AppName</dt>\n",
       "                <dd><code> Sparkify Localy</code></dd>\n",
       "            </dl>\n",
       "        </div>\n",
       "        \n",
       "            </div>\n",
       "        "
      ],
      "text/plain": [
       "<pyspark.sql.session.SparkSession at 0x7f970fe13510>"
      ]
     },
     "execution_count": 3,
     "metadata": {},
     "output_type": "execute_result"
    }
   ],
   "source": [
    "from pyspark.sql import SparkSession\n",
    "spark = SparkSession.builder \\\n",
    "    .appName(\" Sparkify Localy\") \\\n",
    "    .config(\"spark.jars.packages\", \"JohnSnowLabs:spark-nlp:1.8.2\") \\\n",
    "    .getOrCreate()\n",
    "spark"
   ]
  },
  {
   "cell_type": "code",
   "execution_count": 4,
   "metadata": {},
   "outputs": [
    {
     "data": {
      "text/plain": [
       "[('spark.app.id', 'local-1584626360751'),\n",
       " ('spark.app.name', ' Sparkify Localy'),\n",
       " ('spark.jars.packages', 'JohnSnowLabs:spark-nlp:1.8.2'),\n",
       " ('spark.repl.local.jars',\n",
       "  'file:///home/anthelix/.ivy2/jars/JohnSnowLabs_spark-nlp-1.8.2.jar,file:///home/anthelix/.ivy2/jars/com.typesafe_config-1.3.0.jar,file:///home/anthelix/.ivy2/jars/org.rocksdb_rocksdbjni-5.17.2.jar,file:///home/anthelix/.ivy2/jars/org.apache.hadoop_hadoop-aws-2.7.3.jar,file:///home/anthelix/.ivy2/jars/com.amazonaws_aws-java-sdk-1.7.4.jar,file:///home/anthelix/.ivy2/jars/org.tensorflow_tensorflow-1.8.0.jar,file:///home/anthelix/.ivy2/jars/com.github.universal-automata_liblevenshtein-3.0.0.jar,file:///home/anthelix/.ivy2/jars/com.navigamez_greex-1.0.jar,file:///home/anthelix/.ivy2/jars/net.sf.trove4j_trove4j-3.0.3.jar,file:///home/anthelix/.ivy2/jars/commons-logging_commons-logging-1.1.3.jar,file:///home/anthelix/.ivy2/jars/org.apache.httpcomponents_httpclient-4.2.5.jar,file:///home/anthelix/.ivy2/jars/joda-time_joda-time-2.10.5.jar,file:///home/anthelix/.ivy2/jars/org.apache.httpcomponents_httpcore-4.2.5.jar,file:///home/anthelix/.ivy2/jars/org.tensorflow_libtensorflow-1.8.0.jar,file:///home/anthelix/.ivy2/jars/org.tensorflow_libtensorflow_jni-1.8.0.jar,file:///home/anthelix/.ivy2/jars/com.google.code.findbugs_annotations-3.0.1.jar,file:///home/anthelix/.ivy2/jars/com.google.protobuf_protobuf-java-util-3.0.0-beta-3.jar,file:///home/anthelix/.ivy2/jars/com.google.protobuf_protobuf-java-3.0.0-beta-3.jar,file:///home/anthelix/.ivy2/jars/it.unimi.dsi_fastutil-7.0.12.jar,file:///home/anthelix/.ivy2/jars/org.apache.commons_commons-lang3-3.4.jar,file:///home/anthelix/.ivy2/jars/org.projectlombok_lombok-1.16.8.jar,file:///home/anthelix/.ivy2/jars/org.slf4j_slf4j-api-1.7.21.jar,file:///home/anthelix/.ivy2/jars/net.jcip_jcip-annotations-1.0.jar,file:///home/anthelix/.ivy2/jars/com.google.code.findbugs_jsr305-3.0.1.jar,file:///home/anthelix/.ivy2/jars/com.google.code.gson_gson-2.3.jar,file:///home/anthelix/.ivy2/jars/dk.brics.automaton_automaton-1.11-8.jar'),\n",
       " ('spark.executor.id', 'driver'),\n",
       " ('spark.files',\n",
       "  'file:///home/anthelix/.ivy2/jars/JohnSnowLabs_spark-nlp-1.8.2.jar,file:///home/anthelix/.ivy2/jars/com.typesafe_config-1.3.0.jar,file:///home/anthelix/.ivy2/jars/org.rocksdb_rocksdbjni-5.17.2.jar,file:///home/anthelix/.ivy2/jars/org.apache.hadoop_hadoop-aws-2.7.3.jar,file:///home/anthelix/.ivy2/jars/com.amazonaws_aws-java-sdk-1.7.4.jar,file:///home/anthelix/.ivy2/jars/org.tensorflow_tensorflow-1.8.0.jar,file:///home/anthelix/.ivy2/jars/com.github.universal-automata_liblevenshtein-3.0.0.jar,file:///home/anthelix/.ivy2/jars/com.navigamez_greex-1.0.jar,file:///home/anthelix/.ivy2/jars/net.sf.trove4j_trove4j-3.0.3.jar,file:///home/anthelix/.ivy2/jars/commons-logging_commons-logging-1.1.3.jar,file:///home/anthelix/.ivy2/jars/org.apache.httpcomponents_httpclient-4.2.5.jar,file:///home/anthelix/.ivy2/jars/joda-time_joda-time-2.10.5.jar,file:///home/anthelix/.ivy2/jars/org.apache.httpcomponents_httpcore-4.2.5.jar,file:///home/anthelix/.ivy2/jars/org.tensorflow_libtensorflow-1.8.0.jar,file:///home/anthelix/.ivy2/jars/org.tensorflow_libtensorflow_jni-1.8.0.jar,file:///home/anthelix/.ivy2/jars/com.google.code.findbugs_annotations-3.0.1.jar,file:///home/anthelix/.ivy2/jars/com.google.protobuf_protobuf-java-util-3.0.0-beta-3.jar,file:///home/anthelix/.ivy2/jars/com.google.protobuf_protobuf-java-3.0.0-beta-3.jar,file:///home/anthelix/.ivy2/jars/it.unimi.dsi_fastutil-7.0.12.jar,file:///home/anthelix/.ivy2/jars/org.apache.commons_commons-lang3-3.4.jar,file:///home/anthelix/.ivy2/jars/org.projectlombok_lombok-1.16.8.jar,file:///home/anthelix/.ivy2/jars/org.slf4j_slf4j-api-1.7.21.jar,file:///home/anthelix/.ivy2/jars/net.jcip_jcip-annotations-1.0.jar,file:///home/anthelix/.ivy2/jars/com.google.code.findbugs_jsr305-3.0.1.jar,file:///home/anthelix/.ivy2/jars/com.google.code.gson_gson-2.3.jar,file:///home/anthelix/.ivy2/jars/dk.brics.automaton_automaton-1.11-8.jar'),\n",
       " ('spark.driver.port', '36111'),\n",
       " ('spark.submit.pyFiles',\n",
       "  '/home/anthelix/.ivy2/jars/JohnSnowLabs_spark-nlp-1.8.2.jar,/home/anthelix/.ivy2/jars/com.typesafe_config-1.3.0.jar,/home/anthelix/.ivy2/jars/org.rocksdb_rocksdbjni-5.17.2.jar,/home/anthelix/.ivy2/jars/org.apache.hadoop_hadoop-aws-2.7.3.jar,/home/anthelix/.ivy2/jars/com.amazonaws_aws-java-sdk-1.7.4.jar,/home/anthelix/.ivy2/jars/org.tensorflow_tensorflow-1.8.0.jar,/home/anthelix/.ivy2/jars/com.github.universal-automata_liblevenshtein-3.0.0.jar,/home/anthelix/.ivy2/jars/com.navigamez_greex-1.0.jar,/home/anthelix/.ivy2/jars/net.sf.trove4j_trove4j-3.0.3.jar,/home/anthelix/.ivy2/jars/commons-logging_commons-logging-1.1.3.jar,/home/anthelix/.ivy2/jars/org.apache.httpcomponents_httpclient-4.2.5.jar,/home/anthelix/.ivy2/jars/joda-time_joda-time-2.10.5.jar,/home/anthelix/.ivy2/jars/org.apache.httpcomponents_httpcore-4.2.5.jar,/home/anthelix/.ivy2/jars/org.tensorflow_libtensorflow-1.8.0.jar,/home/anthelix/.ivy2/jars/org.tensorflow_libtensorflow_jni-1.8.0.jar,/home/anthelix/.ivy2/jars/com.google.code.findbugs_annotations-3.0.1.jar,/home/anthelix/.ivy2/jars/com.google.protobuf_protobuf-java-util-3.0.0-beta-3.jar,/home/anthelix/.ivy2/jars/com.google.protobuf_protobuf-java-3.0.0-beta-3.jar,/home/anthelix/.ivy2/jars/it.unimi.dsi_fastutil-7.0.12.jar,/home/anthelix/.ivy2/jars/org.apache.commons_commons-lang3-3.4.jar,/home/anthelix/.ivy2/jars/org.projectlombok_lombok-1.16.8.jar,/home/anthelix/.ivy2/jars/org.slf4j_slf4j-api-1.7.21.jar,/home/anthelix/.ivy2/jars/net.jcip_jcip-annotations-1.0.jar,/home/anthelix/.ivy2/jars/com.google.code.findbugs_jsr305-3.0.1.jar,/home/anthelix/.ivy2/jars/com.google.code.gson_gson-2.3.jar,/home/anthelix/.ivy2/jars/dk.brics.automaton_automaton-1.11-8.jar'),\n",
       " ('spark.rdd.compress', 'True'),\n",
       " ('spark.serializer.objectStreamReset', '100'),\n",
       " ('spark.master', 'local[*]'),\n",
       " ('spark.driver.host', 'e875bb14d3f7'),\n",
       " ('spark.submit.deployMode', 'client'),\n",
       " ('spark.ui.showConsoleProgress', 'true'),\n",
       " ('spark.jars',\n",
       "  'file:///home/anthelix/.ivy2/jars/JohnSnowLabs_spark-nlp-1.8.2.jar,file:///home/anthelix/.ivy2/jars/com.typesafe_config-1.3.0.jar,file:///home/anthelix/.ivy2/jars/org.rocksdb_rocksdbjni-5.17.2.jar,file:///home/anthelix/.ivy2/jars/org.apache.hadoop_hadoop-aws-2.7.3.jar,file:///home/anthelix/.ivy2/jars/com.amazonaws_aws-java-sdk-1.7.4.jar,file:///home/anthelix/.ivy2/jars/org.tensorflow_tensorflow-1.8.0.jar,file:///home/anthelix/.ivy2/jars/com.github.universal-automata_liblevenshtein-3.0.0.jar,file:///home/anthelix/.ivy2/jars/com.navigamez_greex-1.0.jar,file:///home/anthelix/.ivy2/jars/net.sf.trove4j_trove4j-3.0.3.jar,file:///home/anthelix/.ivy2/jars/commons-logging_commons-logging-1.1.3.jar,file:///home/anthelix/.ivy2/jars/org.apache.httpcomponents_httpclient-4.2.5.jar,file:///home/anthelix/.ivy2/jars/joda-time_joda-time-2.10.5.jar,file:///home/anthelix/.ivy2/jars/org.apache.httpcomponents_httpcore-4.2.5.jar,file:///home/anthelix/.ivy2/jars/org.tensorflow_libtensorflow-1.8.0.jar,file:///home/anthelix/.ivy2/jars/org.tensorflow_libtensorflow_jni-1.8.0.jar,file:///home/anthelix/.ivy2/jars/com.google.code.findbugs_annotations-3.0.1.jar,file:///home/anthelix/.ivy2/jars/com.google.protobuf_protobuf-java-util-3.0.0-beta-3.jar,file:///home/anthelix/.ivy2/jars/com.google.protobuf_protobuf-java-3.0.0-beta-3.jar,file:///home/anthelix/.ivy2/jars/it.unimi.dsi_fastutil-7.0.12.jar,file:///home/anthelix/.ivy2/jars/org.apache.commons_commons-lang3-3.4.jar,file:///home/anthelix/.ivy2/jars/org.projectlombok_lombok-1.16.8.jar,file:///home/anthelix/.ivy2/jars/org.slf4j_slf4j-api-1.7.21.jar,file:///home/anthelix/.ivy2/jars/net.jcip_jcip-annotations-1.0.jar,file:///home/anthelix/.ivy2/jars/com.google.code.findbugs_jsr305-3.0.1.jar,file:///home/anthelix/.ivy2/jars/com.google.code.gson_gson-2.3.jar,file:///home/anthelix/.ivy2/jars/dk.brics.automaton_automaton-1.11-8.jar')]"
      ]
     },
     "execution_count": 4,
     "metadata": {},
     "output_type": "execute_result"
    }
   ],
   "source": [
    "# get parameters\n",
    "spark.sparkContext.getConf().getAll()"
   ]
  },
  {
   "cell_type": "markdown",
   "metadata": {},
   "source": [
    "## Log Data Default Schema"
   ]
  },
  {
   "cell_type": "code",
   "execution_count": 5,
   "metadata": {},
   "outputs": [
    {
     "name": "stdout",
     "output_type": "stream",
     "text": [
      "DataFrame rows: 8056\n",
      "root\n",
      " |-- artist: string (nullable = true)\n",
      " |-- auth: string (nullable = true)\n",
      " |-- firstName: string (nullable = true)\n",
      " |-- gender: string (nullable = true)\n",
      " |-- itemInSession: long (nullable = true)\n",
      " |-- lastName: string (nullable = true)\n",
      " |-- length: double (nullable = true)\n",
      " |-- level: string (nullable = true)\n",
      " |-- location: string (nullable = true)\n",
      " |-- method: string (nullable = true)\n",
      " |-- page: string (nullable = true)\n",
      " |-- registration: double (nullable = true)\n",
      " |-- sessionId: long (nullable = true)\n",
      " |-- song: string (nullable = true)\n",
      " |-- status: long (nullable = true)\n",
      " |-- ts: long (nullable = true)\n",
      " |-- userAgent: string (nullable = true)\n",
      " |-- userId: string (nullable = true)\n",
      "\n",
      "DataFrame schema: DataFrame[artist: string, auth: string, firstName: string, gender: string, itemInSession: bigint, lastName: string, length: double, level: string, location: string, method: string, page: string, registration: double, sessionId: bigint, song: string, status: bigint, ts: bigint, userAgent: string, userId: string]\n",
      "+-----------+---------+---------+------+-------------+--------+---------+-----+--------------------+------+--------+-----------------+---------+---------------+------+-------------+--------------------+------+\n",
      "|     artist|     auth|firstName|gender|itemInSession|lastName|   length|level|            location|method|    page|     registration|sessionId|           song|status|           ts|           userAgent|userId|\n",
      "+-----------+---------+---------+------+-------------+--------+---------+-----+--------------------+------+--------+-----------------+---------+---------------+------+-------------+--------------------+------+\n",
      "|   Harmonia|Logged In|     Ryan|     M|            0|   Smith|655.77751| free|San Jose-Sunnyval...|   PUT|NextSong|1.541016707796E12|      583|  Sehr kosmisch|   200|1542241826796|\"Mozilla/5.0 (X11...|    26|\n",
      "|The Prodigy|Logged In|     Ryan|     M|            1|   Smith|260.07465| free|San Jose-Sunnyval...|   PUT|NextSong|1.541016707796E12|      583|The Big Gundown|   200|1542242481796|\"Mozilla/5.0 (X11...|    26|\n",
      "+-----------+---------+---------+------+-------------+--------+---------+-----+--------------------+------+--------+-----------------+---------+---------------+------+-------------+--------------------+------+\n",
      "only showing top 2 rows\n",
      "\n"
     ]
    }
   ],
   "source": [
    "log_data_path = \"./log_data/*.json\"\n",
    "df_log = spark.read.json(log_data_path)\n",
    "df_log\n",
    "print('DataFrame rows: %d' % df_log.count())\n",
    "df_log.printSchema()\n",
    "print('DataFrame schema: %s' % df_log)\n",
    "df_log.show(2)"
   ]
  },
  {
   "cell_type": "markdown",
   "metadata": {},
   "source": [
    "## Log Data My Schema"
   ]
  },
  {
   "cell_type": "code",
   "execution_count": 8,
   "metadata": {},
   "outputs": [
    {
     "name": "stdout",
     "output_type": "stream",
     "text": [
      "DataFrame rows: 8056\n",
      "root\n",
      " |-- artist: string (nullable = true)\n",
      " |-- auth: string (nullable = true)\n",
      " |-- firstName: string (nullable = true)\n",
      " |-- gender: string (nullable = true)\n",
      " |-- itemInSession: integer (nullable = true)\n",
      " |-- lastName: string (nullable = true)\n",
      " |-- length: float (nullable = true)\n",
      " |-- level: string (nullable = true)\n",
      " |-- location: string (nullable = true)\n",
      " |-- method: string (nullable = true)\n",
      " |-- page: string (nullable = true)\n",
      " |-- registration: float (nullable = true)\n",
      " |-- sessionId: string (nullable = true)\n",
      " |-- song: string (nullable = true)\n",
      " |-- status: integer (nullable = true)\n",
      " |-- ts: long (nullable = true)\n",
      " |-- userAgent: string (nullable = true)\n",
      " |-- userId: string (nullable = true)\n",
      "\n",
      "DataFrame schema: DataFrame[artist: string, auth: string, firstName: string, gender: string, itemInSession: int, lastName: string, length: float, level: string, location: string, method: string, page: string, registration: float, sessionId: string, song: string, status: int, ts: bigint, userAgent: string, userId: string]\n",
      "+-----------+---------+---------+------+-------------+--------+---------+-----+--------------------+------+--------+-------------+---------+---------------+------+-------------+--------------------+------+\n",
      "|     artist|     auth|firstName|gender|itemInSession|lastName|   length|level|            location|method|    page| registration|sessionId|           song|status|           ts|           userAgent|userId|\n",
      "+-----------+---------+---------+------+-------------+--------+---------+-----+--------------------+------+--------+-------------+---------+---------------+------+-------------+--------------------+------+\n",
      "|   Harmonia|Logged In|     Ryan|     M|            0|   Smith| 655.7775| free|San Jose-Sunnyval...|   PUT|NextSong|1.54101665E12|      583|  Sehr kosmisch|   200|1542241826796|\"Mozilla/5.0 (X11...|    26|\n",
      "|The Prodigy|Logged In|     Ryan|     M|            1|   Smith|260.07465| free|San Jose-Sunnyval...|   PUT|NextSong|1.54101665E12|      583|The Big Gundown|   200|1542242481796|\"Mozilla/5.0 (X11...|    26|\n",
      "+-----------+---------+---------+------+-------------+--------+---------+-----+--------------------+------+--------+-------------+---------+---------------+------+-------------+--------------------+------+\n",
      "only showing top 2 rows\n",
      "\n"
     ]
    }
   ],
   "source": [
    "log_data_path = \"./log_data/*.json\"\n",
    "log_schema = StructType([\n",
    "    StructField(\"artist\", StringType()),\n",
    "    StructField(\"auth\", StringType()),\n",
    "    StructField(\"firstName\", StringType()),\n",
    "    StructField(\"gender\", StringType()),\n",
    "    StructField(\"itemInSession\", IntegerType()),\n",
    "    StructField(\"lastName\", StringType()),\n",
    "    StructField(\"length\", FloatType()),    \n",
    "    StructField(\"level\", StringType()),\n",
    "    StructField(\"location\", StringType()),\n",
    "    StructField(\"method\", StringType()),\n",
    "    StructField(\"page\", StringType()),\n",
    "    StructField(\"registration\", FloatType()),\n",
    "    StructField(\"sessionId\", StringType()),\n",
    "    StructField(\"song\", StringType()),\n",
    "    StructField(\"status\", IntegerType()),\n",
    "    StructField(\"ts\", LongType()),\n",
    "    StructField(\"userAgent\", StringType()),\n",
    "    StructField(\"userId\", StringType())\n",
    "])\n",
    "df_logS = spark.read.json(log_data_path, schema=log_schema)\n",
    "df_logS\n",
    "print('DataFrame rows: %d' % df_logS.count())\n",
    "df_logS.printSchema()\n",
    "print('DataFrame schema: %s' % df_logS)\n",
    "df_logS.show(2)"
   ]
  },
  {
   "cell_type": "markdown",
   "metadata": {},
   "source": [
    "## Song Data My schema"
   ]
  },
  {
   "cell_type": "code",
   "execution_count": 7,
   "metadata": {},
   "outputs": [
    {
     "name": "stdout",
     "output_type": "stream",
     "text": [
      "DataFrame rows: 11\n",
      "root\n",
      " |-- num_songs: integer (nullable = true)\n",
      " |-- artist_id: string (nullable = true)\n",
      " |-- artist_latitude: float (nullable = true)\n",
      " |-- artist_longitude: float (nullable = true)\n",
      " |-- artist_location: string (nullable = true)\n",
      " |-- artist_name: string (nullable = true)\n",
      " |-- song_id: string (nullable = true)\n",
      " |-- title: string (nullable = true)\n",
      " |-- duration: float (nullable = true)\n",
      " |-- year: integer (nullable = true)\n",
      "\n",
      "DataFrame schema: DataFrame[num_songs: int, artist_id: string, artist_latitude: float, artist_longitude: float, artist_location: string, artist_name: string, song_id: string, title: string, duration: float, year: int]\n",
      "+---------+------------------+---------------+----------------+--------------------+--------------------+------------------+--------------------+---------+----+\n",
      "|num_songs|         artist_id|artist_latitude|artist_longitude|     artist_location|         artist_name|           song_id|               title| duration|year|\n",
      "+---------+------------------+---------------+----------------+--------------------+--------------------+------------------+--------------------+---------+----+\n",
      "|        1|ARKFYS91187B98E58F|           null|            null|                    |Jeff And Sheri Ea...|SOYMRWW12A6D4FAB14|The Moon And I (O...| 267.7024|   0|\n",
      "|        1|AR10USD1187B99F3F1|           null|            null|Burlington, Ontar...|Tweeterfriendly M...|SOHKNRJ12A6701D1F8|        Drop of Rain|189.57016|   0|\n",
      "|        1|ARGSJW91187B9B1D6B|       35.21962|       -80.01955|      North Carolina|        JennyAnyKind|SOQHXMF12AB0182363|     Young Boy Blues|218.77505|   0|\n",
      "+---------+------------------+---------------+----------------+--------------------+--------------------+------------------+--------------------+---------+----+\n",
      "only showing top 3 rows\n",
      "\n"
     ]
    }
   ],
   "source": [
    "song_data_path = \"./song_data/A/A/A/*.json\"\n",
    "song_schema = StructType([\n",
    "    StructField(\"num_songs\", IntegerType()),\n",
    "    StructField(\"artist_id\", StringType()),\n",
    "    StructField(\"artist_latitude\", FloatType()),\n",
    "    StructField(\"artist_longitude\", FloatType()),\n",
    "    StructField(\"artist_location\", StringType()),\n",
    "    StructField(\"artist_name\", StringType()),\n",
    "    StructField(\"song_id\", StringType()),\n",
    "    StructField(\"title\", StringType()),\n",
    "    StructField(\"duration\", FloatType()),\n",
    "    StructField(\"year\", IntegerType())   \n",
    "])\n",
    "df_song = spark.read.json(song_data_path, schema = song_schema)\n",
    "print('DataFrame rows: %d' % df_song.count())\n",
    "df_song.printSchema()\n",
    "print('DataFrame schema: %s' % df_song)\n",
    "df_song.show(3)"
   ]
  },
  {
   "cell_type": "code",
   "execution_count": null,
   "metadata": {},
   "outputs": [],
   "source": []
  },
  {
   "cell_type": "code",
   "execution_count": null,
   "metadata": {},
   "outputs": [],
   "source": []
  }
 ],
 "metadata": {
  "kernelspec": {
   "display_name": "Python 3",
   "language": "python",
   "name": "python3"
  },
  "language_info": {
   "codemirror_mode": {
    "name": "ipython",
    "version": 3
   },
   "file_extension": ".py",
   "mimetype": "text/x-python",
   "name": "python",
   "nbconvert_exporter": "python",
   "pygments_lexer": "ipython3",
   "version": "3.7.6"
  }
 },
 "nbformat": 4,
 "nbformat_minor": 4
}
