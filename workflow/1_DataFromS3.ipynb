{
 "cells": [
  {
   "cell_type": "code",
   "execution_count": 1,
   "metadata": {},
   "outputs": [
    {
     "name": "stdout",
     "output_type": "stream",
     "text": [
      "Requirement already satisfied: spark-nlp==1.7.3 in /opt/conda/lib/python3.7/site-packages (1.7.3)\r\n"
     ]
    }
   ],
   "source": [
    "!pip install spark-nlp==1.7.3"
   ]
  },
  {
   "cell_type": "code",
   "execution_count": 2,
   "metadata": {},
   "outputs": [
    {
     "name": "stdout",
     "output_type": "stream",
     "text": [
      "openjdk version \"1.8.0_242\"\n",
      "OpenJDK Runtime Environment (build 1.8.0_242-8u242-b08-0ubuntu3~18.04-b08)\n",
      "OpenJDK 64-Bit Server VM (build 25.242-b08, mixed mode)\n",
      "Python 3.7.6\n"
     ]
    }
   ],
   "source": [
    "!java -version\n",
    "!python --version"
   ]
  },
  {
   "cell_type": "code",
   "execution_count": 3,
   "metadata": {},
   "outputs": [],
   "source": [
    "from pyspark.sql.types import TimestampType, StructType, StructField, FloatType, IntegerType, LongType, StringType, DataType\n",
    "from pyspark.sql.functions import year, month, dayofmonth, hour, weekofyear\n",
    "from pyspark.sql.functions import monotonically_increasing_id\n",
    "from pyspark import SparkContext, SparkConf\n",
    "from pyspark.sql.functions import udf,col\n",
    "from pyspark.sql import functions as F\n",
    "from pyspark.sql import SparkSession\n",
    "from pyspark.sql import types as T\n",
    "from datetime import datetime\n",
    "import configparser\n",
    "import pandas as pd\n",
    "import os"
   ]
  },
  {
   "cell_type": "markdown",
   "metadata": {},
   "source": [
    "# MY FUNCTIONS"
   ]
  },
  {
   "cell_type": "code",
   "execution_count": 4,
   "metadata": {},
   "outputs": [],
   "source": [
    "def check_parquet(parquet_path):\n",
    "    ! ls 2>&1 -lh $parquet_path | head -10\n",
    "    ! echo 'Parquet Files:' $(ls | wc -l)\n",
    "    table_parquet = spark.read.parquet(parquet_path)\n",
    "    print('DataFrame rows: %d' % table_parquet.count())\n",
    "    print('DataFrame schema: %s' % table_parquet)\n",
    "    table_parquet.show(10, False)\n",
    "    return table_parquet"
   ]
  },
  {
   "cell_type": "code",
   "execution_count": 5,
   "metadata": {},
   "outputs": [],
   "source": [
    "def clean_timestamp(df):\n",
    "    # convert timestamps to date time from epoch time so we can get hour of the day\n",
    "    get_timestamp = F.udf(lambda x: datetime.fromtimestamp(x/1000), T.TimestampType())\n",
    "    # add a new column `formated_ts` in our dataframe\n",
    "    df_log_copy = df.withColumn(\"formated_ts\", get_timestamp(df.ts))\n",
    "    # remove rows with empty ts value\n",
    "    df_formated = df_log_copy.dropna(subset='ts')\n",
    "    return df_formated"
   ]
  },
  {
   "cell_type": "code",
   "execution_count": 6,
   "metadata": {},
   "outputs": [],
   "source": [
    "def write_parquet_song(table, parquet_path):\n",
    "    table.write.partitionBy(\"year\", \"artist_id\").parquet(parquet_path, mode = 'overwrite')"
   ]
  },
  {
   "cell_type": "code",
   "execution_count": 7,
   "metadata": {},
   "outputs": [],
   "source": [
    "def write_parquet(table, parquet_path):\n",
    "    table.write.parquet(parquet_path, mode = 'overwrite')"
   ]
  },
  {
   "cell_type": "code",
   "execution_count": 8,
   "metadata": {},
   "outputs": [],
   "source": [
    "def write_parquet_time(table, parquet_path):\n",
    "    table.write.partitionBy(['year', 'month']).parquet(parquet_path, mode = 'overwrite')"
   ]
  },
  {
   "cell_type": "markdown",
   "metadata": {},
   "source": [
    "# GET AWS KEYS"
   ]
  },
  {
   "cell_type": "code",
   "execution_count": 9,
   "metadata": {},
   "outputs": [],
   "source": [
    "config = configparser.ConfigParser()\n",
    "config.read('dl.cfg')\n",
    "os.environ['AWS_ACCESS_KEY_ID'] = config['AWS']['KEY']\n",
    "os.environ['AWS_SECRET_ACCESS_KEY'] = config['AWS']['SECRET']"
   ]
  },
  {
   "cell_type": "markdown",
   "metadata": {},
   "source": [
    "# INITIATE SPARK SESSION"
   ]
  },
  {
   "cell_type": "code",
   "execution_count": 10,
   "metadata": {},
   "outputs": [
    {
     "data": {
      "text/html": [
       "\n",
       "            <div>\n",
       "                <p><b>SparkSession - in-memory</b></p>\n",
       "                \n",
       "        <div>\n",
       "            <p><b>SparkContext</b></p>\n",
       "\n",
       "            <p><a href=\"http://7d1f8aa9b8c3:4040\">Spark UI</a></p>\n",
       "\n",
       "            <dl>\n",
       "              <dt>Version</dt>\n",
       "                <dd><code>v2.4.5</code></dd>\n",
       "              <dt>Master</dt>\n",
       "                <dd><code>local[*]</code></dd>\n",
       "              <dt>AppName</dt>\n",
       "                <dd><code>pyspark-shell</code></dd>\n",
       "            </dl>\n",
       "        </div>\n",
       "        \n",
       "            </div>\n",
       "        "
      ],
      "text/plain": [
       "<pyspark.sql.session.SparkSession at 0x7f6bee8f5d10>"
      ]
     },
     "execution_count": 10,
     "metadata": {},
     "output_type": "execute_result"
    }
   ],
   "source": [
    "def create_spark_session():\n",
    "    \"\"\"\n",
    "        Create or load a Spark session\n",
    "    \"\"\"\n",
    "    spark = SparkSession \\\n",
    "        .builder \\\n",
    "        .config(\"spark.jars.packages\", \"org.apache.hadoop:hadoop-aws:2.7.0\") \\\n",
    "        .getOrCreate()\n",
    "    return spark\n",
    "\n",
    "spark = create_spark_session()\n",
    "spark"
   ]
  },
  {
   "cell_type": "markdown",
   "metadata": {},
   "source": [
    "# PROCESS SONG DATA"
   ]
  },
  {
   "cell_type": "code",
   "execution_count": 11,
   "metadata": {},
   "outputs": [],
   "source": [
    "input_song = \"s3a://udacity-dend/song_data/A/A/A/*.json\""
   ]
  },
  {
   "cell_type": "code",
   "execution_count": 12,
   "metadata": {},
   "outputs": [],
   "source": [
    "def process_song_data(spark, input_data):\n",
    "    '''\n",
    "    process song data\n",
    "    \n",
    "    return df_song\n",
    "    '''\n",
    "    # read  data file\n",
    "    song_schema = StructType([\n",
    "        StructField(\"num_songs\", IntegerType()),\n",
    "        StructField(\"artist_id\", StringType()),\n",
    "        StructField(\"artist_latitude\", FloatType()),\n",
    "        StructField(\"artist_longitude\", FloatType()),\n",
    "        StructField(\"artist_location\", StringType()),\n",
    "        StructField(\"artist_name\", StringType()),\n",
    "        StructField(\"song_id\", StringType()),\n",
    "        StructField(\"title\", StringType()),\n",
    "        StructField(\"duration\", FloatType()),\n",
    "        StructField(\"year\", IntegerType())\n",
    "    ])    \n",
    "    df_song = spark.read.json(input_data, schema = song_schema)\n",
    "    # print('DataFrame rows: %d' % df_song.count())\n",
    "    df_song.printSchema()\n",
    "    print('DataFrame schema: %s' % df_song)\n",
    "    return df_song"
   ]
  },
  {
   "cell_type": "code",
   "execution_count": 13,
   "metadata": {},
   "outputs": [
    {
     "name": "stdout",
     "output_type": "stream",
     "text": [
      "root\n",
      " |-- num_songs: integer (nullable = true)\n",
      " |-- artist_id: string (nullable = true)\n",
      " |-- artist_latitude: float (nullable = true)\n",
      " |-- artist_longitude: float (nullable = true)\n",
      " |-- artist_location: string (nullable = true)\n",
      " |-- artist_name: string (nullable = true)\n",
      " |-- song_id: string (nullable = true)\n",
      " |-- title: string (nullable = true)\n",
      " |-- duration: float (nullable = true)\n",
      " |-- year: integer (nullable = true)\n",
      "\n",
      "DataFrame schema: DataFrame[num_songs: int, artist_id: string, artist_latitude: float, artist_longitude: float, artist_location: string, artist_name: string, song_id: string, title: string, duration: float, year: int]\n"
     ]
    }
   ],
   "source": [
    "df_song = process_song_data(spark, input_song)"
   ]
  },
  {
   "cell_type": "markdown",
   "metadata": {},
   "source": [
    "### Create songs Table\n",
    "\n",
    "* varchar : song_id, title, artist_id\n",
    "* float : user_id\n",
    "* int: year\n",
    "* NOT NULL : song_id, title, artist_id"
   ]
  },
  {
   "cell_type": "code",
   "execution_count": 14,
   "metadata": {},
   "outputs": [],
   "source": [
    "def create_songs_table(df):\n",
    "    table = df_song \\\n",
    "        .drop_duplicates(['song_id']) \\\n",
    "        .select(\"song_id\", \"title\", \"artist_id\", \"year\", \"duration\") \\\n",
    "        .filter('song_id != \"\" and title != \"\" and artist_id != \"\"') \\\n",
    "        .sort(\"song_id\") \n",
    "    return(table)"
   ]
  },
  {
   "cell_type": "code",
   "execution_count": 15,
   "metadata": {},
   "outputs": [
    {
     "name": "stdout",
     "output_type": "stream",
     "text": [
      "+------------------+--------------------+------------------+----+---------+\n",
      "|           song_id|               title|         artist_id|year| duration|\n",
      "+------------------+--------------------+------------------+----+---------+\n",
      "|SOABWAP12A8C13F82A|           Take Time|AR5LMPY1187FB573FE|1978|258.89914|\n",
      "|SOAFBCP12A8C13CC7D|King Of Scurf (20...|ARTC1LV1187B9A4858|1972|301.40036|\n",
      "+------------------+--------------------+------------------+----+---------+\n",
      "only showing top 2 rows\n",
      "\n"
     ]
    }
   ],
   "source": [
    "# process and check\n",
    "songs_table = create_songs_table(df_song)\n",
    "songs_table.show(2)"
   ]
  },
  {
   "cell_type": "code",
   "execution_count": 16,
   "metadata": {},
   "outputs": [],
   "source": [
    "songs_table.collect()\n",
    "parquet_path = 'output/songs_table'\n",
    "write_parquet_song(songs_table, parquet_path)\n",
    "# check_parquet(parquet_path)"
   ]
  },
  {
   "cell_type": "markdown",
   "metadata": {},
   "source": [
    "### Create Artists Table\n",
    "\n",
    "* varchar : artist_id, name, location\n",
    "* float : latitude, longitude\n",
    "* NOT NULL : artist_id, name"
   ]
  },
  {
   "cell_type": "code",
   "execution_count": 17,
   "metadata": {},
   "outputs": [],
   "source": [
    "def create_artists_table(df):\n",
    "    table = df \\\n",
    "        .drop_duplicates(['artist_id']) \\\n",
    "        .selectExpr(\"artist_id\", \"artist_name as name\", \"artist_location as location\", \"artist_latitude as latitude\", \"artist_longitude as longitude\") \\\n",
    "        .filter('artist_id != \"\" and name != \"\"') \\\n",
    "        .sort(\"artist_id\")\n",
    "    return table"
   ]
  },
  {
   "cell_type": "code",
   "execution_count": 18,
   "metadata": {},
   "outputs": [
    {
     "name": "stdout",
     "output_type": "stream",
     "text": [
      "+------------------+--------------------+--------------------+--------+---------+\n",
      "|         artist_id|                name|            location|latitude|longitude|\n",
      "+------------------+--------------------+--------------------+--------+---------+\n",
      "|AR0MWD61187B9B2B12|International Noi...|                    |    null|     null|\n",
      "|AR10USD1187B99F3F1|Tweeterfriendly M...|Burlington, Ontar...|    null|     null|\n",
      "+------------------+--------------------+--------------------+--------+---------+\n",
      "only showing top 2 rows\n",
      "\n"
     ]
    }
   ],
   "source": [
    "# process and check\n",
    "artists_table = create_artists_table(df_song)\n",
    "artists_table.show(2)"
   ]
  },
  {
   "cell_type": "code",
   "execution_count": 19,
   "metadata": {},
   "outputs": [],
   "source": [
    "artists_table.collect()\n",
    "parquet_path = 'output/artists_table'\n",
    "write_parquet(artists_table, parquet_path)\n",
    "# check_parquet(parquet_path)"
   ]
  },
  {
   "cell_type": "markdown",
   "metadata": {},
   "source": [
    "# LOG_DATA"
   ]
  },
  {
   "cell_type": "code",
   "execution_count": 20,
   "metadata": {},
   "outputs": [],
   "source": [
    "input_log = \"s3a://udacity-dend/log_data/*/*/*.json\""
   ]
  },
  {
   "cell_type": "code",
   "execution_count": 21,
   "metadata": {},
   "outputs": [],
   "source": [
    "def process_log_data(spark, input_log):\n",
    "    '''\n",
    "    process log data\n",
    "    \n",
    "    return df_log\n",
    "    '''\n",
    "    # read log data file\n",
    "    log_schema = StructType([\n",
    "        StructField(\"artist\", StringType()),\n",
    "        StructField(\"auth\", StringType()),\n",
    "        StructField(\"firstName\", StringType()),\n",
    "        StructField(\"gender\", StringType()),\n",
    "        StructField(\"itemInSession\", IntegerType()),\n",
    "        StructField(\"lastName\", StringType()),\n",
    "        StructField(\"length\", FloatType()),    \n",
    "        StructField(\"level\", StringType()),\n",
    "        StructField(\"location\", StringType()),\n",
    "        StructField(\"method\", StringType()),\n",
    "        StructField(\"page\", StringType()),\n",
    "        StructField(\"registration\", FloatType()),\n",
    "        StructField(\"sessionId\", StringType()),\n",
    "        StructField(\"song\", StringType()),\n",
    "        StructField(\"status\", IntegerType()),\n",
    "        StructField(\"ts\", LongType()),\n",
    "        StructField(\"userAgent\", StringType()),\n",
    "        StructField(\"userId\", StringType())\n",
    "    ])\n",
    "    \n",
    "    df_log_raw = spark.read.json(input_log, schema = log_schema)\n",
    "    # print('DataFrame raw: %d' % df_log_raw.count())\n",
    "    df_log_next = df_log_raw.filter(\"page='NextSong'\")\n",
    "    # print('DataFrame next: %d' % df_log_next.count())\n",
    "    df_log=clean_timestamp(df_log_next)    \n",
    "    # print('DataFrame rows: %d' % df_log.count())\n",
    "    df_log.printSchema()\n",
    "    print('DataFrame schema: %s' % df_log)\n",
    "    return df_log"
   ]
  },
  {
   "cell_type": "code",
   "execution_count": 22,
   "metadata": {},
   "outputs": [
    {
     "name": "stdout",
     "output_type": "stream",
     "text": [
      "root\n",
      " |-- artist: string (nullable = true)\n",
      " |-- auth: string (nullable = true)\n",
      " |-- firstName: string (nullable = true)\n",
      " |-- gender: string (nullable = true)\n",
      " |-- itemInSession: integer (nullable = true)\n",
      " |-- lastName: string (nullable = true)\n",
      " |-- length: float (nullable = true)\n",
      " |-- level: string (nullable = true)\n",
      " |-- location: string (nullable = true)\n",
      " |-- method: string (nullable = true)\n",
      " |-- page: string (nullable = true)\n",
      " |-- registration: float (nullable = true)\n",
      " |-- sessionId: string (nullable = true)\n",
      " |-- song: string (nullable = true)\n",
      " |-- status: integer (nullable = true)\n",
      " |-- ts: long (nullable = true)\n",
      " |-- userAgent: string (nullable = true)\n",
      " |-- userId: string (nullable = true)\n",
      " |-- formated_ts: timestamp (nullable = true)\n",
      "\n",
      "DataFrame schema: DataFrame[artist: string, auth: string, firstName: string, gender: string, itemInSession: int, lastName: string, length: float, level: string, location: string, method: string, page: string, registration: float, sessionId: string, song: string, status: int, ts: bigint, userAgent: string, userId: string, formated_ts: timestamp]\n"
     ]
    }
   ],
   "source": [
    "df_log= process_log_data(spark, input_log)"
   ]
  },
  {
   "cell_type": "markdown",
   "metadata": {},
   "source": [
    "### Create users table\n",
    "\n",
    "* bigint: user_Id\n",
    "* varchar first_name, last_name, gender\n",
    "* NOT NULL : user_id, level"
   ]
  },
  {
   "cell_type": "code",
   "execution_count": 23,
   "metadata": {},
   "outputs": [],
   "source": [
    "def create_users_table(df):\n",
    "    users_table = df \\\n",
    "        .drop_duplicates(subset = ['userId']) \\\n",
    "        .filter('level != \"\"' and 'userId != \"\"') \\\n",
    "        .orderBy(\"ts\", ascending = False) \\\n",
    "        .coalesce(1)\\\n",
    "        .selectExpr(\"cast(userId as Long) user_id\", \"firstName as first_name\", \"lastName as last_name\", \"gender\", \"level\")   \\\n",
    "        .sort('user_id')\n",
    "    return users_table"
   ]
  },
  {
   "cell_type": "code",
   "execution_count": 24,
   "metadata": {},
   "outputs": [
    {
     "name": "stdout",
     "output_type": "stream",
     "text": [
      "+-------+----------+---------+------+-----+\n",
      "|user_id|first_name|last_name|gender|level|\n",
      "+-------+----------+---------+------+-----+\n",
      "|      2|   Jizelle| Benjamin|     F| free|\n",
      "|      3|     Isaac|   Valdez|     M| free|\n",
      "|      4|    Alivia|  Terrell|     F| free|\n",
      "|      5|    Elijah|    Davis|     M| free|\n",
      "|      6|   Cecilia|    Owens|     F| free|\n",
      "+-------+----------+---------+------+-----+\n",
      "only showing top 5 rows\n",
      "\n"
     ]
    }
   ],
   "source": [
    "# process and check\n",
    "users_table = create_users_table(df_log)\n",
    "users_table.show(5)"
   ]
  },
  {
   "cell_type": "code",
   "execution_count": 25,
   "metadata": {},
   "outputs": [],
   "source": [
    "users_table.collect()\n",
    "parquet_path = 'output/users_table'\n",
    "write_parquet(users_table, parquet_path)\n",
    "# check_parquet(parquet_path)"
   ]
  },
  {
   "cell_type": "markdown",
   "metadata": {},
   "source": [
    "### Create Time table\n",
    "\n",
    "* timestamp: start_time\n",
    "* int: hour, day, week, month, year\n",
    "* varchar:  weekday\n",
    "* NOT NULL : start_time"
   ]
  },
  {
   "cell_type": "code",
   "execution_count": 26,
   "metadata": {},
   "outputs": [],
   "source": [
    "def create_time_table(df):\n",
    "    time_df = df \\\n",
    "        .drop_duplicates(['formated_ts']) \\\n",
    "        .select( \\\n",
    "            col('formated_ts').alias(\"start_time\"),\n",
    "            hour(col('formated_ts')).alias('hour'),\n",
    "            dayofmonth(col('formated_ts')).alias('day'),\n",
    "            weekofyear(col('formated_ts')).alias('week'),\n",
    "            month(col('formated_ts')).alias('month'),\n",
    "            year(col('formated_ts')).alias('year')) \\\n",
    "        .sort('start_time')\n",
    "\n",
    "    time_table = time_df.withColumn('hour', F.hour('start_time')) \\\n",
    "                    .withColumn('day', F.dayofmonth('start_time')) \\\n",
    "                    .withColumn('year', F.year('start_time')) \\\n",
    "                    .withColumn('week', F.weekofyear('start_time')) \\\n",
    "                    .withColumn('month', F.month('start_time')) \\\n",
    "                    .withColumn('weekday', F.dayofweek('start_time').cast(\"string\"))\n",
    "    return time_table"
   ]
  },
  {
   "cell_type": "code",
   "execution_count": 42,
   "metadata": {},
   "outputs": [
    {
     "name": "stdout",
     "output_type": "stream",
     "text": [
      "+--------------------+----+---+----+-----+----+-------+\n",
      "|          start_time|hour|day|week|month|year|weekday|\n",
      "+--------------------+----+---+----+-----+----+-------+\n",
      "|2018-11-01 21:01:...|  21|  1|  44|   11|2018|      5|\n",
      "|2018-11-01 21:05:...|  21|  1|  44|   11|2018|      5|\n",
      "|2018-11-01 21:08:...|  21|  1|  44|   11|2018|      5|\n",
      "|2018-11-01 21:11:...|  21|  1|  44|   11|2018|      5|\n",
      "|2018-11-01 21:17:...|  21|  1|  44|   11|2018|      5|\n",
      "|2018-11-01 21:24:...|  21|  1|  44|   11|2018|      5|\n",
      "|2018-11-01 21:28:...|  21|  1|  44|   11|2018|      5|\n",
      "|2018-11-01 21:42:...|  21|  1|  44|   11|2018|      5|\n",
      "|2018-11-01 21:52:...|  21|  1|  44|   11|2018|      5|\n",
      "|2018-11-01 21:55:...|  21|  1|  44|   11|2018|      5|\n",
      "|2018-11-01 22:23:...|  22|  1|  44|   11|2018|      5|\n",
      "|2018-11-02 01:25:...|   1|  2|  44|   11|2018|      6|\n",
      "|2018-11-02 01:30:...|   1|  2|  44|   11|2018|      6|\n",
      "|2018-11-02 01:34:...|   1|  2|  44|   11|2018|      6|\n",
      "|2018-11-02 02:42:...|   2|  2|  44|   11|2018|      6|\n",
      "|2018-11-02 03:05:...|   3|  2|  44|   11|2018|      6|\n",
      "|2018-11-02 03:34:...|   3|  2|  44|   11|2018|      6|\n",
      "|2018-11-02 05:15:...|   5|  2|  44|   11|2018|      6|\n",
      "|2018-11-02 05:52:...|   5|  2|  44|   11|2018|      6|\n",
      "|2018-11-02 09:01:...|   9|  2|  44|   11|2018|      6|\n",
      "+--------------------+----+---+----+-----+----+-------+\n",
      "only showing top 20 rows\n",
      "\n"
     ]
    }
   ],
   "source": [
    "# process and check\n",
    "time_table = create_time_table(df_log)\n",
    "time_table.show(20)"
   ]
  },
  {
   "cell_type": "code",
   "execution_count": 28,
   "metadata": {},
   "outputs": [],
   "source": [
    "time_table.collect()\n",
    "parquet_path = 'output/time_table'\n",
    "write_parquet_time(time_table, parquet_path)\n",
    "# check_parquet(parquet_path)"
   ]
  },
  {
   "cell_type": "markdown",
   "metadata": {},
   "source": [
    "### Create the songplays fact table\n",
    "\n",
    "* bigint: songplay_id, user_id\n",
    "* timestamp : start_time\n",
    "* varchar : level, song_id, artist_id, session_id, location, user_agent\n",
    "* int: month, year\n",
    "* NOT NULL : start_time, user_id, level, session_id\n",
    "\n"
   ]
  },
  {
   "cell_type": "code",
   "execution_count": 29,
   "metadata": {},
   "outputs": [],
   "source": [
    "def create_songplays_table(tl, ts):\n",
    "    tl = df_log.alias('tl')\n",
    "    ts = df_song.alias('ts')\n",
    "    \n",
    "    inner_join = tl.join(ts, ((tl.artist == ts.artist_name) & (tl.artist == ts.artist_name)), how='inner')\n",
    "    \n",
    "    songplays = inner_join \\\n",
    "            .withColumn(\"songplay_id\", monotonically_increasing_id()) \\\n",
    "            .filter('formated_ts != \"\"' and 'userId != \"\"' and 'level != \"\"' and 'sessionId != \"\"')\n",
    "    \n",
    "    songplays_table = songplays \\\n",
    "                    .selectExpr(\"songplay_id\",\n",
    "                                    \"formated_ts as start_time\",\n",
    "                                    \"cast(userId as Long) user_id\",\n",
    "                                    \"level\",\n",
    "                                    \"song_id\",\n",
    "                                    \"artist_id\",\n",
    "                                    \"sessionId as session_id\",\n",
    "                                    \"location\",\n",
    "                                    \"userAgent as user_agent\") \\\n",
    "                    .sort('songplay_id') \\\n",
    "                    .withColumn('year', F.year('start_time')) \\\n",
    "                    .withColumn('month', F.month('start_time'))\n",
    "\n",
    "    return songplays_table"
   ]
  },
  {
   "cell_type": "code",
   "execution_count": 30,
   "metadata": {},
   "outputs": [
    {
     "name": "stdout",
     "output_type": "stream",
     "text": [
      "+-----------+--------------------+-------+-----+------------------+------------------+----------+--------------------+--------------------+----+-----+\n",
      "|songplay_id|          start_time|user_id|level|           song_id|         artist_id|session_id|            location|          user_agent|year|month|\n",
      "+-----------+--------------------+-------+-----+------------------+------------------+----------+--------------------+--------------------+----+-----+\n",
      "|          0|2018-11-15 16:55:...|     42| paid|SONRWUU12AF72A4283|ARGE7G11187FB37E05|       404|New York-Newark-J...|\"Mozilla/5.0 (Win...|2018|   11|\n",
      "|          1|2018-11-21 05:30:...|     97| paid|SONRWUU12AF72A4283|ARGE7G11187FB37E05|       797|Lansing-East Lans...|\"Mozilla/5.0 (X11...|2018|   11|\n",
      "|          2|2018-11-28 16:54:...|     14| free|SOIGHOD12A8C13B5A1|ARY589G1187B9A9F4E|       929|       Red Bluff, CA|Mozilla/5.0 (Wind...|2018|   11|\n",
      "|          3|2018-11-05 02:21:...|     44| paid|SONRWUU12AF72A4283|ARGE7G11187FB37E05|       237|Waterloo-Cedar Fa...|Mozilla/5.0 (Maci...|2018|   11|\n",
      "|          4|2018-11-30 13:20:...|     43| free|SOXZYWX12A6310ED0C|ARC1IHZ1187FB4E920|       618|San Antonio-New B...|\"Mozilla/5.0 (Win...|2018|   11|\n",
      "+-----------+--------------------+-------+-----+------------------+------------------+----------+--------------------+--------------------+----+-----+\n",
      "only showing top 5 rows\n",
      "\n"
     ]
    }
   ],
   "source": [
    "# process and check\n",
    "songplays_table = create_songplays_table(df_log, df_song)\n",
    "songplays_table.show(5)"
   ]
  },
  {
   "cell_type": "code",
   "execution_count": 31,
   "metadata": {
    "scrolled": true
   },
   "outputs": [],
   "source": [
    "songplays_table.collect()\n",
    "parquet_path = 'output/songplays_table'\n",
    "write_parquet_time(songplays_table, parquet_path)\n",
    "# check_parquet(parquet_path)"
   ]
  },
  {
   "cell_type": "code",
   "execution_count": 32,
   "metadata": {},
   "outputs": [
    {
     "name": "stdout",
     "output_type": "stream",
     "text": [
      "+------------------+-----+\n",
      "|song_id           |count|\n",
      "+------------------+-----+\n",
      "|SOABWAP12A8C13F82A|1    |\n",
      "|SOAFBCP12A8C13CC7D|1    |\n",
      "+------------------+-----+\n",
      "only showing top 2 rows\n",
      "\n",
      "Not Null with filter: 24 \n",
      "Null with filter: 0 \n",
      "+--------------------------------+-----+\n",
      "|title                           |count|\n",
      "+--------------------------------+-----+\n",
      "|A Poor Recipe For Civic Cohesion|1    |\n",
      "|Burn My Body (Album Version)    |1    |\n",
      "+--------------------------------+-----+\n",
      "only showing top 2 rows\n",
      "\n",
      "Not Null with filter: 24 \n",
      "Null with filter: 0 \n",
      "+------------------+-----+\n",
      "|artist_id         |count|\n",
      "+------------------+-----+\n",
      "|AR0MWD61187B9B2B12|1    |\n",
      "|AR10USD1187B99F3F1|1    |\n",
      "+------------------+-----+\n",
      "only showing top 2 rows\n",
      "\n",
      "Not Null with filter: 24 \n",
      "Null with filter: 0 \n",
      "Numbers of rows in songs_table : 24\n",
      "Not Null song_id with filter: 24 \n",
      "Null with song_id filter: 0 \n",
      "Not Null title with filter: 24 \n",
      "Null with title filter: 0 \n",
      "Not Null artist_id with filter: 24 \n",
      "Null with artist_id filter: 0 \n",
      "total 4.0K\n",
      "-rw-r--r-- 1 anthelix users    0 Mar 23 10:30 _SUCCESS\n",
      "drwxr-xr-x 3 anthelix users 4.0K Mar 23 10:30 year=2018\n",
      "Parquet Files: 18\n",
      "DataFrame rows: 10\n",
      "DataFrame schema: DataFrame[songplay_id: bigint, start_time: timestamp, user_id: bigint, level: string, song_id: string, artist_id: string, session_id: string, location: string, user_agent: string, year: int, month: int]\n",
      "+-----------+-----------------------+-------+-----+------------------+------------------+----------+-------------------------------------+---------------------------------------------------------------------------------------------------------------+----+-----+\n",
      "|songplay_id|start_time             |user_id|level|song_id           |artist_id         |session_id|location                             |user_agent                                                                                                     |year|month|\n",
      "+-----------+-----------------------+-------+-----+------------------+------------------+----------+-------------------------------------+---------------------------------------------------------------------------------------------------------------+----+-----+\n",
      "|0          |2018-11-15 16:55:31.796|42     |paid |SONRWUU12AF72A4283|ARGE7G11187FB37E05|404       |New York-Newark-Jersey City, NY-NJ-PA|\"Mozilla/5.0 (Windows NT 6.3; WOW64) AppleWebKit/537.36 (KHTML, like Gecko) Chrome/36.0.1985.143 Safari/537.36\"|2018|11   |\n",
      "|4          |2018-11-30 13:20:44.796|43     |free |SOXZYWX12A6310ED0C|ARC1IHZ1187FB4E920|618       |San Antonio-New Braunfels, TX        |\"Mozilla/5.0 (Windows NT 5.1) AppleWebKit/537.36 (KHTML, like Gecko) Chrome/36.0.1985.143 Safari/537.36\"       |2018|11   |\n",
      "|1          |2018-11-21 05:30:19.796|97     |paid |SONRWUU12AF72A4283|ARGE7G11187FB37E05|797       |Lansing-East Lansing, MI             |\"Mozilla/5.0 (X11; Linux x86_64) AppleWebKit/537.36 (KHTML, like Gecko) Chrome/37.0.2062.94 Safari/537.36\"     |2018|11   |\n",
      "|17179869184|2018-11-06 20:05:45.796|97     |paid |SOBLFFE12AF72AA5BA|ARJNIUY12298900C91|293       |Lansing-East Lansing, MI             |\"Mozilla/5.0 (X11; Linux x86_64) AppleWebKit/537.36 (KHTML, like Gecko) Chrome/37.0.2062.94 Safari/537.36\"     |2018|11   |\n",
      "|5          |2018-11-16 16:40:43.796|97     |paid |SOXZYWX12A6310ED0C|ARC1IHZ1187FB4E920|633       |Lansing-East Lansing, MI             |\"Mozilla/5.0 (X11; Linux x86_64) AppleWebKit/537.36 (KHTML, like Gecko) Chrome/37.0.2062.94 Safari/537.36\"     |2018|11   |\n",
      "|8589934592 |2018-11-20 00:51:41.796|25     |paid |SONRWUU12AF72A4283|ARGE7G11187FB37E05|594       |Marinette, WI-MI                     |\"Mozilla/5.0 (Windows NT 6.3; WOW64) AppleWebKit/537.36 (KHTML, like Gecko) Chrome/36.0.1985.143 Safari/537.36\"|2018|11   |\n",
      "|8589934594 |2018-11-27 17:08:42.796|36     |paid |SORRNOC12AB017F52B|ARSZ7L31187FB4E610|957       |Janesville-Beloit, WI                |\"Mozilla/5.0 (Windows NT 5.1) AppleWebKit/537.36 (KHTML, like Gecko) Chrome/36.0.1985.143 Safari/537.36\"       |2018|11   |\n",
      "|3          |2018-11-05 02:21:55.796|44     |paid |SONRWUU12AF72A4283|ARGE7G11187FB37E05|237       |Waterloo-Cedar Falls, IA             |Mozilla/5.0 (Macintosh; Intel Mac OS X 10.9; rv:31.0) Gecko/20100101 Firefox/31.0                              |2018|11   |\n",
      "|8589934593 |2018-11-19 15:36:04.796|49     |paid |SOFSOCN12A8C143F5D|ARXR32B1187FB57099|724       |San Francisco-Oakland-Hayward, CA    |Mozilla/5.0 (Windows NT 5.1; rv:31.0) Gecko/20100101 Firefox/31.0                                              |2018|11   |\n",
      "|2          |2018-11-28 16:54:51.796|14     |free |SOIGHOD12A8C13B5A1|ARY589G1187B9A9F4E|929       |Red Bluff, CA                        |Mozilla/5.0 (Windows NT 6.1; WOW64; rv:31.0) Gecko/20100101 Firefox/31.0                                       |2018|11   |\n",
      "+-----------+-----------------------+-------+-----+------------------+------------------+----------+-------------------------------------+---------------------------------------------------------------------------------------------------------------+----+-----+\n",
      "\n",
      "+------------------+-----+\n",
      "|artist_id         |count|\n",
      "+------------------+-----+\n",
      "|AR0MWD61187B9B2B12|1    |\n",
      "|AR10USD1187B99F3F1|1    |\n",
      "+------------------+-----+\n",
      "only showing top 2 rows\n",
      "\n",
      "Not Null artist_id with filter: 24 \n",
      "Null artist_id with filter: 0 \n",
      "+---------------+-----+\n",
      "|artist_name    |count|\n",
      "+---------------+-----+\n",
      "|Adelitas Way   |1    |\n",
      "|Broken Spindles|1    |\n",
      "+---------------+-----+\n",
      "only showing top 2 rows\n",
      "\n",
      "Not Null artist_name with filter: 24 \n",
      "Null artist_name with filter: 0 \n",
      "Numbers of rows in artists_table : 24\n",
      "Not Null artist_id  with filter: 24 \n",
      "Null with artist_id  filter: 0 \n",
      "Not Null name with filter: 24 \n",
      "Null with name filter: 0 \n",
      "total 4.0K\n",
      "-rw-r--r-- 1 anthelix users    0 Mar 23 10:30 _SUCCESS\n",
      "drwxr-xr-x 3 anthelix users 4.0K Mar 23 10:30 year=2018\n",
      "Parquet Files: 18\n",
      "DataFrame rows: 10\n",
      "DataFrame schema: DataFrame[songplay_id: bigint, start_time: timestamp, user_id: bigint, level: string, song_id: string, artist_id: string, session_id: string, location: string, user_agent: string, year: int, month: int]\n",
      "+-----------+-----------------------+-------+-----+------------------+------------------+----------+-------------------------------------+---------------------------------------------------------------------------------------------------------------+----+-----+\n",
      "|songplay_id|start_time             |user_id|level|song_id           |artist_id         |session_id|location                             |user_agent                                                                                                     |year|month|\n",
      "+-----------+-----------------------+-------+-----+------------------+------------------+----------+-------------------------------------+---------------------------------------------------------------------------------------------------------------+----+-----+\n",
      "|0          |2018-11-15 16:55:31.796|42     |paid |SONRWUU12AF72A4283|ARGE7G11187FB37E05|404       |New York-Newark-Jersey City, NY-NJ-PA|\"Mozilla/5.0 (Windows NT 6.3; WOW64) AppleWebKit/537.36 (KHTML, like Gecko) Chrome/36.0.1985.143 Safari/537.36\"|2018|11   |\n",
      "|4          |2018-11-30 13:20:44.796|43     |free |SOXZYWX12A6310ED0C|ARC1IHZ1187FB4E920|618       |San Antonio-New Braunfels, TX        |\"Mozilla/5.0 (Windows NT 5.1) AppleWebKit/537.36 (KHTML, like Gecko) Chrome/36.0.1985.143 Safari/537.36\"       |2018|11   |\n",
      "|1          |2018-11-21 05:30:19.796|97     |paid |SONRWUU12AF72A4283|ARGE7G11187FB37E05|797       |Lansing-East Lansing, MI             |\"Mozilla/5.0 (X11; Linux x86_64) AppleWebKit/537.36 (KHTML, like Gecko) Chrome/37.0.2062.94 Safari/537.36\"     |2018|11   |\n",
      "|17179869184|2018-11-06 20:05:45.796|97     |paid |SOBLFFE12AF72AA5BA|ARJNIUY12298900C91|293       |Lansing-East Lansing, MI             |\"Mozilla/5.0 (X11; Linux x86_64) AppleWebKit/537.36 (KHTML, like Gecko) Chrome/37.0.2062.94 Safari/537.36\"     |2018|11   |\n",
      "|5          |2018-11-16 16:40:43.796|97     |paid |SOXZYWX12A6310ED0C|ARC1IHZ1187FB4E920|633       |Lansing-East Lansing, MI             |\"Mozilla/5.0 (X11; Linux x86_64) AppleWebKit/537.36 (KHTML, like Gecko) Chrome/37.0.2062.94 Safari/537.36\"     |2018|11   |\n",
      "|8589934592 |2018-11-20 00:51:41.796|25     |paid |SONRWUU12AF72A4283|ARGE7G11187FB37E05|594       |Marinette, WI-MI                     |\"Mozilla/5.0 (Windows NT 6.3; WOW64) AppleWebKit/537.36 (KHTML, like Gecko) Chrome/36.0.1985.143 Safari/537.36\"|2018|11   |\n",
      "|8589934594 |2018-11-27 17:08:42.796|36     |paid |SORRNOC12AB017F52B|ARSZ7L31187FB4E610|957       |Janesville-Beloit, WI                |\"Mozilla/5.0 (Windows NT 5.1) AppleWebKit/537.36 (KHTML, like Gecko) Chrome/36.0.1985.143 Safari/537.36\"       |2018|11   |\n",
      "|3          |2018-11-05 02:21:55.796|44     |paid |SONRWUU12AF72A4283|ARGE7G11187FB37E05|237       |Waterloo-Cedar Falls, IA             |Mozilla/5.0 (Macintosh; Intel Mac OS X 10.9; rv:31.0) Gecko/20100101 Firefox/31.0                              |2018|11   |\n",
      "|8589934593 |2018-11-19 15:36:04.796|49     |paid |SOFSOCN12A8C143F5D|ARXR32B1187FB57099|724       |San Francisco-Oakland-Hayward, CA    |Mozilla/5.0 (Windows NT 5.1; rv:31.0) Gecko/20100101 Firefox/31.0                                              |2018|11   |\n",
      "|2          |2018-11-28 16:54:51.796|14     |free |SOIGHOD12A8C13B5A1|ARY589G1187B9A9F4E|929       |Red Bluff, CA                        |Mozilla/5.0 (Windows NT 6.1; WOW64; rv:31.0) Gecko/20100101 Firefox/31.0                                       |2018|11   |\n",
      "+-----------+-----------------------+-------+-----+------------------+------------------+----------+-------------------------------------+---------------------------------------------------------------------------------------------------------------+----+-----+\n",
      "\n"
     ]
    },
    {
     "name": "stdout",
     "output_type": "stream",
     "text": [
      "+------+-----+\n",
      "|userId|count|\n",
      "+------+-----+\n",
      "|49    |689  |\n",
      "|80    |665  |\n",
      "|97    |557  |\n",
      "|15    |463  |\n",
      "|44    |397  |\n",
      "+------+-----+\n",
      "only showing top 5 rows\n",
      "\n",
      "Not Null userId with filter: 6820 \n",
      "Null userId with filter: 0 \n",
      "+-----+-----+\n",
      "|level|count|\n",
      "+-----+-----+\n",
      "|paid |5591 |\n",
      "|free |1229 |\n",
      "+-----+-----+\n",
      "\n",
      "Not Null level with filter: 6820 \n",
      "Null level with filter: 0 \n",
      "Numbers of rows in users_table : 96\n",
      "Not Null user_idwith filter: 96 \n",
      "Null with user_id filter: 0 \n",
      "total 4.0K\n",
      "-rw-r--r-- 1 anthelix users    0 Mar 23 10:30 _SUCCESS\n",
      "drwxr-xr-x 3 anthelix users 4.0K Mar 23 10:30 year=2018\n",
      "Parquet Files: 18\n",
      "DataFrame rows: 10\n",
      "DataFrame schema: DataFrame[songplay_id: bigint, start_time: timestamp, user_id: bigint, level: string, song_id: string, artist_id: string, session_id: string, location: string, user_agent: string, year: int, month: int]\n",
      "+-----------+-----------------------+-------+-----+------------------+------------------+----------+-------------------------------------+---------------------------------------------------------------------------------------------------------------+----+-----+\n",
      "|songplay_id|start_time             |user_id|level|song_id           |artist_id         |session_id|location                             |user_agent                                                                                                     |year|month|\n",
      "+-----------+-----------------------+-------+-----+------------------+------------------+----------+-------------------------------------+---------------------------------------------------------------------------------------------------------------+----+-----+\n",
      "|0          |2018-11-15 16:55:31.796|42     |paid |SONRWUU12AF72A4283|ARGE7G11187FB37E05|404       |New York-Newark-Jersey City, NY-NJ-PA|\"Mozilla/5.0 (Windows NT 6.3; WOW64) AppleWebKit/537.36 (KHTML, like Gecko) Chrome/36.0.1985.143 Safari/537.36\"|2018|11   |\n",
      "|4          |2018-11-30 13:20:44.796|43     |free |SOXZYWX12A6310ED0C|ARC1IHZ1187FB4E920|618       |San Antonio-New Braunfels, TX        |\"Mozilla/5.0 (Windows NT 5.1) AppleWebKit/537.36 (KHTML, like Gecko) Chrome/36.0.1985.143 Safari/537.36\"       |2018|11   |\n",
      "|1          |2018-11-21 05:30:19.796|97     |paid |SONRWUU12AF72A4283|ARGE7G11187FB37E05|797       |Lansing-East Lansing, MI             |\"Mozilla/5.0 (X11; Linux x86_64) AppleWebKit/537.36 (KHTML, like Gecko) Chrome/37.0.2062.94 Safari/537.36\"     |2018|11   |\n",
      "|17179869184|2018-11-06 20:05:45.796|97     |paid |SOBLFFE12AF72AA5BA|ARJNIUY12298900C91|293       |Lansing-East Lansing, MI             |\"Mozilla/5.0 (X11; Linux x86_64) AppleWebKit/537.36 (KHTML, like Gecko) Chrome/37.0.2062.94 Safari/537.36\"     |2018|11   |\n",
      "|5          |2018-11-16 16:40:43.796|97     |paid |SOXZYWX12A6310ED0C|ARC1IHZ1187FB4E920|633       |Lansing-East Lansing, MI             |\"Mozilla/5.0 (X11; Linux x86_64) AppleWebKit/537.36 (KHTML, like Gecko) Chrome/37.0.2062.94 Safari/537.36\"     |2018|11   |\n",
      "|8589934592 |2018-11-20 00:51:41.796|25     |paid |SONRWUU12AF72A4283|ARGE7G11187FB37E05|594       |Marinette, WI-MI                     |\"Mozilla/5.0 (Windows NT 6.3; WOW64) AppleWebKit/537.36 (KHTML, like Gecko) Chrome/36.0.1985.143 Safari/537.36\"|2018|11   |\n",
      "|8589934594 |2018-11-27 17:08:42.796|36     |paid |SORRNOC12AB017F52B|ARSZ7L31187FB4E610|957       |Janesville-Beloit, WI                |\"Mozilla/5.0 (Windows NT 5.1) AppleWebKit/537.36 (KHTML, like Gecko) Chrome/36.0.1985.143 Safari/537.36\"       |2018|11   |\n",
      "|3          |2018-11-05 02:21:55.796|44     |paid |SONRWUU12AF72A4283|ARGE7G11187FB37E05|237       |Waterloo-Cedar Falls, IA             |Mozilla/5.0 (Macintosh; Intel Mac OS X 10.9; rv:31.0) Gecko/20100101 Firefox/31.0                              |2018|11   |\n",
      "|8589934593 |2018-11-19 15:36:04.796|49     |paid |SOFSOCN12A8C143F5D|ARXR32B1187FB57099|724       |San Francisco-Oakland-Hayward, CA    |Mozilla/5.0 (Windows NT 5.1; rv:31.0) Gecko/20100101 Firefox/31.0                                              |2018|11   |\n",
      "|2          |2018-11-28 16:54:51.796|14     |free |SOIGHOD12A8C13B5A1|ARY589G1187B9A9F4E|929       |Red Bluff, CA                        |Mozilla/5.0 (Windows NT 6.1; WOW64; rv:31.0) Gecko/20100101 Firefox/31.0                                       |2018|11   |\n",
      "+-----------+-----------------------+-------+-----+------------------+------------------+----------+-------------------------------------+---------------------------------------------------------------------------------------------------------------+----+-----+\n",
      "\n",
      "+-----------------------+-----+\n",
      "|formated_ts            |count|\n",
      "+-----------------------+-----+\n",
      "|2018-11-14 04:53:36.796|2    |\n",
      "|2018-11-15 18:55:04.796|2    |\n",
      "|2018-11-23 14:41:51.796|2    |\n",
      "|2018-11-24 14:29:47.796|2    |\n",
      "|2018-11-27 17:28:50.796|2    |\n",
      "+-----------------------+-----+\n",
      "only showing top 5 rows\n",
      "\n",
      "Not Null formated_ts with filter: 6820 \n",
      "Null with formated_ts filter: 0 \n",
      "Numbers of rows in users_table : 6813\n",
      "Not Null with filter: 6813 \n",
      "Null with filter: 0 \n",
      "Numbers of rows in songplays_table : 10\n",
      "Not Null start_time with filter: 10 \n",
      "Null start_time with filter: 0 \n",
      "Not Null user_id with filter: 10 \n",
      "Null user_id with filter: 0 \n",
      "Not Null level with filter: 10 \n",
      "Null level with filter: 0 \n",
      "Not Null session_id with filter: 10 \n",
      "Null session_id with filter: 0 \n",
      "total 4.0K\n",
      "-rw-r--r-- 1 anthelix users    0 Mar 23 10:30 _SUCCESS\n",
      "drwxr-xr-x 3 anthelix users 4.0K Mar 23 10:30 year=2018\n",
      "Parquet Files: 18\n",
      "DataFrame rows: 10\n",
      "DataFrame schema: DataFrame[songplay_id: bigint, start_time: timestamp, user_id: bigint, level: string, song_id: string, artist_id: string, session_id: string, location: string, user_agent: string, year: int, month: int]\n",
      "+-----------+-----------------------+-------+-----+------------------+------------------+----------+-------------------------------------+---------------------------------------------------------------------------------------------------------------+----+-----+\n",
      "|songplay_id|start_time             |user_id|level|song_id           |artist_id         |session_id|location                             |user_agent                                                                                                     |year|month|\n",
      "+-----------+-----------------------+-------+-----+------------------+------------------+----------+-------------------------------------+---------------------------------------------------------------------------------------------------------------+----+-----+\n",
      "|0          |2018-11-15 16:55:31.796|42     |paid |SONRWUU12AF72A4283|ARGE7G11187FB37E05|404       |New York-Newark-Jersey City, NY-NJ-PA|\"Mozilla/5.0 (Windows NT 6.3; WOW64) AppleWebKit/537.36 (KHTML, like Gecko) Chrome/36.0.1985.143 Safari/537.36\"|2018|11   |\n",
      "|4          |2018-11-30 13:20:44.796|43     |free |SOXZYWX12A6310ED0C|ARC1IHZ1187FB4E920|618       |San Antonio-New Braunfels, TX        |\"Mozilla/5.0 (Windows NT 5.1) AppleWebKit/537.36 (KHTML, like Gecko) Chrome/36.0.1985.143 Safari/537.36\"       |2018|11   |\n",
      "|1          |2018-11-21 05:30:19.796|97     |paid |SONRWUU12AF72A4283|ARGE7G11187FB37E05|797       |Lansing-East Lansing, MI             |\"Mozilla/5.0 (X11; Linux x86_64) AppleWebKit/537.36 (KHTML, like Gecko) Chrome/37.0.2062.94 Safari/537.36\"     |2018|11   |\n",
      "|17179869184|2018-11-06 20:05:45.796|97     |paid |SOBLFFE12AF72AA5BA|ARJNIUY12298900C91|293       |Lansing-East Lansing, MI             |\"Mozilla/5.0 (X11; Linux x86_64) AppleWebKit/537.36 (KHTML, like Gecko) Chrome/37.0.2062.94 Safari/537.36\"     |2018|11   |\n",
      "|5          |2018-11-16 16:40:43.796|97     |paid |SOXZYWX12A6310ED0C|ARC1IHZ1187FB4E920|633       |Lansing-East Lansing, MI             |\"Mozilla/5.0 (X11; Linux x86_64) AppleWebKit/537.36 (KHTML, like Gecko) Chrome/37.0.2062.94 Safari/537.36\"     |2018|11   |\n",
      "|8589934592 |2018-11-20 00:51:41.796|25     |paid |SONRWUU12AF72A4283|ARGE7G11187FB37E05|594       |Marinette, WI-MI                     |\"Mozilla/5.0 (Windows NT 6.3; WOW64) AppleWebKit/537.36 (KHTML, like Gecko) Chrome/36.0.1985.143 Safari/537.36\"|2018|11   |\n",
      "|8589934594 |2018-11-27 17:08:42.796|36     |paid |SORRNOC12AB017F52B|ARSZ7L31187FB4E610|957       |Janesville-Beloit, WI                |\"Mozilla/5.0 (Windows NT 5.1) AppleWebKit/537.36 (KHTML, like Gecko) Chrome/36.0.1985.143 Safari/537.36\"       |2018|11   |\n",
      "|3          |2018-11-05 02:21:55.796|44     |paid |SONRWUU12AF72A4283|ARGE7G11187FB37E05|237       |Waterloo-Cedar Falls, IA             |Mozilla/5.0 (Macintosh; Intel Mac OS X 10.9; rv:31.0) Gecko/20100101 Firefox/31.0                              |2018|11   |\n",
      "|8589934593 |2018-11-19 15:36:04.796|49     |paid |SOFSOCN12A8C143F5D|ARXR32B1187FB57099|724       |San Francisco-Oakland-Hayward, CA    |Mozilla/5.0 (Windows NT 5.1; rv:31.0) Gecko/20100101 Firefox/31.0                                              |2018|11   |\n",
      "|2          |2018-11-28 16:54:51.796|14     |free |SOIGHOD12A8C13B5A1|ARY589G1187B9A9F4E|929       |Red Bluff, CA                        |Mozilla/5.0 (Windows NT 6.1; WOW64; rv:31.0) Gecko/20100101 Firefox/31.0                                       |2018|11   |\n",
      "+-----------+-----------------------+-------+-----+------------------+------------------+----------+-------------------------------------+---------------------------------------------------------------------------------------------------------------+----+-----+\n",
      "\n"
     ]
    }
   ],
   "source": [
    "# check data in each table and the parquets files\n",
    "%run -i '2_checkData.py'"
   ]
  },
  {
   "cell_type": "markdown",
   "metadata": {},
   "source": [
    "## Business Questions\n",
    "\n",
    "* What are the busiest days of the week?\n",
    "* What are the busiest times of the day?\n",
    "* What are the top selling bakery items?"
   ]
  },
  {
   "cell_type": "code",
   "execution_count": 33,
   "metadata": {},
   "outputs": [
    {
     "data": {
      "text/html": [
       "\n",
       "    <div class=\"bk-root\">\n",
       "        <a href=\"https://bokeh.org\" target=\"_blank\" class=\"bk-logo bk-logo-small bk-logo-notebook\"></a>\n",
       "        <span id=\"1001\">Loading BokehJS ...</span>\n",
       "    </div>"
      ]
     },
     "metadata": {},
     "output_type": "display_data"
    },
    {
     "data": {
      "application/javascript": [
       "\n",
       "(function(root) {\n",
       "  function now() {\n",
       "    return new Date();\n",
       "  }\n",
       "\n",
       "  var force = true;\n",
       "\n",
       "  if (typeof root._bokeh_onload_callbacks === \"undefined\" || force === true) {\n",
       "    root._bokeh_onload_callbacks = [];\n",
       "    root._bokeh_is_loading = undefined;\n",
       "  }\n",
       "\n",
       "  var JS_MIME_TYPE = 'application/javascript';\n",
       "  var HTML_MIME_TYPE = 'text/html';\n",
       "  var EXEC_MIME_TYPE = 'application/vnd.bokehjs_exec.v0+json';\n",
       "  var CLASS_NAME = 'output_bokeh rendered_html';\n",
       "\n",
       "  /**\n",
       "   * Render data to the DOM node\n",
       "   */\n",
       "  function render(props, node) {\n",
       "    var script = document.createElement(\"script\");\n",
       "    node.appendChild(script);\n",
       "  }\n",
       "\n",
       "  /**\n",
       "   * Handle when an output is cleared or removed\n",
       "   */\n",
       "  function handleClearOutput(event, handle) {\n",
       "    var cell = handle.cell;\n",
       "\n",
       "    var id = cell.output_area._bokeh_element_id;\n",
       "    var server_id = cell.output_area._bokeh_server_id;\n",
       "    // Clean up Bokeh references\n",
       "    if (id != null && id in Bokeh.index) {\n",
       "      Bokeh.index[id].model.document.clear();\n",
       "      delete Bokeh.index[id];\n",
       "    }\n",
       "\n",
       "    if (server_id !== undefined) {\n",
       "      // Clean up Bokeh references\n",
       "      var cmd = \"from bokeh.io.state import curstate; print(curstate().uuid_to_server['\" + server_id + \"'].get_sessions()[0].document.roots[0]._id)\";\n",
       "      cell.notebook.kernel.execute(cmd, {\n",
       "        iopub: {\n",
       "          output: function(msg) {\n",
       "            var id = msg.content.text.trim();\n",
       "            if (id in Bokeh.index) {\n",
       "              Bokeh.index[id].model.document.clear();\n",
       "              delete Bokeh.index[id];\n",
       "            }\n",
       "          }\n",
       "        }\n",
       "      });\n",
       "      // Destroy server and session\n",
       "      var cmd = \"import bokeh.io.notebook as ion; ion.destroy_server('\" + server_id + \"')\";\n",
       "      cell.notebook.kernel.execute(cmd);\n",
       "    }\n",
       "  }\n",
       "\n",
       "  /**\n",
       "   * Handle when a new output is added\n",
       "   */\n",
       "  function handleAddOutput(event, handle) {\n",
       "    var output_area = handle.output_area;\n",
       "    var output = handle.output;\n",
       "\n",
       "    // limit handleAddOutput to display_data with EXEC_MIME_TYPE content only\n",
       "    if ((output.output_type != \"display_data\") || (!output.data.hasOwnProperty(EXEC_MIME_TYPE))) {\n",
       "      return\n",
       "    }\n",
       "\n",
       "    var toinsert = output_area.element.find(\".\" + CLASS_NAME.split(' ')[0]);\n",
       "\n",
       "    if (output.metadata[EXEC_MIME_TYPE][\"id\"] !== undefined) {\n",
       "      toinsert[toinsert.length - 1].firstChild.textContent = output.data[JS_MIME_TYPE];\n",
       "      // store reference to embed id on output_area\n",
       "      output_area._bokeh_element_id = output.metadata[EXEC_MIME_TYPE][\"id\"];\n",
       "    }\n",
       "    if (output.metadata[EXEC_MIME_TYPE][\"server_id\"] !== undefined) {\n",
       "      var bk_div = document.createElement(\"div\");\n",
       "      bk_div.innerHTML = output.data[HTML_MIME_TYPE];\n",
       "      var script_attrs = bk_div.children[0].attributes;\n",
       "      for (var i = 0; i < script_attrs.length; i++) {\n",
       "        toinsert[toinsert.length - 1].firstChild.setAttribute(script_attrs[i].name, script_attrs[i].value);\n",
       "      }\n",
       "      // store reference to server id on output_area\n",
       "      output_area._bokeh_server_id = output.metadata[EXEC_MIME_TYPE][\"server_id\"];\n",
       "    }\n",
       "  }\n",
       "\n",
       "  function register_renderer(events, OutputArea) {\n",
       "\n",
       "    function append_mime(data, metadata, element) {\n",
       "      // create a DOM node to render to\n",
       "      var toinsert = this.create_output_subarea(\n",
       "        metadata,\n",
       "        CLASS_NAME,\n",
       "        EXEC_MIME_TYPE\n",
       "      );\n",
       "      this.keyboard_manager.register_events(toinsert);\n",
       "      // Render to node\n",
       "      var props = {data: data, metadata: metadata[EXEC_MIME_TYPE]};\n",
       "      render(props, toinsert[toinsert.length - 1]);\n",
       "      element.append(toinsert);\n",
       "      return toinsert\n",
       "    }\n",
       "\n",
       "    /* Handle when an output is cleared or removed */\n",
       "    events.on('clear_output.CodeCell', handleClearOutput);\n",
       "    events.on('delete.Cell', handleClearOutput);\n",
       "\n",
       "    /* Handle when a new output is added */\n",
       "    events.on('output_added.OutputArea', handleAddOutput);\n",
       "\n",
       "    /**\n",
       "     * Register the mime type and append_mime function with output_area\n",
       "     */\n",
       "    OutputArea.prototype.register_mime_type(EXEC_MIME_TYPE, append_mime, {\n",
       "      /* Is output safe? */\n",
       "      safe: true,\n",
       "      /* Index of renderer in `output_area.display_order` */\n",
       "      index: 0\n",
       "    });\n",
       "  }\n",
       "\n",
       "  // register the mime type if in Jupyter Notebook environment and previously unregistered\n",
       "  if (root.Jupyter !== undefined) {\n",
       "    var events = require('base/js/events');\n",
       "    var OutputArea = require('notebook/js/outputarea').OutputArea;\n",
       "\n",
       "    if (OutputArea.prototype.mime_types().indexOf(EXEC_MIME_TYPE) == -1) {\n",
       "      register_renderer(events, OutputArea);\n",
       "    }\n",
       "  }\n",
       "\n",
       "  \n",
       "  if (typeof (root._bokeh_timeout) === \"undefined\" || force === true) {\n",
       "    root._bokeh_timeout = Date.now() + 5000;\n",
       "    root._bokeh_failed_load = false;\n",
       "  }\n",
       "\n",
       "  var NB_LOAD_WARNING = {'data': {'text/html':\n",
       "     \"<div style='background-color: #fdd'>\\n\"+\n",
       "     \"<p>\\n\"+\n",
       "     \"BokehJS does not appear to have successfully loaded. If loading BokehJS from CDN, this \\n\"+\n",
       "     \"may be due to a slow or bad network connection. Possible fixes:\\n\"+\n",
       "     \"</p>\\n\"+\n",
       "     \"<ul>\\n\"+\n",
       "     \"<li>re-rerun `output_notebook()` to attempt to load from CDN again, or</li>\\n\"+\n",
       "     \"<li>use INLINE resources instead, as so:</li>\\n\"+\n",
       "     \"</ul>\\n\"+\n",
       "     \"<code>\\n\"+\n",
       "     \"from bokeh.resources import INLINE\\n\"+\n",
       "     \"output_notebook(resources=INLINE)\\n\"+\n",
       "     \"</code>\\n\"+\n",
       "     \"</div>\"}};\n",
       "\n",
       "  function display_loaded() {\n",
       "    var el = document.getElementById(\"1001\");\n",
       "    if (el != null) {\n",
       "      el.textContent = \"BokehJS is loading...\";\n",
       "    }\n",
       "    if (root.Bokeh !== undefined) {\n",
       "      if (el != null) {\n",
       "        el.textContent = \"BokehJS \" + root.Bokeh.version + \" successfully loaded.\";\n",
       "      }\n",
       "    } else if (Date.now() < root._bokeh_timeout) {\n",
       "      setTimeout(display_loaded, 100)\n",
       "    }\n",
       "  }\n",
       "\n",
       "\n",
       "  function run_callbacks() {\n",
       "    try {\n",
       "      root._bokeh_onload_callbacks.forEach(function(callback) {\n",
       "        if (callback != null)\n",
       "          callback();\n",
       "      });\n",
       "    } finally {\n",
       "      delete root._bokeh_onload_callbacks\n",
       "    }\n",
       "    console.debug(\"Bokeh: all callbacks have finished\");\n",
       "  }\n",
       "\n",
       "  function load_libs(css_urls, js_urls, callback) {\n",
       "    if (css_urls == null) css_urls = [];\n",
       "    if (js_urls == null) js_urls = [];\n",
       "\n",
       "    root._bokeh_onload_callbacks.push(callback);\n",
       "    if (root._bokeh_is_loading > 0) {\n",
       "      console.debug(\"Bokeh: BokehJS is being loaded, scheduling callback at\", now());\n",
       "      return null;\n",
       "    }\n",
       "    if (js_urls == null || js_urls.length === 0) {\n",
       "      run_callbacks();\n",
       "      return null;\n",
       "    }\n",
       "    console.debug(\"Bokeh: BokehJS not loaded, scheduling load and callback at\", now());\n",
       "    root._bokeh_is_loading = css_urls.length + js_urls.length;\n",
       "\n",
       "    function on_load() {\n",
       "      root._bokeh_is_loading--;\n",
       "      if (root._bokeh_is_loading === 0) {\n",
       "        console.debug(\"Bokeh: all BokehJS libraries/stylesheets loaded\");\n",
       "        run_callbacks()\n",
       "      }\n",
       "    }\n",
       "\n",
       "    function on_error() {\n",
       "      console.error(\"failed to load \" + url);\n",
       "    }\n",
       "\n",
       "    for (var i = 0; i < css_urls.length; i++) {\n",
       "      var url = css_urls[i];\n",
       "      const element = document.createElement(\"link\");\n",
       "      element.onload = on_load;\n",
       "      element.onerror = on_error;\n",
       "      element.rel = \"stylesheet\";\n",
       "      element.type = \"text/css\";\n",
       "      element.href = url;\n",
       "      console.debug(\"Bokeh: injecting link tag for BokehJS stylesheet: \", url);\n",
       "      document.body.appendChild(element);\n",
       "    }\n",
       "\n",
       "    for (var i = 0; i < js_urls.length; i++) {\n",
       "      var url = js_urls[i];\n",
       "      var element = document.createElement('script');\n",
       "      element.onload = on_load;\n",
       "      element.onerror = on_error;\n",
       "      element.async = false;\n",
       "      element.src = url;\n",
       "      console.debug(\"Bokeh: injecting script tag for BokehJS library: \", url);\n",
       "      document.head.appendChild(element);\n",
       "    }\n",
       "  };var element = document.getElementById(\"1001\");\n",
       "  if (element == null) {\n",
       "    console.error(\"Bokeh: ERROR: autoload.js configured with elementid '1001' but no matching script tag was found. \")\n",
       "    return false;\n",
       "  }\n",
       "\n",
       "  function inject_raw_css(css) {\n",
       "    const element = document.createElement(\"style\");\n",
       "    element.appendChild(document.createTextNode(css));\n",
       "    document.body.appendChild(element);\n",
       "  }\n",
       "\n",
       "  \n",
       "  var js_urls = [\"https://cdn.pydata.org/bokeh/release/bokeh-1.4.0.min.js\", \"https://cdn.pydata.org/bokeh/release/bokeh-widgets-1.4.0.min.js\", \"https://cdn.pydata.org/bokeh/release/bokeh-tables-1.4.0.min.js\", \"https://cdn.pydata.org/bokeh/release/bokeh-gl-1.4.0.min.js\"];\n",
       "  var css_urls = [];\n",
       "  \n",
       "\n",
       "  var inline_js = [\n",
       "    function(Bokeh) {\n",
       "      Bokeh.set_log_level(\"info\");\n",
       "    },\n",
       "    function(Bokeh) {\n",
       "    \n",
       "    \n",
       "    }\n",
       "  ];\n",
       "\n",
       "  function run_inline_js() {\n",
       "    \n",
       "    if (root.Bokeh !== undefined || force === true) {\n",
       "      \n",
       "    for (var i = 0; i < inline_js.length; i++) {\n",
       "      inline_js[i].call(root, root.Bokeh);\n",
       "    }\n",
       "    if (force === true) {\n",
       "        display_loaded();\n",
       "      }} else if (Date.now() < root._bokeh_timeout) {\n",
       "      setTimeout(run_inline_js, 100);\n",
       "    } else if (!root._bokeh_failed_load) {\n",
       "      console.log(\"Bokeh: BokehJS failed to load within specified timeout.\");\n",
       "      root._bokeh_failed_load = true;\n",
       "    } else if (force !== true) {\n",
       "      var cell = $(document.getElementById(\"1001\")).parents('.cell').data().cell;\n",
       "      cell.output_area.append_execute_result(NB_LOAD_WARNING)\n",
       "    }\n",
       "\n",
       "  }\n",
       "\n",
       "  if (root._bokeh_is_loading === 0) {\n",
       "    console.debug(\"Bokeh: BokehJS loaded, going straight to plotting\");\n",
       "    run_inline_js();\n",
       "  } else {\n",
       "    load_libs(css_urls, js_urls, function() {\n",
       "      console.debug(\"Bokeh: BokehJS plotting callback run at\", now());\n",
       "      run_inline_js();\n",
       "    });\n",
       "  }\n",
       "}(window));"
      ],
      "application/vnd.bokehjs_load.v0+json": "\n(function(root) {\n  function now() {\n    return new Date();\n  }\n\n  var force = true;\n\n  if (typeof root._bokeh_onload_callbacks === \"undefined\" || force === true) {\n    root._bokeh_onload_callbacks = [];\n    root._bokeh_is_loading = undefined;\n  }\n\n  \n\n  \n  if (typeof (root._bokeh_timeout) === \"undefined\" || force === true) {\n    root._bokeh_timeout = Date.now() + 5000;\n    root._bokeh_failed_load = false;\n  }\n\n  var NB_LOAD_WARNING = {'data': {'text/html':\n     \"<div style='background-color: #fdd'>\\n\"+\n     \"<p>\\n\"+\n     \"BokehJS does not appear to have successfully loaded. If loading BokehJS from CDN, this \\n\"+\n     \"may be due to a slow or bad network connection. Possible fixes:\\n\"+\n     \"</p>\\n\"+\n     \"<ul>\\n\"+\n     \"<li>re-rerun `output_notebook()` to attempt to load from CDN again, or</li>\\n\"+\n     \"<li>use INLINE resources instead, as so:</li>\\n\"+\n     \"</ul>\\n\"+\n     \"<code>\\n\"+\n     \"from bokeh.resources import INLINE\\n\"+\n     \"output_notebook(resources=INLINE)\\n\"+\n     \"</code>\\n\"+\n     \"</div>\"}};\n\n  function display_loaded() {\n    var el = document.getElementById(\"1001\");\n    if (el != null) {\n      el.textContent = \"BokehJS is loading...\";\n    }\n    if (root.Bokeh !== undefined) {\n      if (el != null) {\n        el.textContent = \"BokehJS \" + root.Bokeh.version + \" successfully loaded.\";\n      }\n    } else if (Date.now() < root._bokeh_timeout) {\n      setTimeout(display_loaded, 100)\n    }\n  }\n\n\n  function run_callbacks() {\n    try {\n      root._bokeh_onload_callbacks.forEach(function(callback) {\n        if (callback != null)\n          callback();\n      });\n    } finally {\n      delete root._bokeh_onload_callbacks\n    }\n    console.debug(\"Bokeh: all callbacks have finished\");\n  }\n\n  function load_libs(css_urls, js_urls, callback) {\n    if (css_urls == null) css_urls = [];\n    if (js_urls == null) js_urls = [];\n\n    root._bokeh_onload_callbacks.push(callback);\n    if (root._bokeh_is_loading > 0) {\n      console.debug(\"Bokeh: BokehJS is being loaded, scheduling callback at\", now());\n      return null;\n    }\n    if (js_urls == null || js_urls.length === 0) {\n      run_callbacks();\n      return null;\n    }\n    console.debug(\"Bokeh: BokehJS not loaded, scheduling load and callback at\", now());\n    root._bokeh_is_loading = css_urls.length + js_urls.length;\n\n    function on_load() {\n      root._bokeh_is_loading--;\n      if (root._bokeh_is_loading === 0) {\n        console.debug(\"Bokeh: all BokehJS libraries/stylesheets loaded\");\n        run_callbacks()\n      }\n    }\n\n    function on_error() {\n      console.error(\"failed to load \" + url);\n    }\n\n    for (var i = 0; i < css_urls.length; i++) {\n      var url = css_urls[i];\n      const element = document.createElement(\"link\");\n      element.onload = on_load;\n      element.onerror = on_error;\n      element.rel = \"stylesheet\";\n      element.type = \"text/css\";\n      element.href = url;\n      console.debug(\"Bokeh: injecting link tag for BokehJS stylesheet: \", url);\n      document.body.appendChild(element);\n    }\n\n    for (var i = 0; i < js_urls.length; i++) {\n      var url = js_urls[i];\n      var element = document.createElement('script');\n      element.onload = on_load;\n      element.onerror = on_error;\n      element.async = false;\n      element.src = url;\n      console.debug(\"Bokeh: injecting script tag for BokehJS library: \", url);\n      document.head.appendChild(element);\n    }\n  };var element = document.getElementById(\"1001\");\n  if (element == null) {\n    console.error(\"Bokeh: ERROR: autoload.js configured with elementid '1001' but no matching script tag was found. \")\n    return false;\n  }\n\n  function inject_raw_css(css) {\n    const element = document.createElement(\"style\");\n    element.appendChild(document.createTextNode(css));\n    document.body.appendChild(element);\n  }\n\n  \n  var js_urls = [\"https://cdn.pydata.org/bokeh/release/bokeh-1.4.0.min.js\", \"https://cdn.pydata.org/bokeh/release/bokeh-widgets-1.4.0.min.js\", \"https://cdn.pydata.org/bokeh/release/bokeh-tables-1.4.0.min.js\", \"https://cdn.pydata.org/bokeh/release/bokeh-gl-1.4.0.min.js\"];\n  var css_urls = [];\n  \n\n  var inline_js = [\n    function(Bokeh) {\n      Bokeh.set_log_level(\"info\");\n    },\n    function(Bokeh) {\n    \n    \n    }\n  ];\n\n  function run_inline_js() {\n    \n    if (root.Bokeh !== undefined || force === true) {\n      \n    for (var i = 0; i < inline_js.length; i++) {\n      inline_js[i].call(root, root.Bokeh);\n    }\n    if (force === true) {\n        display_loaded();\n      }} else if (Date.now() < root._bokeh_timeout) {\n      setTimeout(run_inline_js, 100);\n    } else if (!root._bokeh_failed_load) {\n      console.log(\"Bokeh: BokehJS failed to load within specified timeout.\");\n      root._bokeh_failed_load = true;\n    } else if (force !== true) {\n      var cell = $(document.getElementById(\"1001\")).parents('.cell').data().cell;\n      cell.output_area.append_execute_result(NB_LOAD_WARNING)\n    }\n\n  }\n\n  if (root._bokeh_is_loading === 0) {\n    console.debug(\"Bokeh: BokehJS loaded, going straight to plotting\");\n    run_inline_js();\n  } else {\n    load_libs(css_urls, js_urls, function() {\n      console.debug(\"Bokeh: BokehJS plotting callback run at\", now());\n      run_inline_js();\n    });\n  }\n}(window));"
     },
     "metadata": {},
     "output_type": "display_data"
    }
   ],
   "source": [
    "from math import pi\n",
    "from bokeh.io import output_notebook, show\n",
    "from bokeh.plotting import figure\n",
    "from bokeh.models import ColumnDataSource\n",
    "from bokeh.transform import factor_cmap, cumsum\n",
    "from bokeh.palettes import Paired12\n",
    "\n",
    "output_notebook()"
   ]
  },
  {
   "cell_type": "markdown",
   "metadata": {},
   "source": [
    "### What are the busiest days of the week?"
   ]
  },
  {
   "cell_type": "code",
   "execution_count": 34,
   "metadata": {},
   "outputs": [],
   "source": [
    "songplays_table.createOrReplaceTempView('tmp_songplays')\n",
    "songs_table.createOrReplaceTempView('tmp_song')"
   ]
  },
  {
   "cell_type": "code",
   "execution_count": 35,
   "metadata": {},
   "outputs": [
    {
     "name": "stdout",
     "output_type": "stream",
     "text": [
      "+---------+-----+\n",
      "|day      |count|\n",
      "+---------+-----+\n",
      "|Tuesday  |3    |\n",
      "|Wednesday|2    |\n",
      "|Friday   |2    |\n",
      "|Monday   |2    |\n",
      "|Thursday |1    |\n",
      "+---------+-----+\n",
      "\n"
     ]
    }
   ],
   "source": [
    "sql_query = \"SELECT date_format(start_time, 'EEEE') as day, count(*) as count \" \\\n",
    "            \"FROM tmp_songplays \" \\\n",
    "            \"WHERE session_id NOT LIKE 'NONE' AND session_id NOT LIKE 'Adjustment' \" \\\n",
    "            \"GROUP BY day \" \\\n",
    "            \"ORDER BY count DESC \" \\\n",
    "            \"LIMIT 10\"\n",
    "df4 = spark.sql(sql_query)\n",
    "df4.show(10, False)"
   ]
  },
  {
   "cell_type": "code",
   "execution_count": 36,
   "metadata": {},
   "outputs": [
    {
     "data": {
      "text/html": [
       "\n",
       "\n",
       "\n",
       "\n",
       "\n",
       "\n",
       "  <div class=\"bk-root\" id=\"a5c10476-3542-4319-8dd7-15103f650436\" data-root-id=\"1003\"></div>\n"
      ]
     },
     "metadata": {},
     "output_type": "display_data"
    },
    {
     "data": {
      "application/javascript": [
       "(function(root) {\n",
       "  function embed_document(root) {\n",
       "    \n",
       "  var docs_json = {\"459f134f-3309-4c13-8921-c85ae23f7948\":{\"roots\":{\"references\":[{\"attributes\":{\"below\":[{\"id\":\"1014\",\"type\":\"LinearAxis\"}],\"center\":[{\"id\":\"1018\",\"type\":\"Grid\"},{\"id\":\"1023\",\"type\":\"Grid\"},{\"id\":\"1053\",\"type\":\"Legend\"}],\"left\":[{\"id\":\"1019\",\"type\":\"LinearAxis\"}],\"plot_height\":450,\"plot_width\":700,\"renderers\":[{\"id\":\"1045\",\"type\":\"GlyphRenderer\"}],\"title\":{\"id\":\"1004\",\"type\":\"Title\"},\"toolbar\":{\"id\":\"1031\",\"type\":\"Toolbar\"},\"x_range\":{\"id\":\"1006\",\"type\":\"Range1d\"},\"x_scale\":{\"id\":\"1010\",\"type\":\"LinearScale\"},\"y_range\":{\"id\":\"1008\",\"type\":\"DataRange1d\"},\"y_scale\":{\"id\":\"1012\",\"type\":\"LinearScale\"}},\"id\":\"1003\",\"subtype\":\"Figure\",\"type\":\"Plot\"},{\"attributes\":{},\"id\":\"1010\",\"type\":\"LinearScale\"},{\"attributes\":{},\"id\":\"1029\",\"type\":\"HelpTool\"},{\"attributes\":{\"callback\":null,\"start\":-0.5},\"id\":\"1006\",\"type\":\"Range1d\"},{\"attributes\":{},\"id\":\"1012\",\"type\":\"LinearScale\"},{\"attributes\":{\"grid_line_color\":null,\"ticker\":{\"id\":\"1015\",\"type\":\"BasicTicker\"}},\"id\":\"1018\",\"type\":\"Grid\"},{\"attributes\":{\"active_drag\":\"auto\",\"active_inspect\":\"auto\",\"active_multi\":null,\"active_scroll\":\"auto\",\"active_tap\":\"auto\",\"tools\":[{\"id\":\"1024\",\"type\":\"PanTool\"},{\"id\":\"1025\",\"type\":\"WheelZoomTool\"},{\"id\":\"1026\",\"type\":\"BoxZoomTool\"},{\"id\":\"1027\",\"type\":\"SaveTool\"},{\"id\":\"1028\",\"type\":\"ResetTool\"},{\"id\":\"1029\",\"type\":\"HelpTool\"},{\"id\":\"1030\",\"type\":\"HoverTool\"}]},\"id\":\"1031\",\"type\":\"Toolbar\"},{\"attributes\":{},\"id\":\"1020\",\"type\":\"BasicTicker\"},{\"attributes\":{\"callback\":null,\"tooltips\":[[\"day\",\"@day\"],[\"count\",\"@{count}{,}\"]]},\"id\":\"1030\",\"type\":\"HoverTool\"},{\"attributes\":{\"end_angle\":{\"expr\":{\"id\":\"1040\",\"type\":\"CumSum\"},\"units\":\"rad\"},\"fill_alpha\":{\"value\":0.1},\"fill_color\":{\"value\":\"#1f77b4\"},\"line_alpha\":{\"value\":0.1},\"line_color\":{\"value\":\"#1f77b4\"},\"radius\":{\"units\":\"data\",\"value\":0.4},\"start_angle\":{\"expr\":{\"id\":\"1039\",\"type\":\"CumSum\"},\"units\":\"rad\"},\"x\":{\"value\":0},\"y\":{\"value\":1}},\"id\":\"1044\",\"type\":\"Wedge\"},{\"attributes\":{\"dimension\":1,\"grid_line_color\":null,\"ticker\":{\"id\":\"1020\",\"type\":\"BasicTicker\"}},\"id\":\"1023\",\"type\":\"Grid\"},{\"attributes\":{\"axis_label\":null,\"formatter\":{\"id\":\"1048\",\"type\":\"BasicTickFormatter\"},\"ticker\":{\"id\":\"1020\",\"type\":\"BasicTicker\"},\"visible\":false},\"id\":\"1019\",\"type\":\"LinearAxis\"},{\"attributes\":{\"items\":[{\"id\":\"1054\",\"type\":\"LegendItem\"}]},\"id\":\"1053\",\"type\":\"Legend\"},{\"attributes\":{\"axis_label\":null,\"formatter\":{\"id\":\"1050\",\"type\":\"BasicTickFormatter\"},\"ticker\":{\"id\":\"1015\",\"type\":\"BasicTicker\"},\"visible\":false},\"id\":\"1014\",\"type\":\"LinearAxis\"},{\"attributes\":{\"field\":\"angle\",\"include_zero\":true},\"id\":\"1039\",\"type\":\"CumSum\"},{\"attributes\":{\"callback\":null},\"id\":\"1008\",\"type\":\"DataRange1d\"},{\"attributes\":{\"end_angle\":{\"expr\":{\"id\":\"1040\",\"type\":\"CumSum\"},\"units\":\"rad\"},\"fill_color\":{\"field\":\"day\",\"transform\":{\"id\":\"1002\",\"type\":\"CategoricalColorMapper\"}},\"line_color\":{\"value\":\"white\"},\"radius\":{\"units\":\"data\",\"value\":0.4},\"start_angle\":{\"expr\":{\"id\":\"1039\",\"type\":\"CumSum\"},\"units\":\"rad\"},\"x\":{\"value\":0},\"y\":{\"value\":1}},\"id\":\"1043\",\"type\":\"Wedge\"},{\"attributes\":{\"source\":{\"id\":\"1041\",\"type\":\"ColumnDataSource\"}},\"id\":\"1046\",\"type\":\"CDSView\"},{\"attributes\":{\"callback\":null,\"data\":{\"angle\":{\"__ndarray__\":\"UGnrMcco/j/g8Jx2Lxv0P+DwnHYvG/Q/4PCcdi8b9D/g8Jx2LxvkPw==\",\"dtype\":\"float64\",\"shape\":[5]},\"count\":[3,2,2,2,1],\"day\":[\"Tuesday\",\"Wednesday\",\"Monday\",\"Friday\",\"Thursday\"],\"index\":[0,1,2,3,4]},\"selected\":{\"id\":\"1062\",\"type\":\"Selection\"},\"selection_policy\":{\"id\":\"1061\",\"type\":\"UnionRenderers\"}},\"id\":\"1041\",\"type\":\"ColumnDataSource\"},{\"attributes\":{\"bottom_units\":\"screen\",\"fill_alpha\":{\"value\":0.5},\"fill_color\":{\"value\":\"lightgrey\"},\"left_units\":\"screen\",\"level\":\"overlay\",\"line_alpha\":{\"value\":1.0},\"line_color\":{\"value\":\"black\"},\"line_dash\":[4,4],\"line_width\":{\"value\":2},\"render_mode\":\"css\",\"right_units\":\"screen\",\"top_units\":\"screen\"},\"id\":\"1052\",\"type\":\"BoxAnnotation\"},{\"attributes\":{},\"id\":\"1048\",\"type\":\"BasicTickFormatter\"},{\"attributes\":{},\"id\":\"1050\",\"type\":\"BasicTickFormatter\"},{\"attributes\":{\"field\":\"angle\"},\"id\":\"1040\",\"type\":\"CumSum\"},{\"attributes\":{\"factors\":[\"Tuesday\",\"Wednesday\",\"Monday\",\"Friday\",\"Thursday\"],\"palette\":[\"#a6cee3\",\"#1f78b4\",\"#b2df8a\",\"#33a02c\",\"#fb9a99\",\"#e31a1c\",\"#fdbf6f\",\"#ff7f00\",\"#cab2d6\",\"#6a3d9a\",\"#ffff99\",\"#b15928\"]},\"id\":\"1002\",\"type\":\"CategoricalColorMapper\"},{\"attributes\":{\"data_source\":{\"id\":\"1041\",\"type\":\"ColumnDataSource\"},\"glyph\":{\"id\":\"1043\",\"type\":\"Wedge\"},\"hover_glyph\":null,\"muted_glyph\":null,\"nonselection_glyph\":{\"id\":\"1044\",\"type\":\"Wedge\"},\"selection_glyph\":null,\"view\":{\"id\":\"1046\",\"type\":\"CDSView\"}},\"id\":\"1045\",\"type\":\"GlyphRenderer\"},{\"attributes\":{\"text\":\"Items Sold/Day\"},\"id\":\"1004\",\"type\":\"Title\"},{\"attributes\":{},\"id\":\"1061\",\"type\":\"UnionRenderers\"},{\"attributes\":{},\"id\":\"1024\",\"type\":\"PanTool\"},{\"attributes\":{},\"id\":\"1015\",\"type\":\"BasicTicker\"},{\"attributes\":{\"label\":{\"field\":\"day\"},\"renderers\":[{\"id\":\"1045\",\"type\":\"GlyphRenderer\"}]},\"id\":\"1054\",\"type\":\"LegendItem\"},{\"attributes\":{},\"id\":\"1025\",\"type\":\"WheelZoomTool\"},{\"attributes\":{\"overlay\":{\"id\":\"1052\",\"type\":\"BoxAnnotation\"}},\"id\":\"1026\",\"type\":\"BoxZoomTool\"},{\"attributes\":{},\"id\":\"1062\",\"type\":\"Selection\"},{\"attributes\":{},\"id\":\"1027\",\"type\":\"SaveTool\"},{\"attributes\":{},\"id\":\"1028\",\"type\":\"ResetTool\"}],\"root_ids\":[\"1003\"]},\"title\":\"Bokeh Application\",\"version\":\"1.4.0\"}};\n",
       "  var render_items = [{\"docid\":\"459f134f-3309-4c13-8921-c85ae23f7948\",\"roots\":{\"1003\":\"a5c10476-3542-4319-8dd7-15103f650436\"}}];\n",
       "  root.Bokeh.embed.embed_items_notebook(docs_json, render_items);\n",
       "\n",
       "  }\n",
       "  if (root.Bokeh !== undefined) {\n",
       "    embed_document(root);\n",
       "  } else {\n",
       "    var attempts = 0;\n",
       "    var timer = setInterval(function(root) {\n",
       "      if (root.Bokeh !== undefined) {\n",
       "        clearInterval(timer);\n",
       "        embed_document(root);\n",
       "      } else {\n",
       "        attempts++;\n",
       "        if (attempts > 100) {\n",
       "          clearInterval(timer);\n",
       "          console.log(\"Bokeh: ERROR: Unable to run BokehJS code because BokehJS library is missing\");\n",
       "        }\n",
       "      }\n",
       "    }, 10, root)\n",
       "  }\n",
       "})(window);"
      ],
      "application/vnd.bokehjs_exec.v0+json": ""
     },
     "metadata": {
      "application/vnd.bokehjs_exec.v0+json": {
       "id": "1003"
      }
     },
     "output_type": "display_data"
    }
   ],
   "source": [
    "data = df4.toPandas()\n",
    "tooltips = [('day', '@day'), ('count', '@{count}{,}')]\n",
    "days = data['day'].tolist()\n",
    "color_map = factor_cmap(field_name='day', palette=Paired12, factors=days)\n",
    "\n",
    "data['angle'] = data['count'] / data['count'].sum() * 2 * pi\n",
    "plot = figure(plot_height=450,\n",
    "              plot_width=700,\n",
    "              title='Items Sold/Day',\n",
    "              tooltips=tooltips,\n",
    "              x_range=(-0.5, 1.0))\n",
    "plot.wedge(x=0,\n",
    "           y=1,\n",
    "           radius=0.4,\n",
    "           start_angle=cumsum('angle', include_zero=True),\n",
    "           end_angle=cumsum('angle'),\n",
    "           line_color='white',\n",
    "           fill_color=color_map,\n",
    "           legend_field='day',\n",
    "           source=data)\n",
    "plot.axis.axis_label = None\n",
    "plot.axis.visible = False\n",
    "plot.grid.grid_line_color = None\n",
    "\n",
    "show(plot)"
   ]
  },
  {
   "cell_type": "markdown",
   "metadata": {},
   "source": [
    "### What are the busiest times of the day?"
   ]
  },
  {
   "cell_type": "code",
   "execution_count": 37,
   "metadata": {},
   "outputs": [
    {
     "name": "stdout",
     "output_type": "stream",
     "text": [
      "+------+-----+\n",
      "|period|count|\n",
      "+------+-----+\n",
      "|02:00 |1    |\n",
      "|05:00 |1    |\n",
      "|13:00 |1    |\n",
      "|15:30 |1    |\n",
      "|16:30 |3    |\n",
      "|17:00 |1    |\n",
      "|20:00 |1    |\n",
      "+------+-----+\n",
      "\n"
     ]
    }
   ],
   "source": [
    "def time_increment(h, m):\n",
    "    \"\"\"Calculates a 30-minute time increment\n",
    "\n",
    "    Parameters:\n",
    "    h (str): hours, '0' or '00' to '23'\n",
    "    m (str): minutes, '0' or '00' to '59'\n",
    "\n",
    "    Returns:\n",
    "    str: 30-minute time increment, i.e. '07:30', '23:00', or '12:00'\n",
    "\n",
    "    \"\"\"\n",
    "\n",
    "    increment = (int(m) * (100 / 60)) / 100  # 0.0000 - 0.9833\n",
    "    increment = round(increment, 0)  # 0.0 or 1.0\n",
    "    increment = int(increment) * 30  # 0 or 30\n",
    "    increment = str(h).rjust(2, '0') + ':' + str(increment).rjust(2, '0')\n",
    "\n",
    "    return increment  # i.e. '07:30' or '23:00'\n",
    "\n",
    "\n",
    "spark.udf.register(\"udfTimeIncrement\", time_increment, StringType())\n",
    "\n",
    "\n",
    "sql_query = \"WITH tmp_table AS (\" \\\n",
    "            \"  SELECT udfTimeIncrement(date_format(start_time, 'HH'), date_format(start_time, 'mm')) as period, count(*) as count \" \\\n",
    "            \"  FROM tmp_songplays \" \\\n",
    "            \"  WHERE user_id NOT LIKE 'NONE' AND user_id NOT LIKE 'Adjustment' \" \\\n",
    "            \"  GROUP BY period \" \\\n",
    "            \"  ORDER BY period ASC\" \\\n",
    "            \") \" \\\n",
    "            \"SELECT period, count \" \\\n",
    "            \"FROM tmp_table \" \\\n",
    "            \"WHERE period BETWEEN '01:00' AND '23:59'\"\n",
    "\n",
    "df5 = spark.sql(sql_query)\n",
    "df5.show(10, False)"
   ]
  },
  {
   "cell_type": "code",
   "execution_count": 45,
   "metadata": {},
   "outputs": [
    {
     "data": {
      "text/html": [
       "\n",
       "\n",
       "\n",
       "\n",
       "\n",
       "\n",
       "  <div class=\"bk-root\" id=\"70b15aad-699f-48d2-b48d-8dd59505c767\" data-root-id=\"1610\"></div>\n"
      ]
     },
     "metadata": {},
     "output_type": "display_data"
    },
    {
     "data": {
      "application/javascript": [
       "(function(root) {\n",
       "  function embed_document(root) {\n",
       "    \n",
       "  var docs_json = {\"c177e374-e0a1-4224-9b64-8846f901f2b1\":{\"roots\":{\"references\":[{\"attributes\":{\"below\":[{\"id\":\"1619\",\"type\":\"CategoricalAxis\"}],\"center\":[{\"id\":\"1622\",\"type\":\"Grid\"},{\"id\":\"1627\",\"type\":\"Grid\"}],\"left\":[{\"id\":\"1623\",\"type\":\"LinearAxis\"}],\"min_border\":0,\"plot_height\":450,\"plot_width\":900,\"renderers\":[{\"id\":\"1646\",\"type\":\"GlyphRenderer\"}],\"title\":{\"id\":\"1648\",\"type\":\"Title\"},\"toolbar\":{\"id\":\"1635\",\"type\":\"Toolbar\"},\"x_range\":{\"id\":\"1611\",\"type\":\"FactorRange\"},\"x_scale\":{\"id\":\"1615\",\"type\":\"CategoricalScale\"},\"y_range\":{\"id\":\"1613\",\"type\":\"DataRange1d\"},\"y_scale\":{\"id\":\"1617\",\"type\":\"LinearScale\"}},\"id\":\"1610\",\"subtype\":\"Figure\",\"type\":\"Plot\"},{\"attributes\":{},\"id\":\"1695\",\"type\":\"BasicTickFormatter\"},{\"attributes\":{\"axis_label\":\"Total Users Connection\",\"formatter\":{\"id\":\"1695\",\"type\":\"BasicTickFormatter\"},\"ticker\":{\"id\":\"1624\",\"type\":\"BasicTicker\"}},\"id\":\"1623\",\"type\":\"LinearAxis\"},{\"attributes\":{},\"id\":\"1629\",\"type\":\"WheelZoomTool\"},{\"attributes\":{},\"id\":\"1701\",\"type\":\"Selection\"},{\"attributes\":{\"text\":\"Users Connection/Hour\"},\"id\":\"1648\",\"type\":\"Title\"},{\"attributes\":{},\"id\":\"1697\",\"type\":\"CategoricalTickFormatter\"},{\"attributes\":{\"source\":{\"id\":\"1609\",\"type\":\"ColumnDataSource\"}},\"id\":\"1647\",\"type\":\"CDSView\"},{\"attributes\":{},\"id\":\"1700\",\"type\":\"UnionRenderers\"},{\"attributes\":{},\"id\":\"1631\",\"type\":\"SaveTool\"},{\"attributes\":{\"fill_color\":{\"value\":\"#1f77b4\"},\"line_color\":{\"value\":\"#1f77b4\"},\"top\":{\"field\":\"count\"},\"width\":{\"value\":0.9},\"x\":{\"field\":\"period\"}},\"id\":\"1644\",\"type\":\"VBar\"},{\"attributes\":{},\"id\":\"1632\",\"type\":\"ResetTool\"},{\"attributes\":{\"bottom_units\":\"screen\",\"fill_alpha\":{\"value\":0.5},\"fill_color\":{\"value\":\"lightgrey\"},\"left_units\":\"screen\",\"level\":\"overlay\",\"line_alpha\":{\"value\":1.0},\"line_color\":{\"value\":\"black\"},\"line_dash\":[4,4],\"line_width\":{\"value\":2},\"render_mode\":\"css\",\"right_units\":\"screen\",\"top_units\":\"screen\"},\"id\":\"1699\",\"type\":\"BoxAnnotation\"},{\"attributes\":{\"callback\":null,\"data\":{\"count\":[1,1,1,1,3,1,1],\"index\":[0,1,2,3,4,5,6],\"period\":[\"02:00\",\"05:00\",\"13:00\",\"15:30\",\"16:30\",\"17:00\",\"20:00\"]},\"selected\":{\"id\":\"1701\",\"type\":\"Selection\"},\"selection_policy\":{\"id\":\"1700\",\"type\":\"UnionRenderers\"}},\"id\":\"1609\",\"type\":\"ColumnDataSource\"},{\"attributes\":{\"overlay\":{\"id\":\"1699\",\"type\":\"BoxAnnotation\"}},\"id\":\"1630\",\"type\":\"BoxZoomTool\"},{\"attributes\":{\"fill_alpha\":{\"value\":0.1},\"fill_color\":{\"value\":\"#1f77b4\"},\"line_alpha\":{\"value\":0.1},\"line_color\":{\"value\":\"#1f77b4\"},\"top\":{\"field\":\"count\"},\"width\":{\"value\":0.9},\"x\":{\"field\":\"period\"}},\"id\":\"1645\",\"type\":\"VBar\"},{\"attributes\":{\"callback\":null},\"id\":\"1613\",\"type\":\"DataRange1d\"},{\"attributes\":{},\"id\":\"1615\",\"type\":\"CategoricalScale\"},{\"attributes\":{\"callback\":null,\"factors\":[\"02:00\",\"05:00\",\"13:00\",\"15:30\",\"16:30\",\"17:00\",\"20:00\"]},\"id\":\"1611\",\"type\":\"FactorRange\"},{\"attributes\":{},\"id\":\"1617\",\"type\":\"LinearScale\"},{\"attributes\":{},\"id\":\"1633\",\"type\":\"HelpTool\"},{\"attributes\":{\"callback\":null,\"tooltips\":[[\"period\",\"@period\"],[\"count\",\"@{count}{,}\"]]},\"id\":\"1634\",\"type\":\"HoverTool\"},{\"attributes\":{\"ticker\":{\"id\":\"1620\",\"type\":\"CategoricalTicker\"}},\"id\":\"1622\",\"type\":\"Grid\"},{\"attributes\":{\"dimension\":1,\"ticker\":{\"id\":\"1624\",\"type\":\"BasicTicker\"}},\"id\":\"1627\",\"type\":\"Grid\"},{\"attributes\":{\"axis_label\":\"Hour of the Day\",\"formatter\":{\"id\":\"1697\",\"type\":\"CategoricalTickFormatter\"},\"ticker\":{\"id\":\"1620\",\"type\":\"CategoricalTicker\"}},\"id\":\"1619\",\"type\":\"CategoricalAxis\"},{\"attributes\":{\"data_source\":{\"id\":\"1609\",\"type\":\"ColumnDataSource\"},\"glyph\":{\"id\":\"1644\",\"type\":\"VBar\"},\"hover_glyph\":null,\"muted_glyph\":null,\"nonselection_glyph\":{\"id\":\"1645\",\"type\":\"VBar\"},\"selection_glyph\":null,\"view\":{\"id\":\"1647\",\"type\":\"CDSView\"}},\"id\":\"1646\",\"type\":\"GlyphRenderer\"},{\"attributes\":{},\"id\":\"1628\",\"type\":\"PanTool\"},{\"attributes\":{},\"id\":\"1624\",\"type\":\"BasicTicker\"},{\"attributes\":{},\"id\":\"1620\",\"type\":\"CategoricalTicker\"},{\"attributes\":{\"active_drag\":\"auto\",\"active_inspect\":\"auto\",\"active_multi\":null,\"active_scroll\":\"auto\",\"active_tap\":\"auto\",\"tools\":[{\"id\":\"1628\",\"type\":\"PanTool\"},{\"id\":\"1629\",\"type\":\"WheelZoomTool\"},{\"id\":\"1630\",\"type\":\"BoxZoomTool\"},{\"id\":\"1631\",\"type\":\"SaveTool\"},{\"id\":\"1632\",\"type\":\"ResetTool\"},{\"id\":\"1633\",\"type\":\"HelpTool\"},{\"id\":\"1634\",\"type\":\"HoverTool\"}]},\"id\":\"1635\",\"type\":\"Toolbar\"}],\"root_ids\":[\"1610\"]},\"title\":\"Bokeh Application\",\"version\":\"1.4.0\"}};\n",
       "  var render_items = [{\"docid\":\"c177e374-e0a1-4224-9b64-8846f901f2b1\",\"roots\":{\"1610\":\"70b15aad-699f-48d2-b48d-8dd59505c767\"}}];\n",
       "  root.Bokeh.embed.embed_items_notebook(docs_json, render_items);\n",
       "\n",
       "  }\n",
       "  if (root.Bokeh !== undefined) {\n",
       "    embed_document(root);\n",
       "  } else {\n",
       "    var attempts = 0;\n",
       "    var timer = setInterval(function(root) {\n",
       "      if (root.Bokeh !== undefined) {\n",
       "        clearInterval(timer);\n",
       "        embed_document(root);\n",
       "      } else {\n",
       "        attempts++;\n",
       "        if (attempts > 100) {\n",
       "          clearInterval(timer);\n",
       "          console.log(\"Bokeh: ERROR: Unable to run BokehJS code because BokehJS library is missing\");\n",
       "        }\n",
       "      }\n",
       "    }, 10, root)\n",
       "  }\n",
       "})(window);"
      ],
      "application/vnd.bokehjs_exec.v0+json": ""
     },
     "metadata": {
      "application/vnd.bokehjs_exec.v0+json": {
       "id": "1610"
      }
     },
     "output_type": "display_data"
    }
   ],
   "source": [
    "source = ColumnDataSource(data=df5.toPandas())\n",
    "tooltips = [('period', '@period'), ('count', '@{count}{,}')]\n",
    "periods = source.data['period'].tolist()\n",
    "plot = figure(x_range=periods,\n",
    "              plot_width=900,\n",
    "              plot_height=450,\n",
    "              min_border=0,\n",
    "              tooltips=tooltips)\n",
    "plot.vbar(x='period', bottom=0, top='count', source=source, width=0.9)\n",
    "plot.title.text = 'Users Connection/Hour'\n",
    "plot.xaxis.axis_label = 'Hour of the Day'\n",
    "plot.yaxis.axis_label = 'Total Users Connection'\n",
    "\n",
    "show(plot)"
   ]
  },
  {
   "cell_type": "markdown",
   "metadata": {},
   "source": [
    "### What are the top song_id?\n"
   ]
  },
  {
   "cell_type": "code",
   "execution_count": 39,
   "metadata": {},
   "outputs": [
    {
     "name": "stdout",
     "output_type": "stream",
     "text": [
      "+----------------------------------+-----+\n",
      "|title                             |count|\n",
      "+----------------------------------+-----+\n",
      "|Into The Nightlife                |4    |\n",
      "|It's About Time                   |2    |\n",
      "|Indian Angel                      |1    |\n",
      "|The Last Beat Of My Heart (b-side)|1    |\n",
      "|Face the Ashes                    |1    |\n",
      "|Scream                            |1    |\n",
      "+----------------------------------+-----+\n",
      "\n"
     ]
    }
   ],
   "source": [
    "sql_query = \"SELECT tsg.title, count(*) as count \" \\\n",
    "            \"FROM tmp_songplays AS tss \" \\\n",
    "            \"JOIN tmp_song AS tsg \"  \\\n",
    "            \"ON tsg.song_id=tss.song_id \" \\\n",
    "            \"WHERE tss.song_id NOT LIKE 'NONE' AND tss.song_id NOT LIKE 'Adjustment' \" \\\n",
    "            \"GROUP BY tsg.title \" \\\n",
    "            \"ORDER BY count DESC \" \\\n",
    "            \"LIMIT 10\"\n",
    "\n",
    "df6 = spark.sql(sql_query)\n",
    "df6.show(10, False)"
   ]
  },
  {
   "cell_type": "code",
   "execution_count": 40,
   "metadata": {},
   "outputs": [
    {
     "data": {
      "text/html": [
       "\n",
       "\n",
       "\n",
       "\n",
       "\n",
       "\n",
       "  <div class=\"bk-root\" id=\"1f93f146-3b36-4f35-be1e-f8a0c1e884d9\" data-root-id=\"1223\"></div>\n"
      ]
     },
     "metadata": {},
     "output_type": "display_data"
    },
    {
     "data": {
      "application/javascript": [
       "(function(root) {\n",
       "  function embed_document(root) {\n",
       "    \n",
       "  var docs_json = {\"d9202ac1-5172-4899-81ae-27ff7aad1083\":{\"roots\":{\"references\":[{\"attributes\":{\"below\":[{\"id\":\"1232\",\"type\":\"LinearAxis\"}],\"center\":[{\"id\":\"1236\",\"type\":\"Grid\"},{\"id\":\"1240\",\"type\":\"Grid\"}],\"left\":[{\"id\":\"1237\",\"type\":\"CategoricalAxis\"}],\"min_border\":0,\"plot_height\":375,\"plot_width\":750,\"renderers\":[{\"id\":\"1259\",\"type\":\"GlyphRenderer\"}],\"title\":{\"id\":\"1261\",\"type\":\"Title\"},\"toolbar\":{\"id\":\"1248\",\"type\":\"Toolbar\"},\"x_range\":{\"id\":\"1224\",\"type\":\"DataRange1d\"},\"x_scale\":{\"id\":\"1228\",\"type\":\"LinearScale\"},\"y_range\":{\"id\":\"1226\",\"type\":\"FactorRange\"},\"y_scale\":{\"id\":\"1230\",\"type\":\"CategoricalScale\"}},\"id\":\"1223\",\"subtype\":\"Figure\",\"type\":\"Plot\"},{\"attributes\":{\"fill_alpha\":{\"value\":0.1},\"fill_color\":{\"value\":\"#1f77b4\"},\"height\":{\"value\":0.9},\"line_alpha\":{\"value\":0.1},\"line_color\":{\"value\":\"#1f77b4\"},\"right\":{\"field\":\"count\"},\"y\":{\"field\":\"title\"}},\"id\":\"1258\",\"type\":\"HBar\"},{\"attributes\":{},\"id\":\"1283\",\"type\":\"BasicTickFormatter\"},{\"attributes\":{\"axis_label\":\"Total title listen\",\"formatter\":{\"id\":\"1283\",\"type\":\"BasicTickFormatter\"},\"ticker\":{\"id\":\"1233\",\"type\":\"BasicTicker\"}},\"id\":\"1232\",\"type\":\"LinearAxis\"},{\"attributes\":{},\"id\":\"1286\",\"type\":\"UnionRenderers\"},{\"attributes\":{\"data_source\":{\"id\":\"1222\",\"type\":\"ColumnDataSource\"},\"glyph\":{\"id\":\"1257\",\"type\":\"HBar\"},\"hover_glyph\":null,\"muted_glyph\":null,\"nonselection_glyph\":{\"id\":\"1258\",\"type\":\"HBar\"},\"selection_glyph\":null,\"view\":{\"id\":\"1260\",\"type\":\"CDSView\"}},\"id\":\"1259\",\"type\":\"GlyphRenderer\"},{\"attributes\":{\"text\":\"Top title\"},\"id\":\"1261\",\"type\":\"Title\"},{\"attributes\":{},\"id\":\"1287\",\"type\":\"Selection\"},{\"attributes\":{\"bottom_units\":\"screen\",\"fill_alpha\":{\"value\":0.5},\"fill_color\":{\"value\":\"lightgrey\"},\"left_units\":\"screen\",\"level\":\"overlay\",\"line_alpha\":{\"value\":1.0},\"line_color\":{\"value\":\"black\"},\"line_dash\":[4,4],\"line_width\":{\"value\":2},\"render_mode\":\"css\",\"right_units\":\"screen\",\"top_units\":\"screen\"},\"id\":\"1285\",\"type\":\"BoxAnnotation\"},{\"attributes\":{\"callback\":null,\"data\":{\"count\":[4,2,1,1,1,1],\"index\":[0,1,2,3,4,5],\"title\":[\"Into The Nightlife\",\"It's About Time\",\"The Last Beat Of My Heart (b-side)\",\"Indian Angel\",\"Face the Ashes\",\"Scream\"]},\"selected\":{\"id\":\"1287\",\"type\":\"Selection\"},\"selection_policy\":{\"id\":\"1286\",\"type\":\"UnionRenderers\"}},\"id\":\"1222\",\"type\":\"ColumnDataSource\"},{\"attributes\":{},\"id\":\"1230\",\"type\":\"CategoricalScale\"},{\"attributes\":{},\"id\":\"1246\",\"type\":\"HelpTool\"},{\"attributes\":{},\"id\":\"1281\",\"type\":\"CategoricalTickFormatter\"},{\"attributes\":{},\"id\":\"1233\",\"type\":\"BasicTicker\"},{\"attributes\":{\"fill_color\":{\"value\":\"#1f77b4\"},\"height\":{\"value\":0.9},\"line_color\":{\"value\":\"#1f77b4\"},\"right\":{\"field\":\"count\"},\"y\":{\"field\":\"title\"}},\"id\":\"1257\",\"type\":\"HBar\"},{\"attributes\":{\"source\":{\"id\":\"1222\",\"type\":\"ColumnDataSource\"}},\"id\":\"1260\",\"type\":\"CDSView\"},{\"attributes\":{},\"id\":\"1228\",\"type\":\"LinearScale\"},{\"attributes\":{\"callback\":null},\"id\":\"1224\",\"type\":\"DataRange1d\"},{\"attributes\":{},\"id\":\"1241\",\"type\":\"PanTool\"},{\"attributes\":{\"axis_label\":\"title\",\"formatter\":{\"id\":\"1281\",\"type\":\"CategoricalTickFormatter\"},\"ticker\":{\"id\":\"1238\",\"type\":\"CategoricalTicker\"}},\"id\":\"1237\",\"type\":\"CategoricalAxis\"},{\"attributes\":{},\"id\":\"1245\",\"type\":\"ResetTool\"},{\"attributes\":{\"active_drag\":\"auto\",\"active_inspect\":\"auto\",\"active_multi\":null,\"active_scroll\":\"auto\",\"active_tap\":\"auto\",\"tools\":[{\"id\":\"1241\",\"type\":\"PanTool\"},{\"id\":\"1242\",\"type\":\"WheelZoomTool\"},{\"id\":\"1243\",\"type\":\"BoxZoomTool\"},{\"id\":\"1244\",\"type\":\"SaveTool\"},{\"id\":\"1245\",\"type\":\"ResetTool\"},{\"id\":\"1246\",\"type\":\"HelpTool\"},{\"id\":\"1247\",\"type\":\"HoverTool\"}]},\"id\":\"1248\",\"type\":\"Toolbar\"},{\"attributes\":{},\"id\":\"1242\",\"type\":\"WheelZoomTool\"},{\"attributes\":{},\"id\":\"1244\",\"type\":\"SaveTool\"},{\"attributes\":{\"dimension\":1,\"ticker\":{\"id\":\"1238\",\"type\":\"CategoricalTicker\"}},\"id\":\"1240\",\"type\":\"Grid\"},{\"attributes\":{\"callback\":null,\"factors\":[\"Scream\",\"Face the Ashes\",\"Indian Angel\",\"The Last Beat Of My Heart (b-side)\",\"It's About Time\",\"Into The Nightlife\"]},\"id\":\"1226\",\"type\":\"FactorRange\"},{\"attributes\":{\"ticker\":{\"id\":\"1233\",\"type\":\"BasicTicker\"}},\"id\":\"1236\",\"type\":\"Grid\"},{\"attributes\":{\"overlay\":{\"id\":\"1285\",\"type\":\"BoxAnnotation\"}},\"id\":\"1243\",\"type\":\"BoxZoomTool\"},{\"attributes\":{\"callback\":null,\"tooltips\":[[\"title\",\"@title\"],[\"count\",\"@{count}{,}\"]]},\"id\":\"1247\",\"type\":\"HoverTool\"},{\"attributes\":{},\"id\":\"1238\",\"type\":\"CategoricalTicker\"}],\"root_ids\":[\"1223\"]},\"title\":\"Bokeh Application\",\"version\":\"1.4.0\"}};\n",
       "  var render_items = [{\"docid\":\"d9202ac1-5172-4899-81ae-27ff7aad1083\",\"roots\":{\"1223\":\"1f93f146-3b36-4f35-be1e-f8a0c1e884d9\"}}];\n",
       "  root.Bokeh.embed.embed_items_notebook(docs_json, render_items);\n",
       "\n",
       "  }\n",
       "  if (root.Bokeh !== undefined) {\n",
       "    embed_document(root);\n",
       "  } else {\n",
       "    var attempts = 0;\n",
       "    var timer = setInterval(function(root) {\n",
       "      if (root.Bokeh !== undefined) {\n",
       "        clearInterval(timer);\n",
       "        embed_document(root);\n",
       "      } else {\n",
       "        attempts++;\n",
       "        if (attempts > 100) {\n",
       "          clearInterval(timer);\n",
       "          console.log(\"Bokeh: ERROR: Unable to run BokehJS code because BokehJS library is missing\");\n",
       "        }\n",
       "      }\n",
       "    }, 10, root)\n",
       "  }\n",
       "})(window);"
      ],
      "application/vnd.bokehjs_exec.v0+json": ""
     },
     "metadata": {
      "application/vnd.bokehjs_exec.v0+json": {
       "id": "1223"
      }
     },
     "output_type": "display_data"
    }
   ],
   "source": [
    "source = ColumnDataSource(data=df6.toPandas())\n",
    "tooltips = [('title', '@title'), ('count', '@{count}{,}')]\n",
    "items = source.data['title'].tolist()\n",
    "items.reverse()\n",
    "plot = figure(y_range=items,\n",
    "              plot_width=750,\n",
    "              plot_height=375,\n",
    "              min_border=0,\n",
    "              tooltips=tooltips)\n",
    "plot.hbar(y='title', right='count', height=.9, source=source)\n",
    "plot.title.text = 'Top title'\n",
    "plot.yaxis.axis_label = 'title'\n",
    "plot.xaxis.axis_label = 'Total title listen'\n",
    "\n",
    "show(plot)"
   ]
  },
  {
   "cell_type": "code",
   "execution_count": 41,
   "metadata": {},
   "outputs": [
    {
     "name": "stdout",
     "output_type": "stream",
     "text": [
      "DataFrame rows: 10\n",
      "+----------+-----+-------------+\n",
      "|      date|count|hourly_period|\n",
      "+----------+-----+-------------+\n",
      "|2018-11-16|    1|           20|\n",
      "|2018-11-05|    1|           20|\n",
      "|2018-11-15|    1|           20|\n",
      "|2018-11-21|    1|           20|\n",
      "|2018-11-28|    1|           20|\n",
      "|2018-11-30|    1|           20|\n",
      "|2018-11-06|    1|           20|\n",
      "|2018-11-27|    1|           20|\n",
      "|2018-11-19|    1|           20|\n",
      "|2018-11-20|    1|           20|\n",
      "+----------+-----+-------------+\n",
      "\n",
      "None\n"
     ]
    }
   ],
   "source": [
    "songplays_table.createOrReplaceTempView('tmp_songplays')\n",
    "\n",
    "df2 = spark.sql(\"SELECT DATE(start_time) AS date, count(*) as count \" + \"FROM tmp_songplays \" +\n",
    "                \"GROUP BY date \" + \"ORDER BY count\")\n",
    "\n",
    "print('DataFrame rows: %d' % df2.count())\n",
    "\n",
    "df3 = df2.withColumn(\"hourly_period\", df2['date'].substr(1, 2))\n",
    "\n",
    "print(df3.show(10))"
   ]
  },
  {
   "cell_type": "code",
   "execution_count": null,
   "metadata": {},
   "outputs": [],
   "source": []
  },
  {
   "cell_type": "code",
   "execution_count": null,
   "metadata": {},
   "outputs": [],
   "source": []
  }
 ],
 "metadata": {
  "kernelspec": {
   "display_name": "Python 3",
   "language": "python",
   "name": "python3"
  },
  "language_info": {
   "codemirror_mode": {
    "name": "ipython",
    "version": 3
   },
   "file_extension": ".py",
   "mimetype": "text/x-python",
   "name": "python",
   "nbconvert_exporter": "python",
   "pygments_lexer": "ipython3",
   "version": "3.7.6"
  }
 },
 "nbformat": 4,
 "nbformat_minor": 4
}
